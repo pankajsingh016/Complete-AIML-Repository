{
 "cells": [
  {
   "cell_type": "code",
   "execution_count": 1,
   "id": "36140faa",
   "metadata": {},
   "outputs": [],
   "source": [
    "import tensorflow as tf"
   ]
  },
  {
   "cell_type": "code",
   "execution_count": 2,
   "id": "be2649a2",
   "metadata": {},
   "outputs": [
    {
     "name": "stdout",
     "output_type": "stream",
     "text": [
      "2.16.1\n"
     ]
    }
   ],
   "source": [
    "print(tf.__version__)"
   ]
  },
  {
   "cell_type": "markdown",
   "id": "d24ec3e0",
   "metadata": {},
   "source": [
    "#### Tensor Constant"
   ]
  },
  {
   "cell_type": "code",
   "execution_count": 3,
   "id": "79443f4e",
   "metadata": {},
   "outputs": [
    {
     "data": {
      "text/plain": [
       "<tf.Tensor: shape=(), dtype=int32, numpy=42>"
      ]
     },
     "execution_count": 3,
     "metadata": {},
     "output_type": "execute_result"
    }
   ],
   "source": [
    "tf_const = tf.constant(42)\n",
    "tf_const"
   ]
  },
  {
   "cell_type": "code",
   "execution_count": 4,
   "id": "877a5038",
   "metadata": {},
   "outputs": [
    {
     "data": {
      "text/plain": [
       "<tf.Tensor: shape=(), dtype=int64, numpy=1>"
      ]
     },
     "execution_count": 4,
     "metadata": {},
     "output_type": "execute_result"
    }
   ],
   "source": [
    "tf_const_1 = tf.constant(1,dtype=tf.int64)\n",
    "tf_const_1"
   ]
  },
  {
   "cell_type": "code",
   "execution_count": 5,
   "id": "24f8f3d4",
   "metadata": {},
   "outputs": [
    {
     "name": "stdout",
     "output_type": "stream",
     "text": [
      "tf.Tensor(\n",
      "[[4 2]\n",
      " [9 5]], shape=(2, 2), dtype=int32)\n"
     ]
    }
   ],
   "source": [
    "tf_const_x = tf.constant([[4,2],[9,5]])\n",
    "print(tf_const_x)"
   ]
  },
  {
   "cell_type": "code",
   "execution_count": 6,
   "id": "407f3d82",
   "metadata": {},
   "outputs": [
    {
     "name": "stdout",
     "output_type": "stream",
     "text": [
      "(2, 2)\n",
      "()\n",
      "()\n"
     ]
    }
   ],
   "source": [
    "print(tf_const_x.shape)\n",
    "print(tf_const.shape)\n",
    "print(tf_const_1.shape)"
   ]
  },
  {
   "cell_type": "markdown",
   "id": "54556fdf",
   "metadata": {},
   "source": [
    "Commonly used method is to generate constant tf.ones and tf.zeros like of numpy np.ones and  np.zeros"
   ]
  },
  {
   "cell_type": "code",
   "execution_count": 7,
   "id": "fe72adef",
   "metadata": {},
   "outputs": [
    {
     "name": "stdout",
     "output_type": "stream",
     "text": [
      "tf.Tensor(\n",
      "[[1. 1. 1.]\n",
      " [1. 1. 1.]], shape=(2, 3), dtype=float32)\n"
     ]
    }
   ],
   "source": [
    "print(tf.ones(shape=(2,3)))"
   ]
  },
  {
   "cell_type": "code",
   "execution_count": 8,
   "id": "31d0198a",
   "metadata": {},
   "outputs": [
    {
     "name": "stdout",
     "output_type": "stream",
     "text": [
      "tf.Tensor(\n",
      "[[0. 0.]\n",
      " [0. 0.]\n",
      " [0. 0.]], shape=(3, 2), dtype=float32)\n"
     ]
    }
   ],
   "source": [
    "print(tf.zeros(shape=(3,2)))"
   ]
  },
  {
   "cell_type": "code",
   "execution_count": 9,
   "id": "886cd615",
   "metadata": {},
   "outputs": [
    {
     "name": "stdout",
     "output_type": "stream",
     "text": [
      "tf.Tensor(\n",
      "[[4 6 8]\n",
      " [4 6 8]], shape=(2, 3), dtype=int32)\n"
     ]
    }
   ],
   "source": [
    "import tensorflow as tf\n",
    "\n",
    "const1 = tf.constant([[1,2,3],[1,2,3]])\n",
    "const2 = tf.constant([[3,4,5],[3,4,5]])\n",
    "result = tf.add(const1,const2)\n",
    "print(result)"
   ]
  },
  {
   "cell_type": "markdown",
   "id": "af816350",
   "metadata": {},
   "source": [
    "#### Random Constant"
   ]
  },
  {
   "cell_type": "code",
   "execution_count": 10,
   "id": "251e9b7b",
   "metadata": {},
   "outputs": [
    {
     "data": {
      "text/plain": [
       "<tf.Tensor: shape=(2, 2), dtype=float32, numpy=\n",
       "array([[ 0.64951336,  0.0491032 ],\n",
       "       [-0.35349748, -0.1206889 ]], dtype=float32)>"
      ]
     },
     "execution_count": 10,
     "metadata": {},
     "output_type": "execute_result"
    }
   ],
   "source": [
    "tf.random.normal(shape=(2,2),mean=0,stddev=1.0)"
   ]
  },
  {
   "cell_type": "code",
   "execution_count": 11,
   "id": "a56e152e",
   "metadata": {},
   "outputs": [
    {
     "data": {
      "text/plain": [
       "<tf.Tensor: shape=(2, 2), dtype=int32, numpy=\n",
       "array([[1, 1],\n",
       "       [8, 4]])>"
      ]
     },
     "execution_count": 11,
     "metadata": {},
     "output_type": "execute_result"
    }
   ],
   "source": [
    "tf.random.uniform(shape=(2,2),minval=0, maxval=10,dtype=tf.int32)"
   ]
  },
  {
   "cell_type": "code",
   "execution_count": 12,
   "id": "82e5bbe4",
   "metadata": {},
   "outputs": [
    {
     "data": {
      "text/plain": [
       "(24,\n",
       " <tf.Variable 'Variable:0' shape=() dtype=int32, numpy=42>,\n",
       " <tf.Variable 'Variable:0' shape=(4, 3) dtype=int32, numpy=\n",
       " array([[ 0,  1,  2],\n",
       "        [ 3,  4,  5],\n",
       "        [ 6,  7,  8],\n",
       "        [ 9, 10, 11]])>)"
      ]
     },
     "execution_count": 12,
     "metadata": {},
     "output_type": "execute_result"
    }
   ],
   "source": [
    "# Variable\n",
    "# A special tensor that is used to store variable values and needs to be initialized with some values\n",
    "\n",
    "# Declaring variables\n",
    "var0 = 24\n",
    "var1 = tf.Variable(42)\n",
    "var2 = tf.Variable([[0,1,2],[3,4,5],[6,7,8],[9,10,11]])\n",
    "var0,var1,var2"
   ]
  },
  {
   "cell_type": "code",
   "execution_count": 13,
   "id": "6c4b940a",
   "metadata": {},
   "outputs": [
    {
     "data": {
      "text/plain": [
       "tf.float64"
      ]
     },
     "execution_count": 13,
     "metadata": {},
     "output_type": "execute_result"
    }
   ],
   "source": [
    "float_var64 = tf.Variable(89,dtype= tf.float64)\n",
    "float_var64.dtype"
   ]
  },
  {
   "cell_type": "code",
   "execution_count": 14,
   "id": "d9a8d007",
   "metadata": {},
   "outputs": [
    {
     "data": {
      "text/plain": [
       "<tf.Variable 'Variable:0' shape=() dtype=int32, numpy=89>"
      ]
     },
     "execution_count": 14,
     "metadata": {},
     "output_type": "execute_result"
    }
   ],
   "source": [
    "var_reassign = tf.Variable(89)\n",
    "var_reassign"
   ]
  },
  {
   "cell_type": "code",
   "execution_count": 15,
   "id": "c2c540af",
   "metadata": {},
   "outputs": [
    {
     "data": {
      "text/plain": [
       "<tf.Variable 'Variable:0' shape=() dtype=int32, numpy=99>"
      ]
     },
     "execution_count": 15,
     "metadata": {},
     "output_type": "execute_result"
    }
   ],
   "source": [
    "var_reassign.assign(99)\n",
    "var_reassign"
   ]
  },
  {
   "cell_type": "code",
   "execution_count": 16,
   "id": "3936c191",
   "metadata": {},
   "outputs": [
    {
     "name": "stdout",
     "output_type": "stream",
     "text": [
      "<tf.Variable 'Variable:0' shape=(2, 2) dtype=float32, numpy=\n",
      "array([[0.34570026, 1.6046438 ],\n",
      "       [0.8677049 , 0.9635867 ]], dtype=float32)>\n"
     ]
    }
   ],
   "source": [
    "initial_value = tf.random.normal(shape=(2,2))\n",
    "a = tf.Variable(initial_value)\n",
    "print(a)"
   ]
  },
  {
   "cell_type": "code",
   "execution_count": 17,
   "id": "37e4a1f3",
   "metadata": {},
   "outputs": [
    {
     "data": {
      "text/plain": [
       "<tf.Variable 'UnreadVariable' shape=(2, 2) dtype=float32, numpy=\n",
       "array([[-0.30995533, -2.3634913 ],\n",
       "       [-1.5973351 , -1.2289274 ]], dtype=float32)>"
      ]
     },
     "execution_count": 17,
     "metadata": {},
     "output_type": "execute_result"
    }
   ],
   "source": [
    "new_value = tf.random.normal(shape=(2,2))\n",
    "a.assign(new_value)"
   ]
  },
  {
   "cell_type": "code",
   "execution_count": 18,
   "id": "6c79c3b1",
   "metadata": {},
   "outputs": [
    {
     "name": "stdout",
     "output_type": "stream",
     "text": [
      "<tf.Variable 'Variable:0' shape=(2, 2) dtype=float32, numpy=\n",
      "array([[ 0.6786984, -1.3770669],\n",
      "       [-0.8122605, -0.8850707]], dtype=float32)>\n"
     ]
    }
   ],
   "source": [
    "added_value = tf.random.normal(shape=(2,2))\n",
    "a.assign_add(added_value)\n",
    "\n",
    "print(a)"
   ]
  },
  {
   "cell_type": "markdown",
   "id": "9653ca1d",
   "metadata": {},
   "source": [
    "#### Tensor shaping"
   ]
  },
  {
   "cell_type": "code",
   "execution_count": 24,
   "id": "b7ffd3ad",
   "metadata": {},
   "outputs": [
    {
     "name": "stdout",
     "output_type": "stream",
     "text": [
      "(4, 3)\n"
     ]
    }
   ],
   "source": [
    "tensor = tf.Variable([[0,1,2],[1,4,5],[6,7,8],[9,10,11]])\n",
    "print(tensor.shape)"
   ]
  },
  {
   "cell_type": "code",
   "execution_count": 20,
   "id": "f670ce2a",
   "metadata": {},
   "outputs": [
    {
     "data": {
      "text/plain": [
       "<tf.Tensor: shape=(2, 6), dtype=int32, numpy=\n",
       "array([[ 0,  1,  2,  1,  4,  5],\n",
       "       [ 6,  7,  8,  9, 10, 11]])>"
      ]
     },
     "execution_count": 20,
     "metadata": {},
     "output_type": "execute_result"
    }
   ],
   "source": [
    "tensor1 = tf.reshape(tensor,[2,6])\n",
    "tensor2 = tf.reshape(tensor,[1,12])\n",
    "tensor1"
   ]
  },
  {
   "cell_type": "code",
   "execution_count": 21,
   "id": "47f88fd0",
   "metadata": {},
   "outputs": [
    {
     "data": {
      "text/plain": [
       "<tf.Tensor: shape=(1, 12), dtype=int32, numpy=array([[ 0,  1,  2,  1,  4,  5,  6,  7,  8,  9, 10, 11]])>"
      ]
     },
     "execution_count": 21,
     "metadata": {},
     "output_type": "execute_result"
    }
   ],
   "source": [
    "tensor2"
   ]
  },
  {
   "cell_type": "markdown",
   "id": "dccaa61c",
   "metadata": {},
   "source": [
    "#### Rank of a tensor\n",
    "The rank of a tensor is the number of dimensions it has, that is, the number of indices that are required to specify any particular element of that tensor"
   ]
  },
  {
   "cell_type": "code",
   "execution_count": 25,
   "id": "a83bf25a",
   "metadata": {},
   "outputs": [
    {
     "data": {
      "text/plain": [
       "<tf.Tensor: shape=(), dtype=int32, numpy=2>"
      ]
     },
     "execution_count": 25,
     "metadata": {},
     "output_type": "execute_result"
    }
   ],
   "source": [
    "tf.rank(tensor)"
   ]
  },
  {
   "cell_type": "code",
   "execution_count": 27,
   "id": "e88cf2c6",
   "metadata": {},
   "outputs": [
    {
     "data": {
      "text/plain": [
       "<tf.Tensor: shape=(), dtype=int32, numpy=2>"
      ]
     },
     "execution_count": 27,
     "metadata": {},
     "output_type": "execute_result"
    }
   ],
   "source": [
    "tensor3 = tensor[0,2]\n",
    "tensor3"
   ]
  },
  {
   "cell_type": "code",
   "execution_count": 28,
   "id": "9ac3a022",
   "metadata": {},
   "outputs": [
    {
     "name": "stdout",
     "output_type": "stream",
     "text": [
      "[[ 0  1  2]\n",
      " [ 1  4  5]\n",
      " [ 6  7  8]\n",
      " [ 9 10 11]]\n"
     ]
    }
   ],
   "source": [
    "# Casting tensor to numpy or python variable\n",
    "print(tensor.numpy())"
   ]
  },
  {
   "cell_type": "code",
   "execution_count": 29,
   "id": "24e7898f",
   "metadata": {},
   "outputs": [
    {
     "name": "stdout",
     "output_type": "stream",
     "text": [
      "2\n"
     ]
    }
   ],
   "source": [
    "print(tensor[0,2].numpy())"
   ]
  },
  {
   "cell_type": "code",
   "execution_count": 30,
   "id": "2427c799",
   "metadata": {},
   "outputs": [
    {
     "data": {
      "text/plain": [
       "12"
      ]
     },
     "execution_count": 30,
     "metadata": {},
     "output_type": "execute_result"
    }
   ],
   "source": [
    "# Finding the size (number of elements ) of a tensor\n",
    "tensor_size = tf.size(input=tensor).numpy()\n",
    "tensor_size"
   ]
  },
  {
   "cell_type": "code",
   "execution_count": 31,
   "id": "07cbef6a",
   "metadata": {},
   "outputs": [
    {
     "data": {
      "text/plain": [
       "tf.int32"
      ]
     },
     "execution_count": 31,
     "metadata": {},
     "output_type": "execute_result"
    }
   ],
   "source": [
    "tensor3.dtype"
   ]
  },
  {
   "cell_type": "code",
   "execution_count": 32,
   "id": "4ff4ee19",
   "metadata": {},
   "outputs": [
    {
     "name": "stdout",
     "output_type": "stream",
     "text": [
      "tf.Tensor(\n",
      "[[ 1.6016151  -0.5064629 ]\n",
      " [-0.50865984 -0.8149452 ]], shape=(2, 2), dtype=float32)\n",
      "tf.Tensor(\n",
      "[[ 1.916842   -1.1450461 ]\n",
      " [-0.61893576 -2.5319867 ]], shape=(2, 2), dtype=float32)\n",
      "tf.Tensor(\n",
      "[[ 3.518457  -1.651509 ]\n",
      " [-1.1275957 -3.346932 ]], shape=(2, 2), dtype=float32)\n",
      "tf.Tensor(\n",
      "[[12.3795395  2.727482 ]\n",
      " [ 1.271472  11.201953 ]], shape=(2, 2), dtype=float32)\n",
      "tf.Tensor(\n",
      "[[33.732338    0.19176032]\n",
      " [ 0.32381088  0.03519216]], shape=(2, 2), dtype=float32)\n"
     ]
    }
   ],
   "source": [
    "# mathematical operations\n",
    "a = tf.random.normal(shape=(2,2))\n",
    "b = tf.random.normal(shape=(2,2))\n",
    "c = a + b\n",
    "d = tf.square(c)\n",
    "e = tf.exp(c)\n",
    "print(a)\n",
    "print(b)\n",
    "print(c)\n",
    "print(d)\n",
    "print(e)"
   ]
  },
  {
   "cell_type": "code",
   "execution_count": 33,
   "id": "2e1d3f06",
   "metadata": {},
   "outputs": [
    {
     "data": {
      "text/plain": [
       "<tf.Tensor: shape=(4, 3), dtype=int32, numpy=\n",
       "array([[  0,   1,   4],\n",
       "       [  1,  16,  25],\n",
       "       [ 36,  49,  64],\n",
       "       [ 81, 100, 121]])>"
      ]
     },
     "execution_count": 33,
     "metadata": {},
     "output_type": "execute_result"
    }
   ],
   "source": [
    "tensor*tensor"
   ]
  },
  {
   "cell_type": "code",
   "execution_count": 34,
   "id": "14b7c9ae",
   "metadata": {},
   "outputs": [
    {
     "name": "stdout",
     "output_type": "stream",
     "text": [
      "<tf.Variable 'Variable:0' shape=(4, 3) dtype=int32, numpy=\n",
      "array([[ 0,  1,  2],\n",
      "       [ 1,  4,  5],\n",
      "       [ 6,  7,  8],\n",
      "       [ 9, 10, 11]])>\n"
     ]
    }
   ],
   "source": [
    "tensor4 = tensor*4\n",
    "print(tensor)"
   ]
  },
  {
   "cell_type": "code",
   "execution_count": 35,
   "id": "bcc81a27",
   "metadata": {},
   "outputs": [
    {
     "name": "stdout",
     "output_type": "stream",
     "text": [
      "tf.Tensor(\n",
      "[[ 0  4  8]\n",
      " [ 4 16 20]\n",
      " [24 28 32]\n",
      " [36 40 44]], shape=(4, 3), dtype=int32)\n"
     ]
    }
   ],
   "source": [
    "print(tensor4)"
   ]
  },
  {
   "cell_type": "code",
   "execution_count": 36,
   "id": "ba26da37",
   "metadata": {},
   "outputs": [
    {
     "data": {
      "text/plain": [
       "<tf.Tensor: shape=(1, 1), dtype=int32, numpy=array([[16]])>"
      ]
     },
     "execution_count": 36,
     "metadata": {},
     "output_type": "execute_result"
    }
   ],
   "source": [
    "# Transpose of Matrix \n",
    "matrix_u = tf.constant([[3,4,5]])\n",
    "matrix_v = tf.constant([[1,2,1]])\n",
    "\n",
    "tf.matmul(matrix_u,tf.transpose(a=matrix_v))"
   ]
  },
  {
   "cell_type": "code",
   "execution_count": 37,
   "id": "a7320f0d",
   "metadata": {},
   "outputs": [
    {
     "data": {
      "text/plain": [
       "<tf.Tensor: shape=(2, 6), dtype=int32, numpy=\n",
       "array([[ 0,  1,  2,  1,  4,  5],\n",
       "       [ 6,  7,  8,  9, 10, 11]])>"
      ]
     },
     "execution_count": 37,
     "metadata": {},
     "output_type": "execute_result"
    }
   ],
   "source": [
    "tf.cast(tensor1, dtype=tf.int32)"
   ]
  },
  {
   "cell_type": "code",
   "execution_count": 38,
   "id": "ecf9b564",
   "metadata": {},
   "outputs": [
    {
     "data": {
      "text/plain": [
       "<tf.Tensor: shape=(), dtype=int32, numpy=4>"
      ]
     },
     "execution_count": 38,
     "metadata": {},
     "output_type": "execute_result"
    }
   ],
   "source": [
    "j = tf.cast(tf.constant(4.9),dtype=tf.int32)\n",
    "j"
   ]
  },
  {
   "cell_type": "code",
   "execution_count": 39,
   "id": "3f77d54a",
   "metadata": {},
   "outputs": [
    {
     "name": "stdout",
     "output_type": "stream",
     "text": [
      "<tf.RaggedTensor [[5, 2, 6, 7], [], [4, 10, 7], [8], [6, 7]]>\n",
      "tf.Tensor([5 2 6 7], shape=(4,), dtype=int32)\n",
      "tf.Tensor([], shape=(0,), dtype=int32)\n",
      "tf.Tensor([ 4 10  7], shape=(3,), dtype=int32)\n",
      "tf.Tensor([8], shape=(1,), dtype=int32)\n",
      "tf.Tensor([6 7], shape=(2,), dtype=int32)\n"
     ]
    }
   ],
   "source": [
    "## Ragged Tensor tensor with varying dimensions\n",
    "\n",
    "ragged = tf.ragged.constant([[5,2,6,7],[],[4,10,7],[8],[6,7]])\n",
    "print(ragged)\n",
    "print(ragged[0,:])\n",
    "print(ragged[1,:])\n",
    "print(ragged[2,:])\n",
    "print(ragged[3,:])\n",
    "print(ragged[4,:])"
   ]
  },
  {
   "cell_type": "code",
   "execution_count": 40,
   "id": "b052d5d0",
   "metadata": {},
   "outputs": [
    {
     "data": {
      "text/plain": [
       "<tf.Tensor: shape=(5,), dtype=int32, numpy=array([16,  4,  0,  4, 36])>"
      ]
     },
     "execution_count": 40,
     "metadata": {},
     "output_type": "execute_result"
    }
   ],
   "source": [
    "varx = [1,3,5,7,11]\n",
    "vary = 5\n",
    "varz = tf.math.squared_difference(varx,vary)\n",
    "varz"
   ]
  },
  {
   "cell_type": "code",
   "execution_count": 41,
   "id": "75236ef0",
   "metadata": {},
   "outputs": [],
   "source": [
    "# Reduced mean column vise or particular row wise\n",
    "numbers = tf.constant([[4.,5.],[7.,3.]])"
   ]
  },
  {
   "cell_type": "code",
   "execution_count": 42,
   "id": "6c2f4b03",
   "metadata": {},
   "outputs": [
    {
     "data": {
      "text/plain": [
       "<tf.Tensor: shape=(), dtype=float32, numpy=4.75>"
      ]
     },
     "execution_count": 42,
     "metadata": {},
     "output_type": "execute_result"
    }
   ],
   "source": [
    "tf.reduce_mean(input_tensor=numbers)"
   ]
  },
  {
   "cell_type": "code",
   "execution_count": 43,
   "id": "b64d48e0",
   "metadata": {},
   "outputs": [
    {
     "data": {
      "text/plain": [
       "<tf.Tensor: shape=(2,), dtype=float32, numpy=array([5.5, 4. ], dtype=float32)>"
      ]
     },
     "execution_count": 43,
     "metadata": {},
     "output_type": "execute_result"
    }
   ],
   "source": [
    "tf.reduce_mean(input_tensor=numbers, axis=0) #across columns"
   ]
  },
  {
   "cell_type": "code",
   "execution_count": 45,
   "id": "25b92745",
   "metadata": {},
   "outputs": [
    {
     "data": {
      "text/plain": [
       "<tf.Tensor: shape=(1, 2), dtype=float32, numpy=array([[5.5, 4. ]], dtype=float32)>"
      ]
     },
     "execution_count": 45,
     "metadata": {},
     "output_type": "execute_result"
    }
   ],
   "source": [
    "# keep dims = true\n",
    "tf.reduce_mean(input_tensor=numbers, axis=0, keepdims=True)"
   ]
  },
  {
   "cell_type": "code",
   "execution_count": 46,
   "id": "78e791f6",
   "metadata": {},
   "outputs": [
    {
     "data": {
      "text/plain": [
       "<tf.Tensor: shape=(2, 1), dtype=float32, numpy=\n",
       "array([[4.5],\n",
       "       [5. ]], dtype=float32)>"
      ]
     },
     "execution_count": 46,
     "metadata": {},
     "output_type": "execute_result"
    }
   ],
   "source": [
    "tf.reduce_mean(input_tensor=numbers, axis=1, keepdims=True)"
   ]
  },
  {
   "cell_type": "code",
   "execution_count": 47,
   "id": "ae1f0856",
   "metadata": {},
   "outputs": [
    {
     "name": "stdout",
     "output_type": "stream",
     "text": [
      "tf.Tensor(\n",
      "[[ 7.3543253 11.950684 ]\n",
      " [ 9.027794   9.056572 ]\n",
      " [12.937788  10.579503 ]], shape=(3, 2), dtype=float32)\n"
     ]
    }
   ],
   "source": [
    "## Generating tensors with random value\n",
    "tf.random.normal(shape=(3,2),mean=10,stddev=2, dtype=tf.float32, seed=None, name=None)\n",
    "ran = tf.random.normal(shape=(3,2),mean=10,stddev=2.0)\n",
    "print(ran)"
   ]
  },
  {
   "cell_type": "code",
   "execution_count": 48,
   "id": "6ca2ebb4",
   "metadata": {},
   "outputs": [
    {
     "data": {
      "text/plain": [
       "<tf.Tensor: shape=(2, 4), dtype=float32, numpy=\n",
       "array([[0.9489776 , 0.57078695, 0.9834596 , 0.20210135],\n",
       "       [0.78473675, 0.63233864, 0.29253602, 0.5549842 ]], dtype=float32)>"
      ]
     },
     "execution_count": 48,
     "metadata": {},
     "output_type": "execute_result"
    }
   ],
   "source": [
    "tf.random.uniform(shape=(2,4),minval=0, maxval=None, dtype=tf.float32, seed=None, name=None)"
   ]
  },
  {
   "cell_type": "code",
   "execution_count": null,
   "id": "3ee37333",
   "metadata": {},
   "outputs": [],
   "source": []
  }
 ],
 "metadata": {
  "kernelspec": {
   "display_name": "ev",
   "language": "python",
   "name": "python3"
  },
  "language_info": {
   "codemirror_mode": {
    "name": "ipython",
    "version": 3
   },
   "file_extension": ".py",
   "mimetype": "text/x-python",
   "name": "python",
   "nbconvert_exporter": "python",
   "pygments_lexer": "ipython3",
   "version": "3.11.8"
  }
 },
 "nbformat": 4,
 "nbformat_minor": 5
}
