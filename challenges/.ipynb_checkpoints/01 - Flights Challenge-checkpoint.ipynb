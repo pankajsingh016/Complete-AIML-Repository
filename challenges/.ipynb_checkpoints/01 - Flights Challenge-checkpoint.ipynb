{
 "cells": [
  {
   "cell_type": "markdown",
   "metadata": {},
   "source": [
    "# Flights Data Exploration Challenge\n",
    "\n",
    "In this challenge, you'll explore a real-world dataset containing flights data from the US Department of Transportation.\n",
    "\n",
    "Let's start by loading and viewing the data."
   ]
  },
  {
   "cell_type": "code",
   "execution_count": 20,
   "metadata": {},
   "outputs": [
    {
     "data": {
      "text/html": [
       "<div>\n",
       "<style scoped>\n",
       "    .dataframe tbody tr th:only-of-type {\n",
       "        vertical-align: middle;\n",
       "    }\n",
       "\n",
       "    .dataframe tbody tr th {\n",
       "        vertical-align: top;\n",
       "    }\n",
       "\n",
       "    .dataframe thead th {\n",
       "        text-align: right;\n",
       "    }\n",
       "</style>\n",
       "<table border=\"1\" class=\"dataframe\">\n",
       "  <thead>\n",
       "    <tr style=\"text-align: right;\">\n",
       "      <th></th>\n",
       "      <th>Year</th>\n",
       "      <th>Month</th>\n",
       "      <th>DayofMonth</th>\n",
       "      <th>DayOfWeek</th>\n",
       "      <th>Carrier</th>\n",
       "      <th>OriginAirportID</th>\n",
       "      <th>OriginAirportName</th>\n",
       "      <th>OriginCity</th>\n",
       "      <th>OriginState</th>\n",
       "      <th>DestAirportID</th>\n",
       "      <th>DestAirportName</th>\n",
       "      <th>DestCity</th>\n",
       "      <th>DestState</th>\n",
       "      <th>CRSDepTime</th>\n",
       "      <th>DepDelay</th>\n",
       "      <th>DepDel15</th>\n",
       "      <th>CRSArrTime</th>\n",
       "      <th>ArrDelay</th>\n",
       "      <th>ArrDel15</th>\n",
       "      <th>Cancelled</th>\n",
       "    </tr>\n",
       "  </thead>\n",
       "  <tbody>\n",
       "    <tr>\n",
       "      <th>0</th>\n",
       "      <td>2013</td>\n",
       "      <td>9</td>\n",
       "      <td>16</td>\n",
       "      <td>1</td>\n",
       "      <td>DL</td>\n",
       "      <td>15304</td>\n",
       "      <td>Tampa International</td>\n",
       "      <td>Tampa</td>\n",
       "      <td>FL</td>\n",
       "      <td>12478</td>\n",
       "      <td>John F. Kennedy International</td>\n",
       "      <td>New York</td>\n",
       "      <td>NY</td>\n",
       "      <td>1539</td>\n",
       "      <td>4</td>\n",
       "      <td>0.0</td>\n",
       "      <td>1824</td>\n",
       "      <td>13</td>\n",
       "      <td>0</td>\n",
       "      <td>0</td>\n",
       "    </tr>\n",
       "    <tr>\n",
       "      <th>1</th>\n",
       "      <td>2013</td>\n",
       "      <td>9</td>\n",
       "      <td>23</td>\n",
       "      <td>1</td>\n",
       "      <td>WN</td>\n",
       "      <td>14122</td>\n",
       "      <td>Pittsburgh International</td>\n",
       "      <td>Pittsburgh</td>\n",
       "      <td>PA</td>\n",
       "      <td>13232</td>\n",
       "      <td>Chicago Midway International</td>\n",
       "      <td>Chicago</td>\n",
       "      <td>IL</td>\n",
       "      <td>710</td>\n",
       "      <td>3</td>\n",
       "      <td>0.0</td>\n",
       "      <td>740</td>\n",
       "      <td>22</td>\n",
       "      <td>1</td>\n",
       "      <td>0</td>\n",
       "    </tr>\n",
       "    <tr>\n",
       "      <th>2</th>\n",
       "      <td>2013</td>\n",
       "      <td>9</td>\n",
       "      <td>7</td>\n",
       "      <td>6</td>\n",
       "      <td>AS</td>\n",
       "      <td>14747</td>\n",
       "      <td>Seattle/Tacoma International</td>\n",
       "      <td>Seattle</td>\n",
       "      <td>WA</td>\n",
       "      <td>11278</td>\n",
       "      <td>Ronald Reagan Washington National</td>\n",
       "      <td>Washington</td>\n",
       "      <td>DC</td>\n",
       "      <td>810</td>\n",
       "      <td>-3</td>\n",
       "      <td>0.0</td>\n",
       "      <td>1614</td>\n",
       "      <td>-7</td>\n",
       "      <td>0</td>\n",
       "      <td>0</td>\n",
       "    </tr>\n",
       "    <tr>\n",
       "      <th>3</th>\n",
       "      <td>2013</td>\n",
       "      <td>7</td>\n",
       "      <td>22</td>\n",
       "      <td>1</td>\n",
       "      <td>OO</td>\n",
       "      <td>13930</td>\n",
       "      <td>Chicago O'Hare International</td>\n",
       "      <td>Chicago</td>\n",
       "      <td>IL</td>\n",
       "      <td>11042</td>\n",
       "      <td>Cleveland-Hopkins International</td>\n",
       "      <td>Cleveland</td>\n",
       "      <td>OH</td>\n",
       "      <td>804</td>\n",
       "      <td>35</td>\n",
       "      <td>1.0</td>\n",
       "      <td>1027</td>\n",
       "      <td>33</td>\n",
       "      <td>1</td>\n",
       "      <td>0</td>\n",
       "    </tr>\n",
       "    <tr>\n",
       "      <th>4</th>\n",
       "      <td>2013</td>\n",
       "      <td>5</td>\n",
       "      <td>16</td>\n",
       "      <td>4</td>\n",
       "      <td>DL</td>\n",
       "      <td>13931</td>\n",
       "      <td>Norfolk International</td>\n",
       "      <td>Norfolk</td>\n",
       "      <td>VA</td>\n",
       "      <td>10397</td>\n",
       "      <td>Hartsfield-Jackson Atlanta International</td>\n",
       "      <td>Atlanta</td>\n",
       "      <td>GA</td>\n",
       "      <td>545</td>\n",
       "      <td>-1</td>\n",
       "      <td>0.0</td>\n",
       "      <td>728</td>\n",
       "      <td>-9</td>\n",
       "      <td>0</td>\n",
       "      <td>0</td>\n",
       "    </tr>\n",
       "  </tbody>\n",
       "</table>\n",
       "</div>"
      ],
      "text/plain": [
       "   Year  Month  DayofMonth  DayOfWeek Carrier  OriginAirportID  \\\n",
       "0  2013      9          16          1      DL            15304   \n",
       "1  2013      9          23          1      WN            14122   \n",
       "2  2013      9           7          6      AS            14747   \n",
       "3  2013      7          22          1      OO            13930   \n",
       "4  2013      5          16          4      DL            13931   \n",
       "\n",
       "              OriginAirportName  OriginCity OriginState  DestAirportID  \\\n",
       "0           Tampa International       Tampa          FL          12478   \n",
       "1      Pittsburgh International  Pittsburgh          PA          13232   \n",
       "2  Seattle/Tacoma International     Seattle          WA          11278   \n",
       "3  Chicago O'Hare International     Chicago          IL          11042   \n",
       "4         Norfolk International     Norfolk          VA          10397   \n",
       "\n",
       "                            DestAirportName    DestCity DestState  CRSDepTime  \\\n",
       "0             John F. Kennedy International    New York        NY        1539   \n",
       "1              Chicago Midway International     Chicago        IL         710   \n",
       "2         Ronald Reagan Washington National  Washington        DC         810   \n",
       "3           Cleveland-Hopkins International   Cleveland        OH         804   \n",
       "4  Hartsfield-Jackson Atlanta International     Atlanta        GA         545   \n",
       "\n",
       "   DepDelay  DepDel15  CRSArrTime  ArrDelay  ArrDel15  Cancelled  \n",
       "0         4       0.0        1824        13         0          0  \n",
       "1         3       0.0         740        22         1          0  \n",
       "2        -3       0.0        1614        -7         0          0  \n",
       "3        35       1.0        1027        33         1          0  \n",
       "4        -1       0.0         728        -9         0          0  "
      ]
     },
     "execution_count": 20,
     "metadata": {},
     "output_type": "execute_result"
    }
   ],
   "source": [
    "import pandas as pd\n",
    "import numpy as np\n",
    "import matplotlib as mlp\n",
    "import matplotlib.pyplot as plt\n",
    "import seaborn as sns\n",
    "%matplotlib inline\n",
    "\n",
    "df_flights = pd.read_csv('data/flights.csv')\n",
    "df_flights.head()"
   ]
  },
  {
   "cell_type": "markdown",
   "metadata": {},
   "source": [
    "The dataset contains observations of US domestic flights in 2013, and consists of the following fields:\n",
    "\n",
    "- **Year**: The year of the flight (all records are from 2013)\n",
    "- **Month**: The month of the flight\n",
    "- **DayofMonth**: The day of the month on which the flight departed\n",
    "- **DayOfWeek**: The day of the week on which the flight departed - from 1 (Monday) to 7 (Sunday)\n",
    "- **Carrier**: The two-letter abbreviation for the airline.\n",
    "- **OriginAirportID**: A unique numeric identifier for the departure aiport\n",
    "- **OriginAirportName**: The full name of the departure airport\n",
    "- **OriginCity**: The departure airport city\n",
    "- **OriginState**: The departure airport state\n",
    "- **DestAirportID**: A unique numeric identifier for the destination aiport\n",
    "- **DestAirportName**: The full name of the destination airport\n",
    "- **DestCity**: The destination airport city\n",
    "- **DestState**: The destination airport state\n",
    "- **CRSDepTime**: The scheduled departure time\n",
    "- **DepDelay**: The number of minutes departure was delayed (flight that left ahead of schedule have a negative value)\n",
    "- **DelDelay15**: A binary indicator that departure was delayed by more than 15 minutes (and therefore considered \"late\")\n",
    "- **CRSArrTime**: The scheduled arrival time\n",
    "- **ArrDelay**: The number of minutes arrival was delayed (flight that arrived ahead of schedule have a negative value)\n",
    "- **ArrDelay15**: A binary indicator that arrival was delayed by more than 15 minutes (and therefore considered \"late\")\n",
    "- **Cancelled**: A binary indicator that the flight was cancelled\n",
    "\n",
    "Your challenge is to explore the flight data to analyze possible factors that affect delays in departure or arrival of a flight.\n",
    "\n",
    "1. Start by cleaning the data.\n",
    "    - Identify any null or missing data, and impute appropriate replacement values.\n",
    "    - Identify and eliminate any outliers in the **DepDelay** and **ArrDelay** columns.\n",
    "2. Explore the cleaned data.\n",
    "    - View summary statistics for the numeric fields in the dataset.\n",
    "    - Determine the distribution of the **DepDelay** and **ArrDelay** columns.\n",
    "    - Use statistics, aggregate functions, and visualizations to answer the following questions:\n",
    "        - *What are the average (mean) departure and arrival delays?*\n",
    "        - *How do the carriers compare in terms of arrival delay performance?*\n",
    "        - *Is there a noticable difference in arrival delays for different days of the week?*\n",
    "        - *Which departure airport has the highest average departure delay?*\n",
    "        - *Do **late** departures tend to result in longer arrival delays than on-time departures?*\n",
    "        - *Which route (from origin airport to destination airport) has the most **late** arrivals?*\n",
    "        - *Which route has the highest average arrival delay?*\n",
    "        \n",
    "Add markdown and code cells as required to create your solution.\n",
    "\n",
    "> **Note**: There is no single \"correct\" solution. A sample solution is provided in [01 - Flights Challenge.ipynb](01%20-%20Flights%20Solution.ipynb)."
   ]
  },
  {
   "cell_type": "code",
   "execution_count": 21,
   "metadata": {},
   "outputs": [
    {
     "data": {
      "text/plain": [
       "(271940, 20)"
      ]
     },
     "execution_count": 21,
     "metadata": {},
     "output_type": "execute_result"
    }
   ],
   "source": [
    "# Your code to explore the data\n",
    "df_flights.shape"
   ]
  },
  {
   "cell_type": "code",
   "execution_count": 22,
   "metadata": {},
   "outputs": [
    {
     "data": {
      "text/plain": [
       "Year                    0\n",
       "Month                   0\n",
       "DayofMonth              0\n",
       "DayOfWeek               0\n",
       "Carrier                 0\n",
       "OriginAirportID         0\n",
       "OriginAirportName       0\n",
       "OriginCity              0\n",
       "OriginState             0\n",
       "DestAirportID           0\n",
       "DestAirportName         0\n",
       "DestCity                0\n",
       "DestState               0\n",
       "CRSDepTime              0\n",
       "DepDelay                0\n",
       "DepDel15             2761\n",
       "CRSArrTime              0\n",
       "ArrDelay                0\n",
       "ArrDel15                0\n",
       "Cancelled               0\n",
       "dtype: int64"
      ]
     },
     "execution_count": 22,
     "metadata": {},
     "output_type": "execute_result"
    }
   ],
   "source": [
    "df_flights.isnull().sum()"
   ]
  },
  {
   "cell_type": "code",
   "execution_count": 23,
   "metadata": {},
   "outputs": [],
   "source": [
    "df = df_flights.loc[df_flights['ArrDel15']==1]"
   ]
  },
  {
   "cell_type": "code",
   "execution_count": 24,
   "metadata": {},
   "outputs": [
    {
     "data": {
      "text/plain": [
       "Year                    0\n",
       "Month                   0\n",
       "DayofMonth              0\n",
       "DayOfWeek               0\n",
       "Carrier                 0\n",
       "OriginAirportID         0\n",
       "OriginAirportName       0\n",
       "OriginCity              0\n",
       "OriginState             0\n",
       "DestAirportID           0\n",
       "DestAirportName         0\n",
       "DestCity                0\n",
       "DestState               0\n",
       "CRSDepTime              0\n",
       "DepDelay                0\n",
       "DepDel15             2761\n",
       "CRSArrTime              0\n",
       "ArrDelay                0\n",
       "ArrDel15                0\n",
       "Cancelled               0\n",
       "dtype: int64"
      ]
     },
     "execution_count": 24,
     "metadata": {},
     "output_type": "execute_result"
    }
   ],
   "source": [
    "df.isnull().sum()"
   ]
  },
  {
   "cell_type": "code",
   "execution_count": 25,
   "metadata": {},
   "outputs": [
    {
     "data": {
      "text/plain": [
       "58720"
      ]
     },
     "execution_count": 25,
     "metadata": {},
     "output_type": "execute_result"
    }
   ],
   "source": [
    "df.shape[0]"
   ]
  },
  {
   "cell_type": "code",
   "execution_count": 26,
   "metadata": {},
   "outputs": [
    {
     "data": {
      "text/plain": [
       "54141.0"
      ]
     },
     "execution_count": 26,
     "metadata": {},
     "output_type": "execute_result"
    }
   ],
   "source": [
    "df_flights['DepDel15'].sum()"
   ]
  },
  {
   "cell_type": "code",
   "execution_count": 27,
   "metadata": {},
   "outputs": [
    {
     "data": {
      "text/plain": [
       "1.0"
      ]
     },
     "execution_count": 27,
     "metadata": {},
     "output_type": "execute_result"
    }
   ],
   "source": [
    "df_flights['DepDel15'].max()"
   ]
  },
  {
   "cell_type": "markdown",
   "metadata": {},
   "source": [
    "#### Assumption :\n",
    "As the flight departed late so, flight will arrive late too."
   ]
  },
  {
   "cell_type": "code",
   "execution_count": 28,
   "metadata": {},
   "outputs": [],
   "source": [
    "# Let as consider the flight is Depart late so there can be a chance that the flight arrives late using this theory\n",
    "count = 0\n",
    "li = []\n",
    "for index,i in enumerate(df_flights['DepDel15']):\n",
    "    if i != 1:\n",
    "        if i!=0:\n",
    "            if df_flights.iloc[index]['ArrDel15']==1:\n",
    "                count+=1\n",
    "\n",
    "            "
   ]
  },
  {
   "cell_type": "code",
   "execution_count": 29,
   "metadata": {},
   "outputs": [
    {
     "data": {
      "text/plain": [
       "2761"
      ]
     },
     "execution_count": 29,
     "metadata": {},
     "output_type": "execute_result"
    }
   ],
   "source": [
    "count  # As we came to know that all the flight which have nan values are arived late so we can fill them up with 1."
   ]
  },
  {
   "cell_type": "markdown",
   "metadata": {},
   "source": [
    "- We are fill the null values by 1 because as we are assuming that the flight have Departed late by 1 minute as they have arrived in their respective destination late by 1 minute only."
   ]
  },
  {
   "cell_type": "code",
   "execution_count": 30,
   "metadata": {},
   "outputs": [],
   "source": [
    "df_flights.DepDel15 = df_flights.DepDel15.fillna(1)"
   ]
  },
  {
   "cell_type": "code",
   "execution_count": 31,
   "metadata": {},
   "outputs": [
    {
     "data": {
      "text/html": [
       "<div>\n",
       "<style scoped>\n",
       "    .dataframe tbody tr th:only-of-type {\n",
       "        vertical-align: middle;\n",
       "    }\n",
       "\n",
       "    .dataframe tbody tr th {\n",
       "        vertical-align: top;\n",
       "    }\n",
       "\n",
       "    .dataframe thead th {\n",
       "        text-align: right;\n",
       "    }\n",
       "</style>\n",
       "<table border=\"1\" class=\"dataframe\">\n",
       "  <thead>\n",
       "    <tr style=\"text-align: right;\">\n",
       "      <th></th>\n",
       "      <th>Year</th>\n",
       "      <th>Month</th>\n",
       "      <th>DayofMonth</th>\n",
       "      <th>DayOfWeek</th>\n",
       "      <th>Carrier</th>\n",
       "      <th>OriginAirportID</th>\n",
       "      <th>OriginAirportName</th>\n",
       "      <th>OriginCity</th>\n",
       "      <th>OriginState</th>\n",
       "      <th>DestAirportID</th>\n",
       "      <th>DestAirportName</th>\n",
       "      <th>DestCity</th>\n",
       "      <th>DestState</th>\n",
       "      <th>CRSDepTime</th>\n",
       "      <th>DepDelay</th>\n",
       "      <th>DepDel15</th>\n",
       "      <th>CRSArrTime</th>\n",
       "      <th>ArrDelay</th>\n",
       "      <th>ArrDel15</th>\n",
       "      <th>Cancelled</th>\n",
       "    </tr>\n",
       "  </thead>\n",
       "  <tbody>\n",
       "    <tr>\n",
       "      <th>0</th>\n",
       "      <td>2013</td>\n",
       "      <td>9</td>\n",
       "      <td>16</td>\n",
       "      <td>1</td>\n",
       "      <td>DL</td>\n",
       "      <td>15304</td>\n",
       "      <td>Tampa International</td>\n",
       "      <td>Tampa</td>\n",
       "      <td>FL</td>\n",
       "      <td>12478</td>\n",
       "      <td>John F. Kennedy International</td>\n",
       "      <td>New York</td>\n",
       "      <td>NY</td>\n",
       "      <td>1539</td>\n",
       "      <td>4</td>\n",
       "      <td>0.0</td>\n",
       "      <td>1824</td>\n",
       "      <td>13</td>\n",
       "      <td>0</td>\n",
       "      <td>0</td>\n",
       "    </tr>\n",
       "    <tr>\n",
       "      <th>1</th>\n",
       "      <td>2013</td>\n",
       "      <td>9</td>\n",
       "      <td>23</td>\n",
       "      <td>1</td>\n",
       "      <td>WN</td>\n",
       "      <td>14122</td>\n",
       "      <td>Pittsburgh International</td>\n",
       "      <td>Pittsburgh</td>\n",
       "      <td>PA</td>\n",
       "      <td>13232</td>\n",
       "      <td>Chicago Midway International</td>\n",
       "      <td>Chicago</td>\n",
       "      <td>IL</td>\n",
       "      <td>710</td>\n",
       "      <td>3</td>\n",
       "      <td>0.0</td>\n",
       "      <td>740</td>\n",
       "      <td>22</td>\n",
       "      <td>1</td>\n",
       "      <td>0</td>\n",
       "    </tr>\n",
       "    <tr>\n",
       "      <th>2</th>\n",
       "      <td>2013</td>\n",
       "      <td>9</td>\n",
       "      <td>7</td>\n",
       "      <td>6</td>\n",
       "      <td>AS</td>\n",
       "      <td>14747</td>\n",
       "      <td>Seattle/Tacoma International</td>\n",
       "      <td>Seattle</td>\n",
       "      <td>WA</td>\n",
       "      <td>11278</td>\n",
       "      <td>Ronald Reagan Washington National</td>\n",
       "      <td>Washington</td>\n",
       "      <td>DC</td>\n",
       "      <td>810</td>\n",
       "      <td>-3</td>\n",
       "      <td>0.0</td>\n",
       "      <td>1614</td>\n",
       "      <td>-7</td>\n",
       "      <td>0</td>\n",
       "      <td>0</td>\n",
       "    </tr>\n",
       "    <tr>\n",
       "      <th>3</th>\n",
       "      <td>2013</td>\n",
       "      <td>7</td>\n",
       "      <td>22</td>\n",
       "      <td>1</td>\n",
       "      <td>OO</td>\n",
       "      <td>13930</td>\n",
       "      <td>Chicago O'Hare International</td>\n",
       "      <td>Chicago</td>\n",
       "      <td>IL</td>\n",
       "      <td>11042</td>\n",
       "      <td>Cleveland-Hopkins International</td>\n",
       "      <td>Cleveland</td>\n",
       "      <td>OH</td>\n",
       "      <td>804</td>\n",
       "      <td>35</td>\n",
       "      <td>1.0</td>\n",
       "      <td>1027</td>\n",
       "      <td>33</td>\n",
       "      <td>1</td>\n",
       "      <td>0</td>\n",
       "    </tr>\n",
       "    <tr>\n",
       "      <th>4</th>\n",
       "      <td>2013</td>\n",
       "      <td>5</td>\n",
       "      <td>16</td>\n",
       "      <td>4</td>\n",
       "      <td>DL</td>\n",
       "      <td>13931</td>\n",
       "      <td>Norfolk International</td>\n",
       "      <td>Norfolk</td>\n",
       "      <td>VA</td>\n",
       "      <td>10397</td>\n",
       "      <td>Hartsfield-Jackson Atlanta International</td>\n",
       "      <td>Atlanta</td>\n",
       "      <td>GA</td>\n",
       "      <td>545</td>\n",
       "      <td>-1</td>\n",
       "      <td>0.0</td>\n",
       "      <td>728</td>\n",
       "      <td>-9</td>\n",
       "      <td>0</td>\n",
       "      <td>0</td>\n",
       "    </tr>\n",
       "  </tbody>\n",
       "</table>\n",
       "</div>"
      ],
      "text/plain": [
       "   Year  Month  DayofMonth  DayOfWeek Carrier  OriginAirportID  \\\n",
       "0  2013      9          16          1      DL            15304   \n",
       "1  2013      9          23          1      WN            14122   \n",
       "2  2013      9           7          6      AS            14747   \n",
       "3  2013      7          22          1      OO            13930   \n",
       "4  2013      5          16          4      DL            13931   \n",
       "\n",
       "              OriginAirportName  OriginCity OriginState  DestAirportID  \\\n",
       "0           Tampa International       Tampa          FL          12478   \n",
       "1      Pittsburgh International  Pittsburgh          PA          13232   \n",
       "2  Seattle/Tacoma International     Seattle          WA          11278   \n",
       "3  Chicago O'Hare International     Chicago          IL          11042   \n",
       "4         Norfolk International     Norfolk          VA          10397   \n",
       "\n",
       "                            DestAirportName    DestCity DestState  CRSDepTime  \\\n",
       "0             John F. Kennedy International    New York        NY        1539   \n",
       "1              Chicago Midway International     Chicago        IL         710   \n",
       "2         Ronald Reagan Washington National  Washington        DC         810   \n",
       "3           Cleveland-Hopkins International   Cleveland        OH         804   \n",
       "4  Hartsfield-Jackson Atlanta International     Atlanta        GA         545   \n",
       "\n",
       "   DepDelay  DepDel15  CRSArrTime  ArrDelay  ArrDel15  Cancelled  \n",
       "0         4       0.0        1824        13         0          0  \n",
       "1         3       0.0         740        22         1          0  \n",
       "2        -3       0.0        1614        -7         0          0  \n",
       "3        35       1.0        1027        33         1          0  \n",
       "4        -1       0.0         728        -9         0          0  "
      ]
     },
     "execution_count": 31,
     "metadata": {},
     "output_type": "execute_result"
    }
   ],
   "source": [
    "df_flights.head(5)"
   ]
  },
  {
   "cell_type": "code",
   "execution_count": 13,
   "metadata": {},
   "outputs": [
    {
     "data": {
      "text/plain": [
       "Year                 0\n",
       "Month                0\n",
       "DayofMonth           0\n",
       "DayOfWeek            0\n",
       "Carrier              0\n",
       "OriginAirportID      0\n",
       "OriginAirportName    0\n",
       "OriginCity           0\n",
       "OriginState          0\n",
       "DestAirportID        0\n",
       "DestAirportName      0\n",
       "DestCity             0\n",
       "DestState            0\n",
       "CRSDepTime           0\n",
       "DepDelay             0\n",
       "DepDel15             0\n",
       "CRSArrTime           0\n",
       "ArrDelay             0\n",
       "ArrDel15             0\n",
       "Cancelled            0\n",
       "dtype: int64"
      ]
     },
     "execution_count": 13,
     "metadata": {},
     "output_type": "execute_result"
    }
   ],
   "source": [
    "df_flights.isnull().sum()"
   ]
  },
  {
   "cell_type": "code",
   "execution_count": 14,
   "metadata": {},
   "outputs": [
    {
     "name": "stdout",
     "output_type": "stream",
     "text": [
      "(19282, 20)\n",
      "(3379, 20)\n"
     ]
    }
   ],
   "source": [
    "#perfect timming\n",
    "br = df_flights[df_flights[\"DepDelay\"]==0]\n",
    "print(br.shape)\n",
    "br = br[br[\"ArrDelay\"]==0]\n",
    "print(br.shape)"
   ]
  },
  {
   "cell_type": "code",
   "execution_count": 15,
   "metadata": {},
   "outputs": [
    {
     "data": {
      "text/plain": [
       "array([2013], dtype=int64)"
      ]
     },
     "execution_count": 15,
     "metadata": {},
     "output_type": "execute_result"
    }
   ],
   "source": [
    "df_flights['Year'].unique()"
   ]
  },
  {
   "cell_type": "code",
   "execution_count": 16,
   "metadata": {},
   "outputs": [
    {
     "data": {
      "text/plain": [
       "array(['DL', 'WN', 'AS', 'OO', 'UA', 'EV', 'AA', 'MQ', 'US', 'YV', 'FL',\n",
       "       'F9', 'B6', 'VX', '9E', 'HA'], dtype=object)"
      ]
     },
     "execution_count": 16,
     "metadata": {},
     "output_type": "execute_result"
    }
   ],
   "source": [
    "df_flights['Carrier'].unique()"
   ]
  },
  {
   "cell_type": "code",
   "execution_count": 33,
   "metadata": {},
   "outputs": [
    {
     "data": {
      "text/html": [
       "<div>\n",
       "<style scoped>\n",
       "    .dataframe tbody tr th:only-of-type {\n",
       "        vertical-align: middle;\n",
       "    }\n",
       "\n",
       "    .dataframe tbody tr th {\n",
       "        vertical-align: top;\n",
       "    }\n",
       "\n",
       "    .dataframe thead th {\n",
       "        text-align: right;\n",
       "    }\n",
       "</style>\n",
       "<table border=\"1\" class=\"dataframe\">\n",
       "  <thead>\n",
       "    <tr style=\"text-align: right;\">\n",
       "      <th></th>\n",
       "      <th>Year</th>\n",
       "      <th>Month</th>\n",
       "      <th>DayofMonth</th>\n",
       "      <th>DayOfWeek</th>\n",
       "      <th>Carrier</th>\n",
       "      <th>OriginAirportID</th>\n",
       "      <th>OriginAirportName</th>\n",
       "      <th>OriginCity</th>\n",
       "      <th>OriginState</th>\n",
       "      <th>DestAirportID</th>\n",
       "      <th>DestAirportName</th>\n",
       "      <th>DestCity</th>\n",
       "      <th>DestState</th>\n",
       "      <th>CRSDepTime</th>\n",
       "      <th>DepDelay</th>\n",
       "      <th>DepDel15</th>\n",
       "      <th>CRSArrTime</th>\n",
       "      <th>ArrDelay</th>\n",
       "      <th>ArrDel15</th>\n",
       "      <th>Cancelled</th>\n",
       "    </tr>\n",
       "  </thead>\n",
       "  <tbody>\n",
       "    <tr>\n",
       "      <th>0</th>\n",
       "      <td>2013</td>\n",
       "      <td>9</td>\n",
       "      <td>16</td>\n",
       "      <td>1</td>\n",
       "      <td>DL</td>\n",
       "      <td>15304</td>\n",
       "      <td>Tampa International</td>\n",
       "      <td>Tampa</td>\n",
       "      <td>FL</td>\n",
       "      <td>12478</td>\n",
       "      <td>John F. Kennedy International</td>\n",
       "      <td>New York</td>\n",
       "      <td>NY</td>\n",
       "      <td>1539</td>\n",
       "      <td>4</td>\n",
       "      <td>0.0</td>\n",
       "      <td>1824</td>\n",
       "      <td>13</td>\n",
       "      <td>0</td>\n",
       "      <td>0</td>\n",
       "    </tr>\n",
       "  </tbody>\n",
       "</table>\n",
       "</div>"
      ],
      "text/plain": [
       "   Year  Month  DayofMonth  DayOfWeek Carrier  OriginAirportID  \\\n",
       "0  2013      9          16          1      DL            15304   \n",
       "\n",
       "     OriginAirportName OriginCity OriginState  DestAirportID  \\\n",
       "0  Tampa International      Tampa          FL          12478   \n",
       "\n",
       "                 DestAirportName  DestCity DestState  CRSDepTime  DepDelay  \\\n",
       "0  John F. Kennedy International  New York        NY        1539         4   \n",
       "\n",
       "   DepDel15  CRSArrTime  ArrDelay  ArrDel15  Cancelled  \n",
       "0       0.0        1824        13         0          0  "
      ]
     },
     "execution_count": 33,
     "metadata": {},
     "output_type": "execute_result"
    }
   ],
   "source": [
    "df_flights.head(1)"
   ]
  },
  {
   "cell_type": "markdown",
   "metadata": {},
   "source": [
    "##### Gathering the data of the carrier and the flights"
   ]
  },
  {
   "cell_type": "code",
   "execution_count": 37,
   "metadata": {},
   "outputs": [
    {
     "name": "stdout",
     "output_type": "stream",
     "text": [
      "{'DL': 38482, 'WN': 57861, 'AS': 6764, 'OO': 16181, 'UA': 28692, 'EV': 15886, 'AA': 29012, 'MQ': 11523, 'US': 23586, 'YV': 5236, 'FL': 9383, 'F9': 3538, 'B6': 12386, 'VX': 3538, '9E': 7993, 'HA': 1879}\n"
     ]
    }
   ],
   "source": [
    "d = dict()\n",
    "for i in df_flights.Carrier:\n",
    "    if i not in d:\n",
    "        d[i]=1\n",
    "    else:\n",
    "        d[i]+=1\n",
    "\n",
    "print(d)"
   ]
  },
  {
   "cell_type": "markdown",
   "metadata": {},
   "source": [
    "## Visualizing data with matplotlib"
   ]
  },
  {
   "cell_type": "code",
   "execution_count": 74,
   "metadata": {},
   "outputs": [],
   "source": [
    "keys = list(d.keys())\n",
    "val = list(d.values())\n",
    "fd = pd.DataFrame(list(zip(keys,val)),columns=['Carrier','flights'])"
   ]
  },
  {
   "cell_type": "code",
   "execution_count": 75,
   "metadata": {},
   "outputs": [
    {
     "data": {
      "text/html": [
       "<div>\n",
       "<style scoped>\n",
       "    .dataframe tbody tr th:only-of-type {\n",
       "        vertical-align: middle;\n",
       "    }\n",
       "\n",
       "    .dataframe tbody tr th {\n",
       "        vertical-align: top;\n",
       "    }\n",
       "\n",
       "    .dataframe thead th {\n",
       "        text-align: right;\n",
       "    }\n",
       "</style>\n",
       "<table border=\"1\" class=\"dataframe\">\n",
       "  <thead>\n",
       "    <tr style=\"text-align: right;\">\n",
       "      <th></th>\n",
       "      <th>Carrier</th>\n",
       "      <th>flights</th>\n",
       "    </tr>\n",
       "  </thead>\n",
       "  <tbody>\n",
       "    <tr>\n",
       "      <th>0</th>\n",
       "      <td>DL</td>\n",
       "      <td>38482</td>\n",
       "    </tr>\n",
       "    <tr>\n",
       "      <th>1</th>\n",
       "      <td>WN</td>\n",
       "      <td>57861</td>\n",
       "    </tr>\n",
       "    <tr>\n",
       "      <th>2</th>\n",
       "      <td>AS</td>\n",
       "      <td>6764</td>\n",
       "    </tr>\n",
       "    <tr>\n",
       "      <th>3</th>\n",
       "      <td>OO</td>\n",
       "      <td>16181</td>\n",
       "    </tr>\n",
       "    <tr>\n",
       "      <th>4</th>\n",
       "      <td>UA</td>\n",
       "      <td>28692</td>\n",
       "    </tr>\n",
       "    <tr>\n",
       "      <th>5</th>\n",
       "      <td>EV</td>\n",
       "      <td>15886</td>\n",
       "    </tr>\n",
       "    <tr>\n",
       "      <th>6</th>\n",
       "      <td>AA</td>\n",
       "      <td>29012</td>\n",
       "    </tr>\n",
       "    <tr>\n",
       "      <th>7</th>\n",
       "      <td>MQ</td>\n",
       "      <td>11523</td>\n",
       "    </tr>\n",
       "    <tr>\n",
       "      <th>8</th>\n",
       "      <td>US</td>\n",
       "      <td>23586</td>\n",
       "    </tr>\n",
       "    <tr>\n",
       "      <th>9</th>\n",
       "      <td>YV</td>\n",
       "      <td>5236</td>\n",
       "    </tr>\n",
       "    <tr>\n",
       "      <th>10</th>\n",
       "      <td>FL</td>\n",
       "      <td>9383</td>\n",
       "    </tr>\n",
       "    <tr>\n",
       "      <th>11</th>\n",
       "      <td>F9</td>\n",
       "      <td>3538</td>\n",
       "    </tr>\n",
       "    <tr>\n",
       "      <th>12</th>\n",
       "      <td>B6</td>\n",
       "      <td>12386</td>\n",
       "    </tr>\n",
       "    <tr>\n",
       "      <th>13</th>\n",
       "      <td>VX</td>\n",
       "      <td>3538</td>\n",
       "    </tr>\n",
       "    <tr>\n",
       "      <th>14</th>\n",
       "      <td>9E</td>\n",
       "      <td>7993</td>\n",
       "    </tr>\n",
       "    <tr>\n",
       "      <th>15</th>\n",
       "      <td>HA</td>\n",
       "      <td>1879</td>\n",
       "    </tr>\n",
       "  </tbody>\n",
       "</table>\n",
       "</div>"
      ],
      "text/plain": [
       "   Carrier  flights\n",
       "0       DL    38482\n",
       "1       WN    57861\n",
       "2       AS     6764\n",
       "3       OO    16181\n",
       "4       UA    28692\n",
       "5       EV    15886\n",
       "6       AA    29012\n",
       "7       MQ    11523\n",
       "8       US    23586\n",
       "9       YV     5236\n",
       "10      FL     9383\n",
       "11      F9     3538\n",
       "12      B6    12386\n",
       "13      VX     3538\n",
       "14      9E     7993\n",
       "15      HA     1879"
      ]
     },
     "execution_count": 75,
     "metadata": {},
     "output_type": "execute_result"
    }
   ],
   "source": [
    "fd"
   ]
  },
  {
   "cell_type": "code",
   "execution_count": 82,
   "metadata": {},
   "outputs": [
    {
     "data": {
      "text/plain": [
       "Text(0, 0.5, 'No. of flights')"
      ]
     },
     "execution_count": 82,
     "metadata": {},
     "output_type": "execute_result"
    },
    {
     "data": {
      "image/png": "[encoded data removed]",
      "text/plain": [
       "<Figure size 864x360 with 1 Axes>"
      ]
     },
     "metadata": {
      "needs_background": "light"
     },
     "output_type": "display_data"
    }
   ],
   "source": [
    "plt.subplots(figsize=(12,5))\n",
    "plt.bar(fd.Carrier,fd.flights,color='green',data=fd,label='No. of flights')\n",
    "plt.legend()\n",
    "plt.xlabel('Carriers')\n",
    "plt.ylabel('No. of flights')"
   ]
  },
  {
   "cell_type": "code",
   "execution_count": null,
   "metadata": {},
   "outputs": [],
   "source": []
  }
 ],
 "metadata": {
  "kernelspec": {
   "display_name": "Python 3",
   "language": "python",
   "name": "python3"
  },
  "language_info": {
   "codemirror_mode": {
    "name": "ipython",
    "version": 3
   },
   "file_extension": ".py",
   "mimetype": "text/x-python",
   "name": "python",
   "nbconvert_exporter": "python",
   "pygments_lexer": "ipython3",
   "version": "3.9.5"
  }
 },
 "nbformat": 4,
 "nbformat_minor": 4
}
