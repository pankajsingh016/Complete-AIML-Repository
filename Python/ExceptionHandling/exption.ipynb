{
 "cells": [
  {
   "cell_type": "code",
   "execution_count": 1,
   "id": "917a2c64",
   "metadata": {},
   "outputs": [],
   "source": [
    "# Exception : Handles errors that distrupts the normal flow of the program\n",
    "a = 10"
   ]
  },
  {
   "cell_type": "code",
   "execution_count": 3,
   "id": "68a6e7a4",
   "metadata": {},
   "outputs": [
    {
     "name": "stdout",
     "output_type": "stream",
     "text": [
      "The varialbe has not been assigned name 'b' is not defined\n"
     ]
    }
   ],
   "source": [
    "try:\n",
    "    a = b \n",
    "except NameError as ex:\n",
    "    print('The varialbe has not been assigned',ex)"
   ]
  },
  {
   "cell_type": "code",
   "execution_count": 8,
   "id": "914125fe",
   "metadata": {},
   "outputs": [],
   "source": [
    "try:\n",
    "    result = 1/2\n",
    "except ZeroDivisionError as e:\n",
    "    print(e)\n",
    "except Exception as e:\n",
    "    print(e)"
   ]
  },
  {
   "cell_type": "code",
   "execution_count": 11,
   "id": "f606b7e9",
   "metadata": {},
   "outputs": [
    {
     "name": "stdout",
     "output_type": "stream",
     "text": [
      "invalid literal for int() with base 10: 's'\n"
     ]
    }
   ],
   "source": [
    "try:\n",
    "    num = int(input('Enter a number'))\n",
    "    result = 10/num\n",
    "    print(result)\n",
    "except ValueError as e:\n",
    "    print(e)\n",
    "except ZeroDivisionError as e:\n",
    "    print(e)\n",
    "except Exception as e:\n",
    "    print(e)\n"
   ]
  },
  {
   "cell_type": "code",
   "execution_count": 12,
   "id": "d559a0a2",
   "metadata": {},
   "outputs": [
    {
     "name": "stdout",
     "output_type": "stream",
     "text": [
      "The result is 1.0\n",
      "Execution Completed.\n"
     ]
    }
   ],
   "source": [
    "try:\n",
    "    num = int(input('Enter a number'))\n",
    "    result = 10/num\n",
    "except ValueError:\n",
    "    print('The number is not valid')\n",
    "except ZeroDivisionError:\n",
    "    print(\"Please don't enter 0\")\n",
    "except Exception as ex:\n",
    "    print(ex)\n",
    "else:\n",
    "    print(f'The result is {result}')\n",
    "finally:\n",
    "    print(f'Execution Completed.')"
   ]
  },
  {
   "cell_type": "code",
   "execution_count": 15,
   "id": "a02b3a2f",
   "metadata": {},
   "outputs": [
    {
     "name": "stdout",
     "output_type": "stream",
     "text": [
      "File doesn't exists.\n"
     ]
    }
   ],
   "source": [
    "# file handling \n",
    "try: \n",
    "    file = open('Example1.txt','r')\n",
    "    content = file.read()\n",
    "except FileNotFoundError:\n",
    "    print(\"File doesn't exists.\")\n",
    "finally:\n",
    "    if 'file' in locals() and not file.closed():\n",
    "        file.close()\n",
    "        print('File Close')"
   ]
  },
  {
   "cell_type": "code",
   "execution_count": null,
   "id": "9ed5398c",
   "metadata": {},
   "outputs": [],
   "source": []
  }
 ],
 "metadata": {
  "kernelspec": {
   "display_name": "ev",
   "language": "python",
   "name": "python3"
  },
  "language_info": {
   "codemirror_mode": {
    "name": "ipython",
    "version": 3
   },
   "file_extension": ".py",
   "mimetype": "text/x-python",
   "name": "python",
   "nbconvert_exporter": "python",
   "pygments_lexer": "ipython3",
   "version": "3.11.8"
  }
 },
 "nbformat": 4,
 "nbformat_minor": 5
}
