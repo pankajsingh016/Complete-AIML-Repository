{
 "cells": [
  {
   "cell_type": "code",
   "execution_count": 1,
   "id": "5217f3e2",
   "metadata": {},
   "outputs": [],
   "source": [
    "# Inheritance in Python \n",
    "# Inherit the properties of one class to another class\n",
    "class Car:\n",
    "    def __init__(self,windows,doors,engine):\n",
    "        self.windows = windows\n",
    "        self.doors = doors\n",
    "        self.engine = engine\n",
    "    \n",
    "    def drive(self):\n",
    "        print(f'The person will drive the {self.engine} car.')\n",
    "    "
   ]
  },
  {
   "cell_type": "code",
   "execution_count": 2,
   "id": "0acd31a8",
   "metadata": {},
   "outputs": [
    {
     "name": "stdout",
     "output_type": "stream",
     "text": [
      "The person will drive the Petrol car.\n"
     ]
    }
   ],
   "source": [
    "car1 = Car(4,5,'Petrol')\n",
    "car1.drive()"
   ]
  },
  {
   "cell_type": "code",
   "execution_count": 5,
   "id": "0770c2bf",
   "metadata": {},
   "outputs": [],
   "source": [
    "## Class Tesla inheriting the car class\n",
    "class Tesla(Car):\n",
    "    def __init__(self,windows, doors, engine, auto_pilot):\n",
    "        super().__init__(windows,doors,engine) # calling all the attributes of parent class\n",
    "        self.auto_pilot = auto_pilot\n",
    "    \n",
    "    def autoPilot(self):\n",
    "        print(f'Tesla Supports Self Driving {self.auto_pilot}')\n",
    "        "
   ]
  },
  {
   "cell_type": "code",
   "execution_count": 8,
   "id": "4f1d9cb3",
   "metadata": {},
   "outputs": [
    {
     "name": "stdout",
     "output_type": "stream",
     "text": [
      "Tesla Supports Self Driving True\n"
     ]
    }
   ],
   "source": [
    "tesla1 = Tesla(4,4,'electric',True)\n",
    "tesla1.autoPilot()"
   ]
  },
  {
   "cell_type": "code",
   "execution_count": 25,
   "id": "d6a7b4b1",
   "metadata": {},
   "outputs": [],
   "source": [
    "## Multiple Inheritance \n",
    "# When a class inherit from more than one base class\n",
    "\n",
    "# @baseclass1\n",
    "class Animal:\n",
    "    def __init__(self,name):\n",
    "        self.name = name\n",
    "    \n",
    "    def speak(self):\n",
    "        print(\"Sub-classes must implement this method\")\n",
    "\n",
    "# @baseclass2\n",
    "class Pet:\n",
    "    def __init__(self,owner):\n",
    "        self.owner = owner\n",
    "\n",
    "# @derivedclass\n",
    "class Dog(Animal, Pet):\n",
    "    def __init__(self,name,owner):\n",
    "        Animal.__init__(self,name)\n",
    "        Pet.__init__(self,owner)\n",
    "    \n",
    "    def speak(self):\n",
    "        print(f'{self.owner} pets name is {self.name}')\n",
    "\n",
    "\n"
   ]
  },
  {
   "cell_type": "code",
   "execution_count": 26,
   "id": "ab5945d6",
   "metadata": {},
   "outputs": [],
   "source": [
    "rocky = Dog(\"Buddy\",\"rocky\")"
   ]
  },
  {
   "cell_type": "code",
   "execution_count": 27,
   "id": "6f122604",
   "metadata": {},
   "outputs": [
    {
     "name": "stdout",
     "output_type": "stream",
     "text": [
      "rocky pets name is Buddy\n"
     ]
    }
   ],
   "source": [
    "rocky.speak()"
   ]
  },
  {
   "cell_type": "code",
   "execution_count": 28,
   "id": "af86f497",
   "metadata": {},
   "outputs": [
    {
     "data": {
      "text/plain": [
       "'rocky'"
      ]
     },
     "execution_count": 28,
     "metadata": {},
     "output_type": "execute_result"
    }
   ],
   "source": [
    "rocky.owner"
   ]
  },
  {
   "cell_type": "code",
   "execution_count": 29,
   "id": "64673eb5",
   "metadata": {},
   "outputs": [
    {
     "data": {
      "text/plain": [
       "'Buddy'"
      ]
     },
     "execution_count": 29,
     "metadata": {},
     "output_type": "execute_result"
    }
   ],
   "source": [
    "rocky.name"
   ]
  },
  {
   "cell_type": "code",
   "execution_count": null,
   "id": "e3c8f4d3",
   "metadata": {},
   "outputs": [],
   "source": []
  }
 ],
 "metadata": {
  "kernelspec": {
   "display_name": "ev",
   "language": "python",
   "name": "python3"
  },
  "language_info": {
   "codemirror_mode": {
    "name": "ipython",
    "version": 3
   },
   "file_extension": ".py",
   "mimetype": "text/x-python",
   "name": "python",
   "nbconvert_exporter": "python",
   "pygments_lexer": "ipython3",
   "version": "3.11.8"
  }
 },
 "nbformat": 4,
 "nbformat_minor": 5
}
