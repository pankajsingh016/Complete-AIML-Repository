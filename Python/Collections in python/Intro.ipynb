{
 "cells": [
  {
   "cell_type": "markdown",
   "id": "fc62ea1a-f0b8-433a-8ac5-bd5e5bb079b3",
   "metadata": {},
   "source": [
    "## Collections\n",
    "\n",
    "\n",
    "- Order: Each item has its own index\n",
    "- Mutability: if possible to change after creation\n",
    "- indexing: way to access an individual element\n",
    "- Slicing: is a way to extract a subset(Valid for only ordered data structures)\n"
   ]
  }
 ],
 "metadata": {
  "kernelspec": {
   "display_name": "Python 3 (ipykernel)",
   "language": "python",
   "name": "python3"
  },
  "language_info": {
   "codemirror_mode": {
    "name": "ipython",
    "version": 3
   },
   "file_extension": ".py",
   "mimetype": "text/x-python",
   "name": "python",
   "nbconvert_exporter": "python",
   "pygments_lexer": "ipython3",
   "version": "3.11.8"
  }
 },
 "nbformat": 4,
 "nbformat_minor": 5
}
