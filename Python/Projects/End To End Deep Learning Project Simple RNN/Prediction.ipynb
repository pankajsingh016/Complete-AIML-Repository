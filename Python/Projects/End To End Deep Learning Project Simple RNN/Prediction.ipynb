{
 "cells": [
  {
   "cell_type": "code",
   "execution_count": 1,
   "metadata": {},
   "outputs": [],
   "source": [
    "import numpy as np\n",
    "import pandas as pd\n",
    "import tensorflow as tf\n",
    "from tensorflow.keras.datasets import imdb\n",
    "from tensorflow.keras.preprocessing import sequence\n",
    "from tensorflow.keras.models import load_model"
   ]
  },
  {
   "cell_type": "code",
   "execution_count": 2,
   "metadata": {},
   "outputs": [],
   "source": [
    "# Map of words index back to words for understanding\n",
    "word_index = imdb.get_word_index()\n",
    "reverse_word_index = {value:key for key,value in word_index.items()}"
   ]
  },
  {
   "cell_type": "code",
   "execution_count": 3,
   "metadata": {},
   "outputs": [
    {
     "name": "stderr",
     "output_type": "stream",
     "text": [
      "WARNING:absl:Compiled the loaded model, but the compiled metrics have yet to be built. `model.compile_metrics` will be empty until you train or evaluate the model.\n"
     ]
    }
   ],
   "source": [
    "model = load_model(\"Simple_rnn_Imdb.h5\") "
   ]
  },
  {
   "cell_type": "code",
   "execution_count": 4,
   "metadata": {},
   "outputs": [
    {
     "data": {
      "text/html": [
       "<pre style=\"white-space:pre;overflow-x:auto;line-height:normal;font-family:Menlo,'DejaVu Sans Mono',consolas,'Courier New',monospace\"><span style=\"font-weight: bold\">Model: \"sequential_7\"</span>\n",
       "</pre>\n"
      ],
      "text/plain": [
       "\u001b[1mModel: \"sequential_7\"\u001b[0m\n"
      ]
     },
     "metadata": {},
     "output_type": "display_data"
    },
    {
     "data": {
      "text/html": [
       "<pre style=\"white-space:pre;overflow-x:auto;line-height:normal;font-family:Menlo,'DejaVu Sans Mono',consolas,'Courier New',monospace\">┏━━━━━━━━━━━━━━━━━━━━━━━━━━━━━━━━━┳━━━━━━━━━━━━━━━━━━━━━━━━┳━━━━━━━━━━━━━━━┓\n",
       "┃<span style=\"font-weight: bold\"> Layer (type)                    </span>┃<span style=\"font-weight: bold\"> Output Shape           </span>┃<span style=\"font-weight: bold\">       Param # </span>┃\n",
       "┡━━━━━━━━━━━━━━━━━━━━━━━━━━━━━━━━━╇━━━━━━━━━━━━━━━━━━━━━━━━╇━━━━━━━━━━━━━━━┩\n",
       "│ embedding_3 (<span style=\"color: #0087ff; text-decoration-color: #0087ff\">Embedding</span>)         │ (<span style=\"color: #00d7ff; text-decoration-color: #00d7ff\">None</span>, <span style=\"color: #00af00; text-decoration-color: #00af00\">500</span>, <span style=\"color: #00af00; text-decoration-color: #00af00\">128</span>)       │     <span style=\"color: #00af00; text-decoration-color: #00af00\">1,280,000</span> │\n",
       "├─────────────────────────────────┼────────────────────────┼───────────────┤\n",
       "│ simple_rnn_2 (<span style=\"color: #0087ff; text-decoration-color: #0087ff\">SimpleRNN</span>)        │ (<span style=\"color: #00d7ff; text-decoration-color: #00d7ff\">None</span>, <span style=\"color: #00af00; text-decoration-color: #00af00\">128</span>)            │        <span style=\"color: #00af00; text-decoration-color: #00af00\">32,896</span> │\n",
       "├─────────────────────────────────┼────────────────────────┼───────────────┤\n",
       "│ dense_2 (<span style=\"color: #0087ff; text-decoration-color: #0087ff\">Dense</span>)                 │ (<span style=\"color: #00d7ff; text-decoration-color: #00d7ff\">None</span>, <span style=\"color: #00af00; text-decoration-color: #00af00\">1</span>)              │           <span style=\"color: #00af00; text-decoration-color: #00af00\">129</span> │\n",
       "└─────────────────────────────────┴────────────────────────┴───────────────┘\n",
       "</pre>\n"
      ],
      "text/plain": [
       "┏━━━━━━━━━━━━━━━━━━━━━━━━━━━━━━━━━┳━━━━━━━━━━━━━━━━━━━━━━━━┳━━━━━━━━━━━━━━━┓\n",
       "┃\u001b[1m \u001b[0m\u001b[1mLayer (type)                   \u001b[0m\u001b[1m \u001b[0m┃\u001b[1m \u001b[0m\u001b[1mOutput Shape          \u001b[0m\u001b[1m \u001b[0m┃\u001b[1m \u001b[0m\u001b[1m      Param #\u001b[0m\u001b[1m \u001b[0m┃\n",
       "┡━━━━━━━━━━━━━━━━━━━━━━━━━━━━━━━━━╇━━━━━━━━━━━━━━━━━━━━━━━━╇━━━━━━━━━━━━━━━┩\n",
       "│ embedding_3 (\u001b[38;5;33mEmbedding\u001b[0m)         │ (\u001b[38;5;45mNone\u001b[0m, \u001b[38;5;34m500\u001b[0m, \u001b[38;5;34m128\u001b[0m)       │     \u001b[38;5;34m1,280,000\u001b[0m │\n",
       "├─────────────────────────────────┼────────────────────────┼───────────────┤\n",
       "│ simple_rnn_2 (\u001b[38;5;33mSimpleRNN\u001b[0m)        │ (\u001b[38;5;45mNone\u001b[0m, \u001b[38;5;34m128\u001b[0m)            │        \u001b[38;5;34m32,896\u001b[0m │\n",
       "├─────────────────────────────────┼────────────────────────┼───────────────┤\n",
       "│ dense_2 (\u001b[38;5;33mDense\u001b[0m)                 │ (\u001b[38;5;45mNone\u001b[0m, \u001b[38;5;34m1\u001b[0m)              │           \u001b[38;5;34m129\u001b[0m │\n",
       "└─────────────────────────────────┴────────────────────────┴───────────────┘\n"
      ]
     },
     "metadata": {},
     "output_type": "display_data"
    },
    {
     "data": {
      "text/html": [
       "<pre style=\"white-space:pre;overflow-x:auto;line-height:normal;font-family:Menlo,'DejaVu Sans Mono',consolas,'Courier New',monospace\"><span style=\"font-weight: bold\"> Total params: </span><span style=\"color: #00af00; text-decoration-color: #00af00\">1,313,027</span> (5.01 MB)\n",
       "</pre>\n"
      ],
      "text/plain": [
       "\u001b[1m Total params: \u001b[0m\u001b[38;5;34m1,313,027\u001b[0m (5.01 MB)\n"
      ]
     },
     "metadata": {},
     "output_type": "display_data"
    },
    {
     "data": {
      "text/html": [
       "<pre style=\"white-space:pre;overflow-x:auto;line-height:normal;font-family:Menlo,'DejaVu Sans Mono',consolas,'Courier New',monospace\"><span style=\"font-weight: bold\"> Trainable params: </span><span style=\"color: #00af00; text-decoration-color: #00af00\">1,313,025</span> (5.01 MB)\n",
       "</pre>\n"
      ],
      "text/plain": [
       "\u001b[1m Trainable params: \u001b[0m\u001b[38;5;34m1,313,025\u001b[0m (5.01 MB)\n"
      ]
     },
     "metadata": {},
     "output_type": "display_data"
    },
    {
     "data": {
      "text/html": [
       "<pre style=\"white-space:pre;overflow-x:auto;line-height:normal;font-family:Menlo,'DejaVu Sans Mono',consolas,'Courier New',monospace\"><span style=\"font-weight: bold\"> Non-trainable params: </span><span style=\"color: #00af00; text-decoration-color: #00af00\">0</span> (0.00 B)\n",
       "</pre>\n"
      ],
      "text/plain": [
       "\u001b[1m Non-trainable params: \u001b[0m\u001b[38;5;34m0\u001b[0m (0.00 B)\n"
      ]
     },
     "metadata": {},
     "output_type": "display_data"
    },
    {
     "data": {
      "text/html": [
       "<pre style=\"white-space:pre;overflow-x:auto;line-height:normal;font-family:Menlo,'DejaVu Sans Mono',consolas,'Courier New',monospace\"><span style=\"font-weight: bold\"> Optimizer params: </span><span style=\"color: #00af00; text-decoration-color: #00af00\">2</span> (12.00 B)\n",
       "</pre>\n"
      ],
      "text/plain": [
       "\u001b[1m Optimizer params: \u001b[0m\u001b[38;5;34m2\u001b[0m (12.00 B)\n"
      ]
     },
     "metadata": {},
     "output_type": "display_data"
    }
   ],
   "source": [
    "model.summary()"
   ]
  },
  {
   "cell_type": "code",
   "execution_count": 5,
   "metadata": {},
   "outputs": [],
   "source": [
    "# model.get_config()"
   ]
  },
  {
   "cell_type": "code",
   "execution_count": 6,
   "metadata": {},
   "outputs": [
    {
     "data": {
      "text/plain": [
       "[array([[-0.45394614, -0.1821167 , -0.48068702, ..., -0.5174786 ,\n",
       "          0.35822266, -0.29238963],\n",
       "        [ 0.08042354, -0.04626977, -0.04010133, ...,  0.0334331 ,\n",
       "          0.01633021,  0.04523546],\n",
       "        [ 0.13582864,  0.00828129, -0.00108564, ...,  0.03770485,\n",
       "         -0.09745004,  0.16536412],\n",
       "        ...,\n",
       "        [-0.05182127, -0.00361599,  0.02237981, ..., -0.04709203,\n",
       "          0.02970249,  0.02748326],\n",
       "        [ 0.01671367, -0.05562021, -0.04159369, ..., -0.03369363,\n",
       "          0.01429623, -0.0117653 ],\n",
       "        [ 0.0558581 , -0.09882578,  0.0316793 , ...,  0.1169131 ,\n",
       "         -0.03941846,  0.11490738]], dtype=float32),\n",
       " array([[-0.14931886, -0.0309141 , -0.04759289, ...,  0.01628785,\n",
       "          0.07199881,  0.04497117],\n",
       "        [ 0.16353118, -0.10464264,  0.16985627, ..., -0.13261986,\n",
       "          0.03640696, -0.06071294],\n",
       "        [-0.0829461 , -0.04803186,  0.13170789, ..., -0.06209137,\n",
       "          0.07182134,  0.01030042],\n",
       "        ...,\n",
       "        [-0.06871878, -0.11887651, -0.1082095 , ..., -0.07138476,\n",
       "          0.12777363,  0.10206324],\n",
       "        [-0.11031925,  0.04681202, -0.00085379, ..., -0.00461449,\n",
       "          0.14971203, -0.01744982],\n",
       "        [ 0.00317882,  0.14956355, -0.24544938, ...,  0.05311605,\n",
       "         -0.01259641, -0.05623075]], dtype=float32),\n",
       " array([[-0.03980384, -0.02335251,  0.16861564, ..., -0.02577139,\n",
       "          0.11866251,  0.11463285],\n",
       "        [ 0.05284574,  0.03014247, -0.00833402, ..., -0.07158265,\n",
       "         -0.0661397 ,  0.07144614],\n",
       "        [ 0.05780955,  0.11123446,  0.11025295, ...,  0.03325265,\n",
       "          0.09327971,  0.05337559],\n",
       "        ...,\n",
       "        [ 0.01785851,  0.12174232,  0.05412998, ..., -0.25408626,\n",
       "         -0.09005438,  0.01253501],\n",
       "        [-0.13804391,  0.02929057,  0.08865628, ...,  0.0172074 ,\n",
       "         -0.2382318 , -0.13339138],\n",
       "        [-0.08682662, -0.03872027, -0.11262069, ..., -0.04939086,\n",
       "         -0.01597547,  0.07168152]], dtype=float32),\n",
       " array([-0.03065927, -0.03477012, -0.03005185, -0.02498767, -0.01472229,\n",
       "         0.00708265,  0.00083533, -0.02324292, -0.03987296,  0.04109718,\n",
       "         0.05316871, -0.04233569,  0.00387725, -0.03550041, -0.03516383,\n",
       "        -0.04012429,  0.01964301, -0.03080072, -0.03688233, -0.01789817,\n",
       "         0.01372291, -0.05927105, -0.0653711 ,  0.02001207, -0.03259551,\n",
       "        -0.00028155, -0.00031758,  0.01304714, -0.04927221,  0.00821381,\n",
       "         0.03699172, -0.06697486, -0.00674142, -0.03783877, -0.06398005,\n",
       "        -0.00480594, -0.05192187, -0.00763022, -0.0273553 ,  0.00619399,\n",
       "        -0.02101853, -0.02549281, -0.03072864, -0.00623645, -0.01953552,\n",
       "        -0.02147753,  0.05285402,  0.04000995, -0.03046496,  0.01798585,\n",
       "        -0.00573045, -0.0016879 ,  0.0147496 ,  0.00447876, -0.00106917,\n",
       "         0.04577533, -0.022349  , -0.02556352, -0.0273781 , -0.03877368,\n",
       "        -0.04907331,  0.04550602, -0.01874606,  0.0531079 ,  0.0504363 ,\n",
       "        -0.03261121,  0.08067937,  0.04833214, -0.02515614, -0.0475767 ,\n",
       "         0.01086754, -0.00475599,  0.04690198, -0.04010276,  0.01420375,\n",
       "        -0.03157916,  0.00760428, -0.04105882,  0.00141891, -0.03243291,\n",
       "        -0.0394654 ,  0.023237  ,  0.05214004,  0.05567811, -0.01660698,\n",
       "        -0.03647656, -0.03100047, -0.06099857, -0.03824409,  0.03389378,\n",
       "         0.01662023, -0.03054483, -0.04737079,  0.01139659,  0.03032235,\n",
       "        -0.02115058, -0.00031289,  0.02181345, -0.03982021, -0.02416215,\n",
       "        -0.05891173, -0.05362317, -0.02172567, -0.00598677,  0.04843014,\n",
       "         0.02880885, -0.01868287, -0.05065561,  0.03547718,  0.02465913,\n",
       "         0.01231057, -0.02606543,  0.01296781, -0.02992183, -0.04036026,\n",
       "        -0.01932381, -0.01218824,  0.03382233, -0.01355576, -0.0177867 ,\n",
       "         0.04041456, -0.02647518, -0.01406616,  0.03200827, -0.03920432,\n",
       "        -0.03227028, -0.05118928,  0.05453316], dtype=float32),\n",
       " array([[-1.50627553e-01],\n",
       "        [-1.24649055e-01],\n",
       "        [-6.72992766e-02],\n",
       "        [-1.25971079e-01],\n",
       "        [-1.53741062e-01],\n",
       "        [-1.06025420e-01],\n",
       "        [-1.46956921e-01],\n",
       "        [ 1.09927855e-01],\n",
       "        [ 2.46333361e-01],\n",
       "        [ 5.05897067e-02],\n",
       "        [ 1.37645453e-01],\n",
       "        [-1.60557047e-01],\n",
       "        [-1.81590110e-01],\n",
       "        [ 1.86060786e-01],\n",
       "        [ 9.04650092e-02],\n",
       "        [-1.48885459e-01],\n",
       "        [ 1.62220839e-02],\n",
       "        [-1.40133664e-01],\n",
       "        [-2.81097963e-02],\n",
       "        [-1.83073819e-01],\n",
       "        [ 2.44561806e-01],\n",
       "        [ 8.92217532e-02],\n",
       "        [ 2.52433479e-01],\n",
       "        [ 1.04795083e-01],\n",
       "        [ 7.32789375e-03],\n",
       "        [ 3.07745308e-01],\n",
       "        [ 6.52387738e-02],\n",
       "        [-3.45205329e-02],\n",
       "        [ 4.12261635e-02],\n",
       "        [ 9.90199894e-02],\n",
       "        [-1.66715115e-01],\n",
       "        [-1.02967374e-01],\n",
       "        [-1.65189534e-01],\n",
       "        [ 1.58794373e-01],\n",
       "        [-1.44702762e-01],\n",
       "        [-1.10701583e-01],\n",
       "        [-1.14222892e-01],\n",
       "        [-3.71548794e-02],\n",
       "        [ 5.46981907e-03],\n",
       "        [-6.09113388e-02],\n",
       "        [ 1.88465901e-02],\n",
       "        [ 1.90846398e-01],\n",
       "        [-5.24073720e-01],\n",
       "        [ 7.92169273e-02],\n",
       "        [-3.23016346e-02],\n",
       "        [-1.48505598e-01],\n",
       "        [-1.62362739e-01],\n",
       "        [-2.11255372e-01],\n",
       "        [-1.16877137e-02],\n",
       "        [-1.85815826e-01],\n",
       "        [-1.99333400e-01],\n",
       "        [ 1.24761730e-01],\n",
       "        [-5.24280742e-02],\n",
       "        [-4.98657301e-02],\n",
       "        [ 1.64298154e-02],\n",
       "        [ 1.10407777e-01],\n",
       "        [ 1.34597972e-01],\n",
       "        [ 1.49762675e-01],\n",
       "        [-1.53254315e-01],\n",
       "        [-1.03582166e-01],\n",
       "        [ 1.16719455e-01],\n",
       "        [ 6.78808894e-03],\n",
       "        [ 1.16392067e-02],\n",
       "        [ 6.87944591e-02],\n",
       "        [-5.98230697e-02],\n",
       "        [ 4.56296111e-04],\n",
       "        [-1.48639875e-02],\n",
       "        [-1.77437454e-01],\n",
       "        [-1.70132697e-01],\n",
       "        [-1.19485008e-02],\n",
       "        [-1.26496255e-01],\n",
       "        [ 5.42729236e-02],\n",
       "        [-4.64118198e-02],\n",
       "        [-1.42708063e-01],\n",
       "        [-3.83672677e-02],\n",
       "        [-1.83849111e-01],\n",
       "        [-2.30144694e-01],\n",
       "        [ 1.84399128e-01],\n",
       "        [-7.18718991e-02],\n",
       "        [ 2.04051420e-01],\n",
       "        [ 1.14939539e-02],\n",
       "        [-6.98376417e-01],\n",
       "        [ 2.71555614e-02],\n",
       "        [ 5.45638688e-02],\n",
       "        [-1.49364650e-01],\n",
       "        [-8.39094818e-02],\n",
       "        [-1.48384959e-01],\n",
       "        [ 1.29622385e-01],\n",
       "        [ 1.33447340e-02],\n",
       "        [-9.90521163e-02],\n",
       "        [ 2.66656876e-01],\n",
       "        [-1.77572921e-01],\n",
       "        [ 6.78642988e-02],\n",
       "        [ 1.34294212e-01],\n",
       "        [-1.44500375e-01],\n",
       "        [-9.81787741e-02],\n",
       "        [-5.81021085e-02],\n",
       "        [ 2.21439041e-02],\n",
       "        [ 4.80604202e-01],\n",
       "        [-1.60619959e-01],\n",
       "        [-1.18407333e+00],\n",
       "        [ 8.41999575e-02],\n",
       "        [ 1.55017585e-01],\n",
       "        [-3.83556895e-02],\n",
       "        [-1.54535711e-01],\n",
       "        [-9.68527794e-02],\n",
       "        [-5.73254041e-02],\n",
       "        [-1.47414923e-01],\n",
       "        [ 1.14388056e-01],\n",
       "        [-1.78936273e-01],\n",
       "        [-1.34845302e-01],\n",
       "        [-6.39548972e-02],\n",
       "        [ 1.55621454e-01],\n",
       "        [-1.14845678e-01],\n",
       "        [ 1.82137147e-01],\n",
       "        [-2.61461758e-03],\n",
       "        [ 1.72469586e-01],\n",
       "        [-4.13655862e-02],\n",
       "        [-1.98766053e-01],\n",
       "        [-1.01458929e-01],\n",
       "        [-2.62006313e-01],\n",
       "        [-2.75777370e-01],\n",
       "        [ 3.44193503e-02],\n",
       "        [ 9.50529054e-02],\n",
       "        [ 5.62111996e-02],\n",
       "        [ 5.59580743e-01],\n",
       "        [-6.45614341e-02],\n",
       "        [ 1.28823489e-01]], dtype=float32),\n",
       " array([-0.11795335], dtype=float32)]"
      ]
     },
     "execution_count": 6,
     "metadata": {},
     "output_type": "execute_result"
    }
   ],
   "source": [
    "model.get_weights()"
   ]
  },
  {
   "cell_type": "code",
   "execution_count": 7,
   "metadata": {},
   "outputs": [],
   "source": [
    "# function to decode reviews\n",
    "def decode_review(encoded_review):\n",
    "    return ' '.join([reverse_word_index.get(i-3,'?') for i in encoded_review])\n",
    "\n",
    "\n",
    "# function to preprocess user input\n",
    "def preprocess_text(text):\n",
    "    words = text.lower().split()\n",
    "    encoded_review = [word_index.get(word,2) + 3 for word in words]\n",
    "    padded_review = sequence.pad_sequences([encoded_review],maxlen=500)\n",
    "    return padded_review\n"
   ]
  },
  {
   "cell_type": "code",
   "execution_count": 29,
   "metadata": {},
   "outputs": [],
   "source": [
    "# Prediction function\n",
    "\n",
    "def predict_sentiment(review):\n",
    "    preprocessed_input = preprocess_text(review)\n",
    "    prediction = model.predict(preprocessed_input)\n",
    "    sentiment = 'Positive' if prediction[0][0] > 0.06 else 'Negative'\n",
    "    return sentiment, prediction[0][0]"
   ]
  },
  {
   "cell_type": "code",
   "execution_count": 39,
   "metadata": {},
   "outputs": [
    {
     "name": "stdout",
     "output_type": "stream",
     "text": [
      "\u001b[1m1/1\u001b[0m \u001b[32m━━━━━━━━━━━━━━━━━━━━\u001b[0m\u001b[37m\u001b[0m \u001b[1m0s\u001b[0m 33ms/step\n"
     ]
    }
   ],
   "source": [
    "# Step-4 User Input and Prediction\n",
    "# Example review for prediction\n",
    "example_review = \"This movie was fantastic! The acting was great and the plot was thrilling.\"\n",
    "\n",
    "sentiment,score = predict_sentiment(example_review)"
   ]
  },
  {
   "cell_type": "code",
   "execution_count": 40,
   "metadata": {},
   "outputs": [
    {
     "data": {
      "text/plain": [
       "'Positive'"
      ]
     },
     "execution_count": 40,
     "metadata": {},
     "output_type": "execute_result"
    }
   ],
   "source": [
    "sentiment"
   ]
  },
  {
   "cell_type": "code",
   "execution_count": 41,
   "metadata": {},
   "outputs": [
    {
     "data": {
      "text/plain": [
       "0.0977312"
      ]
     },
     "execution_count": 41,
     "metadata": {},
     "output_type": "execute_result"
    }
   ],
   "source": [
    "score"
   ]
  },
  {
   "cell_type": "code",
   "execution_count": null,
   "metadata": {},
   "outputs": [],
   "source": []
  }
 ],
 "metadata": {
  "kernelspec": {
   "display_name": "ev",
   "language": "python",
   "name": "python3"
  },
  "language_info": {
   "codemirror_mode": {
    "name": "ipython",
    "version": 3
   },
   "file_extension": ".py",
   "mimetype": "text/x-python",
   "name": "python",
   "nbconvert_exporter": "python",
   "pygments_lexer": "ipython3",
   "version": "3.11.8"
  }
 },
 "nbformat": 4,
 "nbformat_minor": 2
}
