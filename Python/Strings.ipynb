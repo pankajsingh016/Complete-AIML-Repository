{
 "cells": [
  {
   "cell_type": "markdown",
   "id": "6eca4aed-ea55-43b4-a2b0-4a1cbde51dcb",
   "metadata": {},
   "source": [
    "### Strings in python\n",
    "**Strings -:** String is a derived data type it is a concatenated chain of various character data-type. String is important to display messages to user and to get the text based input from the user.\n",
    "In python String is in double quotes like **\"String\"**."
   ]
  },
  {
   "cell_type": "code",
   "execution_count": 1,
   "id": "bcc0c586-e383-4dbf-bb84-7c5eb8a4e124",
   "metadata": {},
   "outputs": [
    {
     "data": {
      "text/plain": [
       "str"
      ]
     },
     "execution_count": 1,
     "metadata": {},
     "output_type": "execute_result"
    }
   ],
   "source": [
    "str1 = \"Python\"\n",
    "type(str1)"
   ]
  },
  {
   "cell_type": "markdown",
   "id": "757942eb-a96e-41e1-aa72-451254c91ea0",
   "metadata": {},
   "source": [
    "##### Operations in string\n",
    "1. String concatination\n",
    "2. String Slicing\n",
    "3. Case Changing\n",
    "4. Split, join in strings\n",
    "5. Partition in strings\n",
    "6. find, center\n",
    "7. String Formatting\n",
    "8. Template Strings"
   ]
  },
  {
   "cell_type": "markdown",
   "id": "fb2af22e-6f2b-48ec-8a89-3593789a4752",
   "metadata": {},
   "source": [
    "##### 1. String Concatination"
   ]
  },
  {
   "cell_type": "code",
   "execution_count": 24,
   "id": "588a0be3-2385-4fed-8299-eb682ea1d9f2",
   "metadata": {},
   "outputs": [
    {
     "name": "stdout",
     "output_type": "stream",
     "text": [
      "PythonC++Java\n"
     ]
    }
   ],
   "source": [
    "\n",
    "pro_lang_1 = 'Python'\n",
    "pro_lang_2 = 'C++'\n",
    "pro_lang_3 = 'Java'\n",
    "\n",
    "print(pro_lang_1+pro_lang_2+pro_lang_3)\n"
   ]
  },
  {
   "cell_type": "code",
   "execution_count": 25,
   "id": "f8de5ebc-8833-423a-8d4f-6a3091f9ef9d",
   "metadata": {},
   "outputs": [
    {
     "name": "stdout",
     "output_type": "stream",
     "text": [
      "PythonPythonPythonPythonPythonPythonPythonPythonPythonPython\n"
     ]
    }
   ],
   "source": [
    "conca = pro_lang_1*10\n",
    "print(conca) # 10 times python"
   ]
  },
  {
   "cell_type": "code",
   "execution_count": 26,
   "id": "dc40a2fd-8e57-4361-9ea6-b537717d8761",
   "metadata": {},
   "outputs": [
    {
     "name": "stdout",
     "output_type": "stream",
     "text": [
      "C++ Good for Competitive Programming\n"
     ]
    }
   ],
   "source": [
    "conca2 = pro_lang_2 + \" Good for Competitive Programming\"\n",
    "print(conca2)"
   ]
  },
  {
   "cell_type": "markdown",
   "id": "2b255ac7-d763-45b0-9e52-f51713885d55",
   "metadata": {},
   "source": [
    "##### 2. String Slicing\n",
    "A string is a group of characters and every character in string have a certain value associated with it called as index.\n",
    "Index in python start with 0, the first character of the string form left side have an index zero and from right side have an index -1."
   ]
  },
  {
   "cell_type": "code",
   "execution_count": 27,
   "id": "a661c4cb-c3fa-4ac9-b551-dcb5c8324be6",
   "metadata": {},
   "outputs": [
    {
     "name": "stdout",
     "output_type": "stream",
     "text": [
      "ar\n",
      "n\n",
      "celon\n"
     ]
    }
   ],
   "source": [
    "f_club = \"Barcelona\"\n",
    "print(f_club[1:3]) #start form 1 index to 2 index\n",
    "print(f_club[-2:-1]) # the last index of string in python is at -1 position\n",
    "print(f_club[3:-1])"
   ]
  },
  {
   "cell_type": "markdown",
   "id": "b0ec7aa5-c3f6-481e-9dbf-08c908c65425",
   "metadata": {},
   "source": [
    "##### 3. Case Changing"
   ]
  },
  {
   "cell_type": "code",
   "execution_count": 28,
   "id": "7fab5392-b580-449c-be16-008550713b0e",
   "metadata": {},
   "outputs": [
    {
     "name": "stdout",
     "output_type": "stream",
     "text": [
      "String in lowercase -: english\n",
      "String in uppercase -: ENGLISH\n"
     ]
    }
   ],
   "source": [
    "lang = \"English\"\n",
    "print(\"String in lowercase -:\",lang.lower())\n",
    "print(\"String in uppercase -:\",lang.upper())"
   ]
  },
  {
   "cell_type": "code",
   "execution_count": 29,
   "id": "24f5b6b8-f5e2-4f94-b9f4-bc0f73ddeb11",
   "metadata": {},
   "outputs": [
    {
     "data": {
      "text/plain": [
       "False"
      ]
     },
     "execution_count": 29,
     "metadata": {},
     "output_type": "execute_result"
    }
   ],
   "source": [
    "#check whether string is in upper case\n",
    "lang.isupper()\n"
   ]
  },
  {
   "cell_type": "code",
   "execution_count": 30,
   "id": "2c2f6e12-3828-4265-879c-36b3ab9124d9",
   "metadata": {},
   "outputs": [
    {
     "data": {
      "text/plain": [
       "False"
      ]
     },
     "execution_count": 30,
     "metadata": {},
     "output_type": "execute_result"
    }
   ],
   "source": [
    "#check whether string is in lower case\n",
    "lang.islower() "
   ]
  },
  {
   "cell_type": "markdown",
   "id": "346719f0-ef9a-4458-982e-884681c0a884",
   "metadata": {},
   "source": [
    "##### 4. Split and join in strings"
   ]
  },
  {
   "cell_type": "code",
   "execution_count": 34,
   "id": "4a004ef5-9808-4b44-a6cf-8aa3b089aa46",
   "metadata": {},
   "outputs": [
    {
     "name": "stdout",
     "output_type": "stream",
     "text": [
      "['My', 'name', 'is', 'Pankaj']\n"
     ]
    }
   ],
   "source": [
    "#split\n",
    "intro = \"My name is Pankaj\"\n",
    "ls = intro.split(\" \") #splitting the string acrosss the space\n",
    "print(ls) # the data is stored after in a list format type"
   ]
  },
  {
   "cell_type": "code",
   "execution_count": 33,
   "id": "2f230822-de78-4bf8-a09e-de4f0fd22e23",
   "metadata": {},
   "outputs": [
    {
     "name": "stdout",
     "output_type": "stream",
     "text": [
      "['This', 'is', 'a', 'Present', 'Sentence.']\n"
     ]
    }
   ],
   "source": [
    "sentence = \"This@is@a@Present@Sentence.\"\n",
    "sen1 = sentence.split('@') #splitting across @\n",
    "print(sen1)"
   ]
  },
  {
   "cell_type": "code",
   "execution_count": 39,
   "id": "a58dd511-06b3-49a1-94e5-557b70e2648b",
   "metadata": {},
   "outputs": [
    {
     "name": "stdout",
     "output_type": "stream",
     "text": [
      "My#name#is#Pankaj\n"
     ]
    }
   ],
   "source": [
    "#join\n",
    "newSen = \"#\".join(ls)\n",
    "print(newSen)"
   ]
  },
  {
   "cell_type": "code",
   "execution_count": 40,
   "id": "9d8f0f56-1331-4b5d-b8bc-0618f6dbf9c5",
   "metadata": {},
   "outputs": [
    {
     "name": "stdout",
     "output_type": "stream",
     "text": [
      "This&is&a&Present&Sentence.\n"
     ]
    }
   ],
   "source": [
    "new_sen1 = \"&\".join(sen1)\n",
    "print(new_sen1)"
   ]
  },
  {
   "cell_type": "code",
   "execution_count": 1,
   "id": "8f02e0a7-4aa0-437e-964e-7004dce9274d",
   "metadata": {},
   "outputs": [
    {
     "name": "stdout",
     "output_type": "stream",
     "text": [
      "he$is$my$teacher\n"
     ]
    }
   ],
   "source": [
    "t = ('he','is','my','teacher')\n",
    "print('$'.join(t))"
   ]
  },
  {
   "cell_type": "markdown",
   "id": "4e791f74-e837-4a46-b2e5-0bb82bd42afc",
   "metadata": {},
   "source": [
    "##### 5. Partition in strings\n",
    "Partition in string is similar to split but the difference is that partition given tuple of a fixed length 3. On the other side split divides for every character present in the string and convert them into list."
   ]
  },
  {
   "cell_type": "code",
   "execution_count": 4,
   "id": "ef9fdd9b-0ab2-4319-aa3f-0f9d4dd21bbb",
   "metadata": {},
   "outputs": [
    {
     "name": "stdout",
     "output_type": "stream",
     "text": [
      "('he', '$', 'is$my$teacher$who$taught$us$Hindi.')\n"
     ]
    }
   ],
   "source": [
    "sentence = \"he$is$my$teacher$who$taught$us$Hindi.\"\n",
    "print(sentence.partition('$')) # partition just separate the strings into a tuple of length 3 always."
   ]
  },
  {
   "cell_type": "code",
   "execution_count": 6,
   "id": "c8fc8aa6-c1f4-4c60-ad97-ba99d4b19d20",
   "metadata": {},
   "outputs": [
    {
     "data": {
      "text/plain": [
       "tuple"
      ]
     },
     "execution_count": 6,
     "metadata": {},
     "output_type": "execute_result"
    }
   ],
   "source": [
    "type(sentence.partition('$'))"
   ]
  },
  {
   "cell_type": "code",
   "execution_count": 11,
   "id": "ff4209dc-562a-4d68-858c-25fbef2fdd76",
   "metadata": {},
   "outputs": [
    {
     "name": "stdout",
     "output_type": "stream",
     "text": [
      "('This', '@', 'is@a@Present@Sentence.')\n"
     ]
    }
   ],
   "source": [
    "sentence2 = \"This@is@a@Present@Sentence.\"\n",
    "sentence2 = sentence2.partition('@') #partition with character @\n",
    "print(sentence2)"
   ]
  },
  {
   "cell_type": "markdown",
   "id": "09c1dacf-be7b-45ec-b6da-339e7660ea1a",
   "metadata": {},
   "source": [
    "##### 6. Find and Center Function in Strings\n",
    "- **Find:** Find tells us the first occurance of a string in other string.\n",
    "- **Center:** Center inquotes a string with some another character"
   ]
  },
  {
   "cell_type": "code",
   "execution_count": 12,
   "id": "16c5b567-5312-4d64-9cd0-127c9ff1f5ab",
   "metadata": {},
   "outputs": [
    {
     "data": {
      "text/plain": [
       "27"
      ]
     },
     "execution_count": 12,
     "metadata": {},
     "output_type": "execute_result"
    }
   ],
   "source": [
    "#Find \n",
    "rd_alpha =\"jfiowefoinsdlfwoehlnlfsndfoiwehrlsnflsljdfihweiofwdifjlsf whirwernweriojnlfnsln\"\n",
    "rd_alpha.find('iw')"
   ]
  },
  {
   "cell_type": "code",
   "execution_count": 13,
   "id": "85eb7bd2-94fb-479f-9d93-df841892953c",
   "metadata": {},
   "outputs": [
    {
     "data": {
      "text/plain": [
       "3"
      ]
     },
     "execution_count": 13,
     "metadata": {},
     "output_type": "execute_result"
    }
   ],
   "source": [
    "name = \"MaxKristiPankaj\"\n",
    "name.find('Kristi')"
   ]
  },
  {
   "cell_type": "code",
   "execution_count": 15,
   "id": "f776a3ac-1480-43a3-8880-45257c88bfd7",
   "metadata": {},
   "outputs": [
    {
     "data": {
      "text/plain": [
       "'*******Table********'"
      ]
     },
     "execution_count": 15,
     "metadata": {},
     "output_type": "execute_result"
    }
   ],
   "source": [
    "#Center\n",
    "F = 'Table'\n",
    "F.center(20,'*')"
   ]
  },
  {
   "cell_type": "code",
   "execution_count": 18,
   "id": "83faf829-3670-45ae-9791-0ef4ebda6dd3",
   "metadata": {},
   "outputs": [
    {
     "data": {
      "text/plain": [
       "'^^Ground^^'"
      ]
     },
     "execution_count": 18,
     "metadata": {},
     "output_type": "execute_result"
    }
   ],
   "source": [
    "p = 'Ground'\n",
    "p.center(10,'^')"
   ]
  },
  {
   "cell_type": "markdown",
   "id": "2af320e4-3efa-49ad-9498-d99d0da6201c",
   "metadata": {},
   "source": [
    "##### 7. String Formatting"
   ]
  },
  {
   "cell_type": "code",
   "execution_count": 9,
   "id": "542e2b99-2a36-439c-942a-9e6f7621746b",
   "metadata": {},
   "outputs": [
    {
     "name": "stdout",
     "output_type": "stream",
     "text": [
      "Enter your Age :5\n",
      "You are 5 years old\n"
     ]
    }
   ],
   "source": [
    "sentence = \"There are {} fox.\"\n",
    "sentence.format(5)\n",
    "\n",
    "Intro = \"You are {age:} years old\".format(age=int(input(\"Enter your Age :\")))\n",
    "print(Intro)\n"
   ]
  },
  {
   "cell_type": "code",
   "execution_count": 18,
   "id": "94c371c3",
   "metadata": {},
   "outputs": [
    {
     "name": "stdout",
     "output_type": "stream",
     "text": [
      "1.(:<) This is a 20       String\n",
      "2.(:>) This is a       20 String\n",
      "3.(:^) This is a    20    String\n",
      "4.(:=) This is a       20 String\n",
      "5.(:+) This is a      +20 String\n",
      "6.(:-) This is a       20 String\n",
      "7.(:) This is a 20 String\n",
      "8.(:,) This is a 223,212,312,130 String\n",
      "9.(:_) This is a 234_323_423_420 String\n"
     ]
    }
   ],
   "source": [
    "sample = \"This is a {:<8} String\".format(20)\n",
    "print(\"1.(:<) \"+sample)\n",
    "sample = \"This is a {:>8} String\".format(20)\n",
    "print(\"2.(:>) \"+sample)\n",
    "sample = \"This is a {:^8} String\".format(20)\n",
    "print(\"3.(:^) \"+sample)\n",
    "sample = \"This is a {:=8} String\".format(20)\n",
    "print(\"4.(:=) \"+sample)\n",
    "sample = \"This is a {:+8} String\".format(20)\n",
    "print(\"5.(:+) \"+sample)\n",
    "sample = \"This is a {:-8} String\".format(20)\n",
    "print(\"6.(:-) \"+sample)\n",
    "sample = \"This is a {:} String\".format(20)\n",
    "print(\"7.(:) \"+sample)\n",
    "sample = \"This is a {:,} String\".format(223212312130)\n",
    "print(\"8.(:,) \"+sample)\n",
    "sample = \"This is a {:_} String\".format(234323423420)\n",
    "print(\"9.(:_) \"+sample)"
   ]
  },
  {
   "cell_type": "markdown",
   "id": "117547aa-278e-4916-847a-7e48834fb3d3",
   "metadata": {},
   "source": [
    "##### 8. Template strings"
   ]
  },
  {
   "cell_type": "code",
   "execution_count": 21,
   "id": "22b16f6c-0f27-4ae8-b8c5-f1ba5cac2a51",
   "metadata": {},
   "outputs": [
    {
     "name": "stdout",
     "output_type": "stream",
     "text": [
      "Raman likes writting.\n"
     ]
    }
   ],
   "source": [
    "from string import Template\n",
    "\n",
    "s = Template('$who likes $what')\n",
    "print(s.substitute(who=\"Raman\",what=\"writting.\"))\n"
   ]
  }
 ],
 "metadata": {
  "kernelspec": {
   "display_name": "Python 3",
   "language": "python",
   "name": "python3"
  },
  "language_info": {
   "codemirror_mode": {
    "name": "ipython",
    "version": 3
   },
   "file_extension": ".py",
   "mimetype": "text/x-python",
   "name": "python",
   "nbconvert_exporter": "python",
   "pygments_lexer": "ipython3",
   "version": "3.9.5"
  }
 },
 "nbformat": 4,
 "nbformat_minor": 5
}
