{
 "cells": [
  {
   "cell_type": "markdown",
   "id": "8006a523-c72f-4858-96b6-e75c75eea637",
   "metadata": {},
   "source": [
    "## String and Pattern\n",
    "<img src=\"https://raw.githubusercontent.com/pankajsingh016/Machine-Learning-Basics/main/Python/Python%20Assignments/images/String%20and%20pattern.png\" alt=\"Question image\"/>"
   ]
  },
  {
   "cell_type": "code",
   "execution_count": 15,
   "id": "6db8b483-4d3a-4a85-b4c5-3784d6327893",
   "metadata": {},
   "outputs": [
    {
     "name": "stdin",
     "output_type": "stream",
     "text": [
      "Enter a number of rows: 5\n"
     ]
    },
    {
     "name": "stdout",
     "output_type": "stream",
     "text": [
      "*  \n",
      "* *  \n",
      "* * * \n",
      "* * \n",
      "* \n"
     ]
    }
   ],
   "source": [
    "#Enter a number\n",
    "n = int(input(\"Enter a number of rows:\"))\n",
    "n = n//2\n",
    "for i in range(0,n):\n",
    "    j = 0\n",
    "    while j <= i:\n",
    "        print(\"*\",end=' ')\n",
    "        j+=1\n",
    "    print(\" \")\n",
    "    \n",
    "for i in range(n,-1,-1):\n",
    "    j = i\n",
    "    while j>=0:\n",
    "        print(\"*\",end=' ')\n",
    "        j-=1\n",
    "    print(\"\")\n",
    "        "
   ]
  },
  {
   "cell_type": "code",
   "execution_count": 20,
   "id": "8a838ff9-9d99-4ff4-ae92-8c881da3675d",
   "metadata": {},
   "outputs": [
    {
     "name": "stdin",
     "output_type": "stream",
     "text": [
      "Enter a Word Yaki\n"
     ]
    },
    {
     "name": "stdout",
     "output_type": "stream",
     "text": [
      "ikaY\n"
     ]
    }
   ],
   "source": [
    "word = input(\"Enter a Word\")\n",
    "rev_word = \"\"\n",
    "size = len(word)-1\n",
    "while size>=0:\n",
    "    rev_word =rev_word + word[size]\n",
    "    size-=1\n",
    "    \n",
    "print(rev_word)"
   ]
  },
  {
   "cell_type": "code",
   "execution_count": null,
   "id": "3e962244-60cd-4123-8875-445562572050",
   "metadata": {},
   "outputs": [],
   "source": []
  }
 ],
 "metadata": {
  "kernelspec": {
   "display_name": "Python 3",
   "language": "python",
   "name": "python3"
  },
  "language_info": {
   "codemirror_mode": {
    "name": "ipython",
    "version": 3
   },
   "file_extension": ".py",
   "mimetype": "text/x-python",
   "name": "python",
   "nbconvert_exporter": "python",
   "pygments_lexer": "ipython3",
   "version": "3.9.5"
  }
 },
 "nbformat": 4,
 "nbformat_minor": 5
}
