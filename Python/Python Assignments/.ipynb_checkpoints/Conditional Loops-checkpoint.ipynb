{
 "cells": [
  {
   "cell_type": "markdown",
   "id": "8d971006",
   "metadata": {},
   "source": [
    "### Challenge 1 : Conditional Loops Questions\n",
    "<img src=\"https://raw.githubusercontent.com/pankajsingh016/Machine-Learning-Basics/main/Python/Python%20Assignments/images/Conditional%20loops.png\" alt=\"Question Image\">"
   ]
  },
  {
   "cell_type": "code",
   "execution_count": 3,
   "id": "4019e44b",
   "metadata": {},
   "outputs": [
    {
     "name": "stdout",
     "output_type": "stream",
     "text": [
      "2002,2009,2016,2023,2037,2044,2051,2058,2072,2079,2086,2093,2107,2114,2121,2128,2142,2149,2156,2163,2177,2184,2191,2198,2212,2219,2226,2233,2247,2254,2261,2268,2282,2289,2296,2303,2317,2324,2331,2338,2352,2359,2366,2373,2387,2394,2401,2408,2422,2429,2436,2443,2457,2464,2471,2478,2492,2499,2506,2513,2527,2534,2541,2548,2562,2569,2576,2583,2597,2604,2611,2618,2632,2639,2646,2653,2667,2674,2681,2688,2702,2709,2716,2723,2737,2744,2751,2758,2772,2779,2786,2793,2807,2814,2821,2828,2842,2849,2856,2863,2877,2884,2891,2898,2912,2919,2926,2933,2947,2954,2961,2968,2982,2989,2996,3003,3017,3024,3031,3038,3052,3059,3066,3073,3087,3094,3101,3108,3122,3129,3136,3143,3157,3164,3171,3178,3192,3199,"
     ]
    }
   ],
   "source": [
    "#Question 1:\n",
    "ll = 2000\n",
    "ul = 3200\n",
    "\n",
    "for i in range(ll,(ul+1)):\n",
    "    if (i%7==0):\n",
    "        if (not(i%5==0)):\n",
    "            print(i,end=',')"
   ]
  },
  {
   "cell_type": "code",
   "execution_count": 4,
   "id": "952a696e",
   "metadata": {},
   "outputs": [
    {
     "name": "stdin",
     "output_type": "stream",
     "text": [
      "Enter First Name: Pankaj\n",
      "Enter Last Name: Kanyal\n"
     ]
    },
    {
     "name": "stdout",
     "output_type": "stream",
     "text": [
      "jaknaP laynaK\n"
     ]
    }
   ],
   "source": [
    "#Question 2\n",
    "firstName = input(\"Enter First Name:\")\n",
    "lastName = input(\"Enter Last Name:\")\n",
    "print(firstName[::-1],lastName[::-1])"
   ]
  },
  {
   "cell_type": "code",
   "execution_count": 5,
   "id": "8dcc7df9",
   "metadata": {},
   "outputs": [
    {
     "name": "stdin",
     "output_type": "stream",
     "text": [
      "Enter the radious of the Sphere :  10\n"
     ]
    },
    {
     "name": "stdout",
     "output_type": "stream",
     "text": [
      "The Volume of Sphere : 418.667\n"
     ]
    }
   ],
   "source": [
    "#Question 3:\n",
    "r = float(input(\"Enter the radious of the Sphere : \"))\n",
    "volume = (4/3 *(3.14) * r**2)\n",
    "print(\"The Volume of Sphere :\",round(volume,3))"
   ]
  }
 ],
 "metadata": {
  "kernelspec": {
   "display_name": "Python 3",
   "language": "python",
   "name": "python3"
  },
  "language_info": {
   "codemirror_mode": {
    "name": "ipython",
    "version": 3
   },
   "file_extension": ".py",
   "mimetype": "text/x-python",
   "name": "python",
   "nbconvert_exporter": "python",
   "pygments_lexer": "ipython3",
   "version": "3.9.5"
  }
 },
 "nbformat": 4,
 "nbformat_minor": 5
}
