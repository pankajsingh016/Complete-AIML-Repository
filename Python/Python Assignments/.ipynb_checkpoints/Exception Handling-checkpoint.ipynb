{
 "cells": [
  {
   "cell_type": "code",
   "execution_count": 1,
   "id": "43a4d4e6",
   "metadata": {},
   "outputs": [
    {
     "name": "stdout",
     "output_type": "stream",
     "text": [
      "Division by Zero\n"
     ]
    }
   ],
   "source": [
    "#Question: Write a function to compute 5/0 and use try/except to catch the exceptioin\n",
    "try:\n",
    "    a = 5/0\n",
    "except:\n",
    "    print(\"Division by Zero\")"
   ]
  },
  {
   "cell_type": "code",
   "execution_count": 2,
   "id": "adfdb58f",
   "metadata": {},
   "outputs": [
    {
     "name": "stdout",
     "output_type": "stream",
     "text": [
      "Americans play Baseball\n",
      "Americans play Cricket\n",
      "Americans watch Baseball\n",
      "Americans watch Cricket\n",
      "Indians play Baseball\n",
      "Indians play Cricket\n",
      "Indians watch Baseball\n",
      "Indians watch Cricket\n"
     ]
    }
   ],
   "source": [
    "#Question: Implement a python program to generate all sentences where subject ....\n",
    "subjects = ['Americans','Indians']\n",
    "verbs = ['play','watch']\n",
    "objects=['Baseball','Cricket']\n",
    "\n",
    "for s in subjects:\n",
    "    for v in verbs:\n",
    "        for o in objects:\n",
    "            print(s+\" \"+v+\" \"+o)"
   ]
  }
 ],
 "metadata": {
  "kernelspec": {
   "display_name": "Python 3 (ipykernel)",
   "language": "python",
   "name": "python3"
  },
  "language_info": {
   "codemirror_mode": {
    "name": "ipython",
    "version": 3
   },
   "file_extension": ".py",
   "mimetype": "text/x-python",
   "name": "python",
   "nbconvert_exporter": "python",
   "pygments_lexer": "ipython3",
   "version": "3.9.7"
  }
 },
 "nbformat": 4,
 "nbformat_minor": 5
}
