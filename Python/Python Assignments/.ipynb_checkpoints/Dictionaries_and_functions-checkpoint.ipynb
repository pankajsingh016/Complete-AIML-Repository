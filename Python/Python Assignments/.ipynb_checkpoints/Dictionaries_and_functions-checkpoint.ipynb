{
 "cells": [
  {
   "cell_type": "code",
   "execution_count": 6,
   "id": "08e0674e",
   "metadata": {},
   "outputs": [
    {
     "name": "stdout",
     "output_type": "stream",
     "text": [
      "Enter the value of side a :3\n",
      "Enter the value of side b :4\n",
      "Enter the value of side c :5\n",
      "36.0\n",
      "Area of triangle = 6.0\n"
     ]
    }
   ],
   "source": [
    "from math import sqrt\n",
    "# area = s*(s-a)*(s-b)*(s-c)\n",
    "a = int(input(\"Enter the value of side a :\"))\n",
    "b = int(input(\"Enter the value of side b :\"))\n",
    "c = int(input(\"Enter the value of side c :\"))\n",
    "s = (a+b+c)/2\n",
    "z = (s)*(s-a)*(s-b)*(s-c)\n",
    "area = sqrt(z)\n",
    "print(\"Area of triangle =\",area)"
   ]
  },
  {
   "cell_type": "code",
   "execution_count": null,
   "id": "5b9d6d17",
   "metadata": {},
   "outputs": [],
   "source": []
  }
 ],
 "metadata": {
  "kernelspec": {
   "display_name": "Python 3 (ipykernel)",
   "language": "python",
   "name": "python3"
  },
  "language_info": {
   "codemirror_mode": {
    "name": "ipython",
    "version": 3
   },
   "file_extension": ".py",
   "mimetype": "text/x-python",
   "name": "python",
   "nbconvert_exporter": "python",
   "pygments_lexer": "ipython3",
   "version": "3.9.7"
  }
 },
 "nbformat": 4,
 "nbformat_minor": 5
}
