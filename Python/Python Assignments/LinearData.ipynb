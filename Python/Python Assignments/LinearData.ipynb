{
 "cells": [
  {
   "cell_type": "markdown",
   "id": "7dae8ad5-a7b3-419c-94cd-6c20431d6f37",
   "metadata": {},
   "source": [
    "### Linear Data\n",
    "<img src = \"\" alt = \"Question Image\"/>"
   ]
  },
  {
   "cell_type": "code",
   "execution_count": 14,
   "id": "5bec26e4-918d-4624-a4ad-469e20052623",
   "metadata": {},
   "outputs": [],
   "source": [
    "# Question 1: To Implement your own my_reduce function\n",
    "def my_reduce(fun_name,seq):\n",
    "    l1 = seq[0]\n",
    "    for i in seq[1:]:\n",
    "        l1 = fun_name(l1,i)\n",
    "    print(l1)"
   ]
  },
  {
   "cell_type": "code",
   "execution_count": 18,
   "id": "8c535fea-2509-4898-a49e-829049e8c6e6",
   "metadata": {},
   "outputs": [
    {
     "name": "stdout",
     "output_type": "stream",
     "text": [
      "3\n"
     ]
    }
   ],
   "source": [
    "def add(x,y): return x+y\n",
    "my_reduce(add,[1,2])"
   ]
  },
  {
   "cell_type": "code",
   "execution_count": 10,
   "id": "efec204f-bbaf-426d-920d-2b8704daa390",
   "metadata": {},
   "outputs": [],
   "source": [
    "def my_reduce(fun_name,seq):\n",
    "    try:\n",
    "        a = iter(seq)\n",
    "    except StopIteration:\n",
    "        raise Error(\"The Value Entered form seq is not an iterable seq\") from None\n",
    "        \n",
    "    seq = list(seq)\n",
    "    result = seq[0]\n",
    "    for i in seq[1:]:\n",
    "        result = fun_name(result,i)\n",
    "        \n",
    "    return result"
   ]
  },
  {
   "cell_type": "code",
   "execution_count": 12,
   "id": "fbe82c70-d0d3-480c-a271-e3c6d068750f",
   "metadata": {},
   "outputs": [
    {
     "data": {
      "text/plain": [
       "7"
      ]
     },
     "execution_count": 12,
     "metadata": {},
     "output_type": "execute_result"
    }
   ],
   "source": [
    "def add(x,y): return x+y\n",
    "my_reduce(add,(2,1,2,2))"
   ]
  },
  {
   "cell_type": "code",
   "execution_count": 13,
   "id": "375b6d82-cb61-4729-aeae-33ea1042d29b",
   "metadata": {},
   "outputs": [],
   "source": [
    "# Question 2: Program to implement my own myfilter function\n",
    "def my_filter (fun_name,seq):\n",
    "    try:\n",
    "        a = iter(seq)\n",
    "    except:\n",
    "        raise \"The Entered value for seq is not an iterable object\"\n",
    "\n",
    "    for i in seq:\n",
    "        if fun_name(i):\n",
    "            yield i\n",
    "    "
   ]
  },
  {
   "cell_type": "code",
   "execution_count": 14,
   "id": "6e7342a8-0488-4cab-a11e-b93eda29d920",
   "metadata": {},
   "outputs": [],
   "source": [
    "def even(num):\n",
    "    if num%2 == 0:\n",
    "        return True\n",
    "    else:\n",
    "        return False"
   ]
  },
  {
   "cell_type": "code",
   "execution_count": 15,
   "id": "5c92c2fd-ae26-424c-852b-aeda498b6b4e",
   "metadata": {},
   "outputs": [
    {
     "name": "stdout",
     "output_type": "stream",
     "text": [
      "2\n",
      "4\n",
      "6\n",
      "8\n"
     ]
    }
   ],
   "source": [
    "for i in my_filter(even,[1,2,3,4,5,6,7,8]):\n",
    "    print(i)"
   ]
  },
  {
   "cell_type": "code",
   "execution_count": 26,
   "id": "82d1ef9a-5efd-402d-b34a-210b7017c4c8",
   "metadata": {},
   "outputs": [
    {
     "data": {
      "text/plain": [
       "['x', 'xx', 'xxx', 'xxxx', 'y', 'yy', 'yyy', 'yyyy', 'z', 'zz', 'zzz', 'zzzz']"
      ]
     },
     "execution_count": 26,
     "metadata": {},
     "output_type": "execute_result"
    }
   ],
   "source": [
    "#Question 3 : List Comprehensions\n",
    "r1 = ['x','y','z']\n",
    "r2 = [1,2,3,4]\n",
    "\n",
    "l = [i*j for i in ['x','y','z']for j in range(1,5)] #Method 1\n",
    "l = [i*j for i in r1 for j in r2] #Method 2\n",
    "l"
   ]
  },
  {
   "cell_type": "code",
   "execution_count": 28,
   "id": "f827e96e-bf03-4f0a-b1be-8b810e86c209",
   "metadata": {},
   "outputs": [
    {
     "data": {
      "text/plain": [
       "['x', 'y', 'z', 'xx', 'yy', 'zz', 'xxx', 'yyy', 'zzz', 'xxxx', 'yyyy', 'zzzz']"
      ]
     },
     "execution_count": 28,
     "metadata": {},
     "output_type": "execute_result"
    }
   ],
   "source": [
    "M = [i*j for i in range(1,5)for j in ['x','y','z']] #Method 1\n",
    "M = [i*j for i in r2 for j in r1]\n",
    "M"
   ]
  },
  {
   "cell_type": "code",
   "execution_count": null,
   "id": "7ddcc8b5-e33b-472b-b370-33167e103570",
   "metadata": {},
   "outputs": [],
   "source": []
  }
 ],
 "metadata": {
  "kernelspec": {
   "display_name": "Python 3",
   "language": "python",
   "name": "python3"
  },
  "language_info": {
   "codemirror_mode": {
    "name": "ipython",
    "version": 3
   },
   "file_extension": ".py",
   "mimetype": "text/x-python",
   "name": "python",
   "nbconvert_exporter": "python",
   "pygments_lexer": "ipython3",
   "version": "3.9.5"
  }
 },
 "nbformat": 4,
 "nbformat_minor": 5
}
