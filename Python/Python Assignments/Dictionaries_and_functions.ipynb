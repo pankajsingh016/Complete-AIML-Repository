{
 "cells": [
  {
   "cell_type": "code",
   "execution_count": 6,
   "id": "08e0674e",
   "metadata": {},
   "outputs": [
    {
     "name": "stdout",
     "output_type": "stream",
     "text": [
      "Enter the value of side a :3\n",
      "Enter the value of side b :4\n",
      "Enter the value of side c :5\n",
      "36.0\n",
      "Area of triangle = 6.0\n"
     ]
    }
   ],
   "source": [
    "from math import sqrt\n",
    "# area = s*(s-a)*(s-b)*(s-c)\n",
    "a = int(input(\"Enter the value of side a :\"))\n",
    "b = int(input(\"Enter the value of side b :\"))\n",
    "c = int(input(\"Enter the value of side c :\"))\n",
    "s = (a+b+c)/2\n",
    "z = (s)*(s-a)*(s-b)*(s-c)\n",
    "area = sqrt(z)\n",
    "print(\"Area of triangle =\",area)"
   ]
  },
  {
   "cell_type": "code",
   "execution_count": 4,
   "id": "5b9d6d17",
   "metadata": {},
   "outputs": [],
   "source": [
    "#1.2\n",
    "def filter_long_words(words,n):\n",
    "    r = []\n",
    "    for i in words:\n",
    "        if len(i) > n:\n",
    "            r.append(i)\n",
    "    \n",
    "    return r"
   ]
  },
  {
   "cell_type": "code",
   "execution_count": 5,
   "id": "01a894be",
   "metadata": {},
   "outputs": [
    {
     "name": "stdout",
     "output_type": "stream",
     "text": [
      "['Pronoun', 'Delhi', 'Mumbai', 'Train', 'Aeroplane', 'India']\n"
     ]
    }
   ],
   "source": [
    "L = ['Noun','Pronoun','Verb','Delhi','Mumbai','Train','Aeroplane','Door','India']\n",
    "filtered_list = filter_long_words(L,4)\n",
    "print(filtered_list)"
   ]
  },
  {
   "cell_type": "code",
   "execution_count": 8,
   "id": "00e033dc",
   "metadata": {},
   "outputs": [
    {
     "name": "stdout",
     "output_type": "stream",
     "text": [
      "[2, 3, 4]\n"
     ]
    }
   ],
   "source": [
    "#2.1\n",
    "l = ['ab','cde','etry']\n",
    "\n",
    "def map_length(l):\n",
    "    r = []\n",
    "    for i in l:\n",
    "        r.append(len(i))\n",
    "        \n",
    "    return r\n",
    "\n",
    "k = map_length(l)\n",
    "print(k)"
   ]
  },
  {
   "cell_type": "code",
   "execution_count": 9,
   "id": "be9d6865",
   "metadata": {},
   "outputs": [
    {
     "name": "stdout",
     "output_type": "stream",
     "text": [
      "[2, 3, 4]\n"
     ]
    }
   ],
   "source": [
    "l = ['ab','cde','etry']\n",
    "k = map_length(l)\n",
    "print(k)"
   ]
  },
  {
   "cell_type": "code",
   "execution_count": 11,
   "id": "369147a6",
   "metadata": {},
   "outputs": [
    {
     "name": "stdout",
     "output_type": "stream",
     "text": [
      "False\n",
      "True\n",
      "True\n",
      "False\n",
      "False\n"
     ]
    }
   ],
   "source": [
    "def is_vowel(x):\n",
    "    if x in \"aeiouAEIOU\":\n",
    "        return True\n",
    "    else:\n",
    "        return False\n",
    "\n",
    "print(is_vowel('x'))\n",
    "print(is_vowel('A'))\n",
    "print(is_vowel('e'))\n",
    "print(is_vowel('z'))\n",
    "print(is_vowel('b'))"
   ]
  },
  {
   "cell_type": "code",
   "execution_count": null,
   "id": "18c24b76",
   "metadata": {},
   "outputs": [],
   "source": []
  }
 ],
 "metadata": {
  "kernelspec": {
   "display_name": "Python 3 (ipykernel)",
   "language": "python",
   "name": "python3"
  },
  "language_info": {
   "codemirror_mode": {
    "name": "ipython",
    "version": 3
   },
   "file_extension": ".py",
   "mimetype": "text/x-python",
   "name": "python",
   "nbconvert_exporter": "python",
   "pygments_lexer": "ipython3",
   "version": "3.9.7"
  }
 },
 "nbformat": 4,
 "nbformat_minor": 5
}
