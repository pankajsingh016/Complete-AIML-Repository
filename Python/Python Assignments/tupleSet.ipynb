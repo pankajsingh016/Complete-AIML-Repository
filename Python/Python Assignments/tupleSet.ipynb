{
 "cells": [
  {
   "cell_type": "markdown",
   "id": "cf511665",
   "metadata": {},
   "source": [
    "<img src =\"https://github.com/pankajsingh016/Machine-Learning-Basics/blob/main/Python/Python%20Assignments/images/Linear%20Data.png?raw=true\"/>"
   ]
  },
  {
   "cell_type": "code",
   "execution_count": 40,
   "id": "d57eb1db",
   "metadata": {},
   "outputs": [],
   "source": [
    "#1.1\n",
    "def myreduce(fun,seq,initial=None):\n",
    "    it = iter(seq)\n",
    "    if (initial==None):\n",
    "        value = next(it)\n",
    "    else:\n",
    "        value = initial\n",
    "    \n",
    "    for element in it:\n",
    "        value = fun(value,element)\n",
    "    \n",
    "    return value\n",
    "    "
   ]
  },
  {
   "cell_type": "code",
   "execution_count": 41,
   "id": "2b31c6a4",
   "metadata": {},
   "outputs": [
    {
     "data": {
      "text/plain": [
       "6"
      ]
     },
     "execution_count": 41,
     "metadata": {},
     "output_type": "execute_result"
    }
   ],
   "source": [
    "myreduce(lambda x,y:x+y,[1,3,2])"
   ]
  },
  {
   "cell_type": "code",
   "execution_count": 42,
   "id": "2739425e",
   "metadata": {},
   "outputs": [
    {
     "data": {
      "text/plain": [
       "36"
      ]
     },
     "execution_count": 42,
     "metadata": {},
     "output_type": "execute_result"
    }
   ],
   "source": [
    "myreduce(lambda x,y:x*y,(12,3))"
   ]
  },
  {
   "cell_type": "code",
   "execution_count": 43,
   "id": "bc4da302",
   "metadata": {},
   "outputs": [],
   "source": [
    "#1.2 Filter function \n",
    "def myfilter(fun,seq):\n",
    "    l = []\n",
    "    it = iter(seq)\n",
    "    for element in it:\n",
    "        if(fun(element)):\n",
    "            l.append(element)\n",
    "    return l"
   ]
  },
  {
   "cell_type": "code",
   "execution_count": 44,
   "id": "21d5351c",
   "metadata": {},
   "outputs": [
    {
     "data": {
      "text/plain": [
       "[2, 4]"
      ]
     },
     "execution_count": 44,
     "metadata": {},
     "output_type": "execute_result"
    }
   ],
   "source": [
    "myfilter(lambda x:x%2==0,(1,2,3,4,5))"
   ]
  },
  {
   "cell_type": "code",
   "execution_count": 45,
   "id": "e57afe40",
   "metadata": {},
   "outputs": [
    {
     "data": {
      "text/plain": [
       "(2, 4, 6, 8)"
      ]
     },
     "execution_count": 45,
     "metadata": {},
     "output_type": "execute_result"
    }
   ],
   "source": [
    "def eve(x):\n",
    "    if (x%2==0):\n",
    "        return True\n",
    "    else:\n",
    "        return False\n",
    "\n",
    "l = [1,2,3,4,5,6,7,8,9]\n",
    "tuple(myfilter(eve,l))"
   ]
  },
  {
   "cell_type": "code",
   "execution_count": 46,
   "id": "5aaac448",
   "metadata": {},
   "outputs": [
    {
     "name": "stdout",
     "output_type": "stream",
     "text": [
      "['x', 'xx', 'xxx', 'xxxx', 'y', 'yy', 'yyy', 'yyyy', 'z', 'zz', 'zzz', 'zzzz']\n"
     ]
    }
   ],
   "source": [
    "#1.3\n",
    "L = [x*y for x in 'xyz' for y in range(1,5)]\n",
    "print(L)"
   ]
  },
  {
   "cell_type": "code",
   "execution_count": 47,
   "id": "11f481f1",
   "metadata": {},
   "outputs": [
    {
     "name": "stdout",
     "output_type": "stream",
     "text": [
      "['x', 'y', 'z', 'xx', 'yy', 'zz', 'xxx', 'yyy', 'zzz', 'xxxx', 'yyyy', 'zzzz']\n"
     ]
    }
   ],
   "source": [
    "#1.4\n",
    "L = [x*y for y in range(1,5) for x in 'xyz']\n",
    "print(L)"
   ]
  },
  {
   "cell_type": "code",
   "execution_count": 48,
   "id": "a8ca70a0",
   "metadata": {},
   "outputs": [
    {
     "data": {
      "text/plain": [
       "[[2], [3], [4], [3], [4], [5], [4], [5], [6]]"
      ]
     },
     "execution_count": 48,
     "metadata": {},
     "output_type": "execute_result"
    }
   ],
   "source": [
    "#1.5\n",
    "L = [[x+y] for x in range(2,5) for y in range(0,3)]\n",
    "L"
   ]
  },
  {
   "cell_type": "code",
   "execution_count": 49,
   "id": "4e7af526",
   "metadata": {},
   "outputs": [
    {
     "data": {
      "text/plain": [
       "[[2, 3, 4, 5], [3, 4, 5, 6], [4, 5, 6, 7], [5, 6, 7, 8]]"
      ]
     },
     "execution_count": 49,
     "metadata": {},
     "output_type": "execute_result"
    }
   ],
   "source": [
    "#1.6\n",
    "L = [[x+y for x in range(2,6)] for y in range(4)]\n",
    "L"
   ]
  },
  {
   "cell_type": "code",
   "execution_count": 25,
   "id": "1abbc39e",
   "metadata": {},
   "outputs": [
    {
     "name": "stdout",
     "output_type": "stream",
     "text": [
      "[(1, 1), (2, 1), (3, 1), (1, 2), (2, 2), (3, 2), (1, 3), (2, 3), (3, 3)]\n"
     ]
    }
   ],
   "source": [
    "#1.7\n",
    "L = [(y,x) for x in range(1,4) for y in range(1,4)]\n",
    "print(L)"
   ]
  }
 ],
 "metadata": {
  "kernelspec": {
   "display_name": "Python 3 (ipykernel)",
   "language": "python",
   "name": "python3"
  },
  "language_info": {
   "codemirror_mode": {
    "name": "ipython",
    "version": 3
   },
   "file_extension": ".py",
   "mimetype": "text/x-python",
   "name": "python",
   "nbconvert_exporter": "python",
   "pygments_lexer": "ipython3",
   "version": "3.9.7"
  }
 },
 "nbformat": 4,
 "nbformat_minor": 5
}
