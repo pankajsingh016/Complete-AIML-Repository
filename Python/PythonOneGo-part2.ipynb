{
 "cells": [
  {
   "cell_type": "code",
   "execution_count": 1,
   "id": "238306ac",
   "metadata": {},
   "outputs": [
    {
     "name": "stdout",
     "output_type": "stream",
     "text": [
      "6\n"
     ]
    }
   ],
   "source": [
    "# function with multiple parameters\n",
    "\n",
    "def add(a,b):\n",
    "    return a+b\n",
    "\n",
    "result = add(2,4)\n",
    "print(result)"
   ]
  },
  {
   "cell_type": "code",
   "execution_count": 2,
   "id": "c4545de5",
   "metadata": {},
   "outputs": [
    {
     "name": "stdout",
     "output_type": "stream",
     "text": [
      "Hello Krish Welcome to paradise\n"
     ]
    }
   ],
   "source": [
    "## Default Paramters\n",
    "\n",
    "def greet(name):\n",
    "    print(f'Hello {name} Welcome to paradise')\n",
    "\n",
    "greet('Krish')\n"
   ]
  },
  {
   "cell_type": "code",
   "execution_count": 3,
   "id": "9b8be15f",
   "metadata": {},
   "outputs": [],
   "source": [
    "## Variable length arguments\n",
    "# Positional\n",
    "# Keyword\n",
    "\n",
    "def print_numbers(*args):\n",
    "    for numbers in args:\n",
    "        print(numbers)"
   ]
  },
  {
   "cell_type": "code",
   "execution_count": 5,
   "id": "aeff337f",
   "metadata": {},
   "outputs": [
    {
     "name": "stdout",
     "output_type": "stream",
     "text": [
      "1\n",
      "2\n",
      "3\n",
      "4\n",
      "Krish\n"
     ]
    }
   ],
   "source": [
    "print_numbers(1,2,3,4,'Krish')"
   ]
  },
  {
   "cell_type": "code",
   "execution_count": 6,
   "id": "e91b5d6f",
   "metadata": {},
   "outputs": [],
   "source": [
    "## Keyword Arguments\n",
    "\n",
    "def print_details(**kwargs):\n",
    "    for key,value in kwargs.items():\n",
    "        print(f'{key}:{value}')"
   ]
  },
  {
   "cell_type": "code",
   "execution_count": 7,
   "id": "f1ed4e20",
   "metadata": {},
   "outputs": [
    {
     "name": "stdout",
     "output_type": "stream",
     "text": [
      "name:Krish\n",
      "age:32\n",
      "country:India\n"
     ]
    }
   ],
   "source": [
    "print_details(name='Krish',age='32',country='India')"
   ]
  },
  {
   "cell_type": "code",
   "execution_count": 8,
   "id": "6e9a3a13",
   "metadata": {},
   "outputs": [],
   "source": [
    "def print_details(*args, **kwargs):\n",
    "    for w in args:\n",
    "        print(f'Positional args : {w}')\n",
    "    \n",
    "    for key,value in kwargs.items():\n",
    "        print(f'{key}:{value}')"
   ]
  },
  {
   "cell_type": "code",
   "execution_count": 9,
   "id": "307806a1",
   "metadata": {},
   "outputs": [
    {
     "name": "stdout",
     "output_type": "stream",
     "text": [
      "Positional args : 1\n",
      "Positional args : 2\n",
      "Positional args : 3\n",
      "Positional args : 4\n",
      "name:krish\n",
      "age:32\n",
      "country:India\n"
     ]
    }
   ],
   "source": [
    "print_details(1,2,3,4,name='krish',age='32',country='India')"
   ]
  },
  {
   "cell_type": "code",
   "execution_count": 11,
   "id": "f4f3f2c0",
   "metadata": {},
   "outputs": [
    {
     "data": {
      "text/plain": [
       "(200, 10, 20)"
      ]
     },
     "execution_count": 11,
     "metadata": {},
     "output_type": "execute_result"
    }
   ],
   "source": [
    "## Return Statement\n",
    "def multiply(a,b):\n",
    "    return a*b,a,b\n",
    "\n",
    "multiply(10,20)"
   ]
  },
  {
   "cell_type": "code",
   "execution_count": 12,
   "id": "16954db5",
   "metadata": {},
   "outputs": [],
   "source": [
    "## function example\n",
    "\n",
    "# 1. Temperature Conversion\n",
    "\n",
    "def convert_temp(temp,unit):\n",
    "    \"\"\"This function converts temperature between celsius and fahrenheit\"\"\"\n",
    "\n",
    "    if unit=='C':\n",
    "        return temp*9/5 + 32\n",
    "    \n",
    "    elif unit=='F':\n",
    "        return (temp-32)*5/9\n",
    "    \n",
    "    else:\n",
    "        return None"
   ]
  },
  {
   "cell_type": "code",
   "execution_count": 17,
   "id": "e79e7e59",
   "metadata": {},
   "outputs": [
    {
     "name": "stdout",
     "output_type": "stream",
     "text": [
      "77.0\n"
     ]
    }
   ],
   "source": [
    "print(convert_temp(25,'C'))"
   ]
  },
  {
   "cell_type": "code",
   "execution_count": 16,
   "id": "2dfc3765",
   "metadata": {},
   "outputs": [
    {
     "name": "stdout",
     "output_type": "stream",
     "text": [
      "45.0\n"
     ]
    }
   ],
   "source": [
    "print(convert_temp(113,'F'))"
   ]
  },
  {
   "cell_type": "code",
   "execution_count": 18,
   "id": "4bb33943",
   "metadata": {},
   "outputs": [
    {
     "name": "stdout",
     "output_type": "stream",
     "text": [
      "False\n"
     ]
    }
   ],
   "source": [
    "def strong_password(password):\n",
    "    \"\"\"Check if password is strong\"\"\"\n",
    "    if len(password) < 8:\n",
    "        return False\n",
    "    if not any(char.isdigit() for char in password):\n",
    "        return False\n",
    "    if not any(char.islower() for char in password):\n",
    "        return False\n",
    "    if not any(char.isupper() for char in password):\n",
    "        return False\n",
    "    if not any(char in '!@#$%^&*()_+=' for char in password):\n",
    "        return False\n",
    "    \n",
    "    return True\n",
    "\n",
    "print(strong_password(\"WeekPwd\"))"
   ]
  },
  {
   "cell_type": "code",
   "execution_count": 19,
   "id": "164c973e",
   "metadata": {},
   "outputs": [
    {
     "name": "stdout",
     "output_type": "stream",
     "text": [
      "True\n"
     ]
    }
   ],
   "source": [
    "print(strong_password(\"Strongpass1223@\"))"
   ]
  },
  {
   "cell_type": "code",
   "execution_count": 21,
   "id": "f0d7b363",
   "metadata": {},
   "outputs": [
    {
     "name": "stdout",
     "output_type": "stream",
     "text": [
      "5.8999999999999995\n"
     ]
    }
   ],
   "source": [
    "def calculate_total_cost(cart):\n",
    "    total_cost = 0\n",
    "    for item in cart:\n",
    "        total_cost+= item['price']*item['quantity'] \n",
    "    return total_cost\n",
    "\n",
    "cart = [{'name':'Apple','price':0.5,'quantity':4},\n",
    "        {'name':'Banana','price':0.3,'quantity':6},\n",
    "        {'name':'Orange','price':0.7,'quantity':3}]\n",
    "\n",
    "total_cost = calculate_total_cost(cart)\n",
    "print(total_cost)"
   ]
  },
  {
   "cell_type": "code",
   "execution_count": null,
   "id": "2e67be59",
   "metadata": {},
   "outputs": [],
   "source": []
  }
 ],
 "metadata": {
  "kernelspec": {
   "display_name": "ev",
   "language": "python",
   "name": "python3"
  },
  "language_info": {
   "codemirror_mode": {
    "name": "ipython",
    "version": 3
   },
   "file_extension": ".py",
   "mimetype": "text/x-python",
   "name": "python",
   "nbconvert_exporter": "python",
   "pygments_lexer": "ipython3",
   "version": "3.11.8"
  }
 },
 "nbformat": 4,
 "nbformat_minor": 5
}
