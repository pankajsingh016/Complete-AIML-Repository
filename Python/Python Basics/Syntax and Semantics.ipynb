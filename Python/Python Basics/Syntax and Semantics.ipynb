{
 "cells": [
  {
   "cell_type": "markdown",
   "id": "5d53b19d-4633-4b0b-b05c-bdfe86dff1c6",
   "metadata": {},
   "source": [
    "**Syntax:** It is all about the correct arrangement of words and symbols in a code."
   ]
  },
  {
   "cell_type": "code",
   "execution_count": 1,
   "id": "76dbbb6e-1bfd-4b8e-bf60-2f319b7cd9ca",
   "metadata": {},
   "outputs": [
    {
     "data": {
      "text/plain": [
       "'\\nThis is a Multi-Line Comments\\n'"
      ]
     },
     "execution_count": 1,
     "metadata": {},
     "output_type": "execute_result"
    }
   ],
   "source": [
    "# This is a Comment\n",
    "\"\"\"\n",
    "This is a Multi-Line Comments\n",
    "\"\"\""
   ]
  },
  {
   "cell_type": "markdown",
   "id": "01088f2a-ac15-42bf-9900-6e22c391d3d1",
   "metadata": {
    "jp-MarkdownHeadingCollapsed": true
   },
   "source": [
    "**Case Sensitivity:** Python is case Sensitive"
   ]
  },
  {
   "cell_type": "code",
   "execution_count": 2,
   "id": "b798110d-c11c-40d1-8d7f-3cc0a7e09ad4",
   "metadata": {},
   "outputs": [],
   "source": [
    "name = 'Krish'\n",
    "Name = 'Naik'"
   ]
  },
  {
   "cell_type": "code",
   "execution_count": 3,
   "id": "45c3ae63-a590-46aa-808b-e1b93dd1e652",
   "metadata": {},
   "outputs": [
    {
     "data": {
      "text/plain": [
       "'Krish'"
      ]
     },
     "execution_count": 3,
     "metadata": {},
     "output_type": "execute_result"
    }
   ],
   "source": [
    "name"
   ]
  },
  {
   "cell_type": "code",
   "execution_count": 4,
   "id": "d9f155cb-ec04-4e2e-b9e5-0f33b933c186",
   "metadata": {},
   "outputs": [
    {
     "data": {
      "text/plain": [
       "'Naik'"
      ]
     },
     "execution_count": 4,
     "metadata": {},
     "output_type": "execute_result"
    }
   ],
   "source": [
    "Name"
   ]
  },
  {
   "cell_type": "markdown",
   "id": "cf9f250c-a654-42ff-bc1c-cf57cf402ab5",
   "metadata": {},
   "source": [
    "**Indentation:** Indentation uses to determine the grouping of statement."
   ]
  },
  {
   "cell_type": "code",
   "execution_count": 5,
   "id": "254af7d9-717b-460e-8dae-9460dd8b617c",
   "metadata": {},
   "outputs": [
    {
     "name": "stdout",
     "output_type": "stream",
     "text": [
      "Adult\n"
     ]
    }
   ],
   "source": [
    "age = 39\n",
    "if age>18:\n",
    "    print(\"Adult\")\n",
    "else:\n",
    "    print(\"Minor\")"
   ]
  },
  {
   "cell_type": "markdown",
   "id": "92a6a610-5850-4556-9f04-93e0755518f3",
   "metadata": {},
   "source": [
    "**Line Continuation:** Using backslash to continue the line"
   ]
  },
  {
   "cell_type": "code",
   "execution_count": 8,
   "id": "d8117563-77f9-45fb-90bb-b89de1a1d626",
   "metadata": {},
   "outputs": [
    {
     "name": "stdout",
     "output_type": "stream",
     "text": [
      "20\n"
     ]
    }
   ],
   "source": [
    "total = 1+2+2+\\\n",
    "4+5+6\n",
    "print(total)"
   ]
  },
  {
   "cell_type": "markdown",
   "id": "8f6aa83d-b5d5-46cf-8c3f-a09597a372c9",
   "metadata": {},
   "source": [
    "**Multiple Statement on a single Line**"
   ]
  },
  {
   "cell_type": "code",
   "execution_count": 9,
   "id": "6a63ea49-1ec7-40f5-9fea-ed70543d5e80",
   "metadata": {},
   "outputs": [
    {
     "name": "stdout",
     "output_type": "stream",
     "text": [
      "15\n"
     ]
    }
   ],
   "source": [
    "x = 5; y=10; z = x+y\n",
    "print(z)"
   ]
  },
  {
   "cell_type": "code",
   "execution_count": null,
   "id": "e4030127-6749-4d9b-8dcd-1845f234c638",
   "metadata": {},
   "outputs": [],
   "source": []
  }
 ],
 "metadata": {
  "kernelspec": {
   "display_name": "Python 3 (ipykernel)",
   "language": "python",
   "name": "python3"
  },
  "language_info": {
   "codemirror_mode": {
    "name": "ipython",
    "version": 3
   },
   "file_extension": ".py",
   "mimetype": "text/x-python",
   "name": "python",
   "nbconvert_exporter": "python",
   "pygments_lexer": "ipython3",
   "version": "3.11.8"
  }
 },
 "nbformat": 4,
 "nbformat_minor": 5
}
