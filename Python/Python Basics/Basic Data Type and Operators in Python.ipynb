{
 "cells": [
  {
   "cell_type": "markdown",
   "id": "3d5d77fc-62cd-41b2-94eb-358931f24303",
   "metadata": {},
   "source": [
    "**DATA TYPES:** Insure data store in efficient way. Every data type consume some memory with restriction to that particular datatype"
   ]
  },
  {
   "cell_type": "code",
   "execution_count": 2,
   "id": "f2e1545e-fef9-4c85-96f0-00b82286b3bf",
   "metadata": {},
   "outputs": [
    {
     "data": {
      "text/plain": [
       "int"
      ]
     },
     "execution_count": 2,
     "metadata": {},
     "output_type": "execute_result"
    }
   ],
   "source": [
    "#Interger\n",
    "age = 32\n",
    "type(age)"
   ]
  },
  {
   "cell_type": "code",
   "execution_count": 3,
   "id": "e9622e7e-b95d-4de5-91d2-a51b97b596be",
   "metadata": {},
   "outputs": [
    {
     "data": {
      "text/plain": [
       "float"
      ]
     },
     "execution_count": 3,
     "metadata": {},
     "output_type": "execute_result"
    }
   ],
   "source": [
    "# Float\n",
    "height = 5.11\n",
    "type(height)"
   ]
  },
  {
   "cell_type": "code",
   "execution_count": 4,
   "id": "2bcdcd60-783f-4ee9-a636-87315c0b8d2e",
   "metadata": {},
   "outputs": [
    {
     "data": {
      "text/plain": [
       "str"
      ]
     },
     "execution_count": 4,
     "metadata": {},
     "output_type": "execute_result"
    }
   ],
   "source": [
    "# String\n",
    "name = 'pankaj'\n",
    "type(name)"
   ]
  },
  {
   "cell_type": "code",
   "execution_count": 6,
   "id": "88e88078-329f-4224-a2bd-b093473ae645",
   "metadata": {},
   "outputs": [
    {
     "data": {
      "text/plain": [
       "bool"
      ]
     },
     "execution_count": 6,
     "metadata": {},
     "output_type": "execute_result"
    }
   ],
   "source": [
    "# boolean dtypes\n",
    "True\n",
    "type(True)"
   ]
  },
  {
   "cell_type": "code",
   "execution_count": 7,
   "id": "bdcab8a7-8a6b-4db9-9d4d-bfe3b7ac6c5a",
   "metadata": {},
   "outputs": [
    {
     "data": {
      "text/plain": [
       "bool"
      ]
     },
     "execution_count": 7,
     "metadata": {},
     "output_type": "execute_result"
    }
   ],
   "source": [
    "a = 10\n",
    "b = 10\n",
    "type(a==b)"
   ]
  },
  {
   "cell_type": "markdown",
   "id": "1373203d-678a-4c2f-afe6-1ed53d327cfc",
   "metadata": {},
   "source": [
    "**Common Errors**\n",
    "1. "
   ]
  },
  {
   "cell_type": "code",
   "execution_count": 8,
   "id": "5adcb9a9-0fec-41e2-9ff9-04fddebdc98f",
   "metadata": {},
   "outputs": [],
   "source": [
    "result = 'Hello' + 5\n",
    "result = 'Hello' + str(5)"
   ]
  },
  {
   "cell_type": "markdown",
   "id": "12ee3a95-5d1b-4285-9821-bb02c1891b41",
   "metadata": {},
   "source": [
    "**Operators in Python**\n",
    "1. Arthematic Operation"
   ]
  },
  {
   "cell_type": "code",
   "execution_count": 9,
   "id": "7513440a-843e-498e-8077-162ad133f36f",
   "metadata": {},
   "outputs": [
    {
     "name": "stdout",
     "output_type": "stream",
     "text": [
      "[15, 5, 50, 2.0, 2, 0, 100000]\n"
     ]
    }
   ],
   "source": [
    "a = 10\n",
    "b = 5\n",
    "add_result = a+b\n",
    "sub_result = a-b\n",
    "mult_result = a*b\n",
    "div_result = a/b\n",
    "floor_div_result = a//b\n",
    "modulus_result = a%b\n",
    "exponent_result = a**b\n",
    "\n",
    "result = [add_result,sub_result,mult_result,div_result,floor_div_result,modulus_result,\n",
    "          exponent_result]\n",
    "print(result)"
   ]
  },
  {
   "cell_type": "markdown",
   "id": "da046e5a-0723-4951-88d5-ea0086ecc869",
   "metadata": {},
   "source": [
    "2. Comparison Operators"
   ]
  },
  {
   "cell_type": "code",
   "execution_count": 10,
   "id": "d8922209-3126-474c-9f90-6452b6d2836e",
   "metadata": {},
   "outputs": [],
   "source": [
    "str1 = 'Pankaj'\n",
    "str2 = 'pankaj'\n",
    "\n",
    "equal_to = str1==str2\n",
    "not_equal_to = str1!=str2\n",
    "\n",
    "a = 45\n",
    "b = 66\n",
    "\n",
    "greator_than = a > b\n",
    "less_than = a < b\n",
    "greator_than_equal_to = a>=b\n",
    "less_than_equal_to = a <= b"
   ]
  },
  {
   "cell_type": "markdown",
   "id": "bcbddf79-af24-42e5-a8b9-fb2db7fe831c",
   "metadata": {},
   "source": [
    "3. Logical Operators\n",
    "<ol style=\"list-style-type: lower-alpha\">\n",
    "<li> <b>And (&)</b>: Both Should be True for result to be True</li>\n",
    "<li>  <b>OR (|)</b>: Either One Should be True for result to be True</li>\n",
    "<li>  <b>Not (!)</b>: Makes True to False and False to True</li>\n",
    "<li>  <b>XOR (^)</b>: Both Should be different for result to be True</li>\n",
    "</ol>"
   ]
  },
  {
   "cell_type": "code",
   "execution_count": 11,
   "id": "f974cde3-33fe-4ebb-85d2-dba47654dc2e",
   "metadata": {},
   "outputs": [
    {
     "data": {
      "text/plain": [
       "False"
      ]
     },
     "execution_count": 11,
     "metadata": {},
     "output_type": "execute_result"
    }
   ],
   "source": [
    "a = True\n",
    "b = False\n",
    "\n",
    "a & b"
   ]
  },
  {
   "cell_type": "code",
   "execution_count": 12,
   "id": "912ef1a8-6163-4087-8bd0-c1c705dc7fd2",
   "metadata": {},
   "outputs": [
    {
     "data": {
      "text/plain": [
       "True"
      ]
     },
     "execution_count": 12,
     "metadata": {},
     "output_type": "execute_result"
    }
   ],
   "source": [
    "a or b"
   ]
  },
  {
   "cell_type": "code",
   "execution_count": 14,
   "id": "40ecad08-a7b6-451b-bc10-a88b4015fe9f",
   "metadata": {},
   "outputs": [
    {
     "data": {
      "text/plain": [
       "False"
      ]
     },
     "execution_count": 14,
     "metadata": {},
     "output_type": "execute_result"
    }
   ],
   "source": [
    "not a"
   ]
  },
  {
   "cell_type": "code",
   "execution_count": 15,
   "id": "5914cb28-dc71-472b-a51b-1bb3102a3af8",
   "metadata": {},
   "outputs": [
    {
     "data": {
      "text/plain": [
       "True"
      ]
     },
     "execution_count": 15,
     "metadata": {},
     "output_type": "execute_result"
    }
   ],
   "source": [
    "a ^ b"
   ]
  },
  {
   "cell_type": "code",
   "execution_count": null,
   "id": "4a550442-6536-4795-8c12-a896e49ac511",
   "metadata": {},
   "outputs": [],
   "source": []
  }
 ],
 "metadata": {
  "kernelspec": {
   "display_name": "Python 3 (ipykernel)",
   "language": "python",
   "name": "python3"
  },
  "language_info": {
   "codemirror_mode": {
    "name": "ipython",
    "version": 3
   },
   "file_extension": ".py",
   "mimetype": "text/x-python",
   "name": "python",
   "nbconvert_exporter": "python",
   "pygments_lexer": "ipython3",
   "version": "3.11.8"
  }
 },
 "nbformat": 4,
 "nbformat_minor": 5
}
