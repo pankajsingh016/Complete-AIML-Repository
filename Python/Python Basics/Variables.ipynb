{
 "cells": [
  {
   "cell_type": "markdown",
   "id": "0b5120c5-c35f-4d73-a439-cb345e496000",
   "metadata": {},
   "source": [
    "**Variables:** Fundamental element used to store data."
   ]
  },
  {
   "cell_type": "code",
   "execution_count": 1,
   "id": "8719ac70-650a-413b-8778-cae979cd5828",
   "metadata": {},
   "outputs": [],
   "source": [
    "a = 100\n",
    "# a is a variable"
   ]
  },
  {
   "cell_type": "code",
   "execution_count": 2,
   "id": "6dfb0543-6a9d-4763-9648-5ee8afda114c",
   "metadata": {},
   "outputs": [
    {
     "name": "stdout",
     "output_type": "stream",
     "text": [
      "100\n"
     ]
    }
   ],
   "source": [
    "print(a)"
   ]
  },
  {
   "cell_type": "markdown",
   "id": "67ee9756-0378-4600-beb2-024621811baf",
   "metadata": {},
   "source": [
    "**Declaring and Assigning Variables**"
   ]
  },
  {
   "cell_type": "code",
   "execution_count": 4,
   "id": "3f900516-2b8f-4edd-a24a-ce6fb1b3ac65",
   "metadata": {},
   "outputs": [
    {
     "name": "stdout",
     "output_type": "stream",
     "text": [
      "Age: 23\n",
      "Height: 5.9\n",
      "Name: Pankaj\n"
     ]
    }
   ],
   "source": [
    "age = 23\n",
    "height = 5.9\n",
    "name = \"Pankaj\"\n",
    "is_student = True\n",
    "\n",
    "print(\"Age:\",age)\n",
    "print(\"Height:\",height)\n",
    "print(\"Name:\",name)"
   ]
  },
  {
   "cell_type": "markdown",
   "id": "11ebe6e4-4952-4f3a-8c58-eb64c90bcc28",
   "metadata": {},
   "source": [
    "**Naming Conventions**\n",
    "1. Descriptive\n",
    "2. Always start with letter or _ and contians letter, number, underscores\n",
    "3. Variable name are case sensitive"
   ]
  },
  {
   "cell_type": "code",
   "execution_count": 5,
   "id": "c8f9bc81-b071-41a9-8d34-8d78fe9c4f92",
   "metadata": {},
   "outputs": [],
   "source": [
    "first_name='Pankaj'\n",
    "last_name = 'Kanyal'"
   ]
  },
  {
   "cell_type": "markdown",
   "id": "77209547-0a44-4a7c-9309-d512aa12f5b5",
   "metadata": {},
   "source": [
    "**Variables Type**\n",
    "1. Integer - age\n",
    "2. Float - height\n",
    "3. String - name\n",
    "4. Boolean - is_student"
   ]
  },
  {
   "cell_type": "code",
   "execution_count": 6,
   "id": "f255b7ee-1eb2-49ee-96b6-95941d72a614",
   "metadata": {},
   "outputs": [
    {
     "data": {
      "text/plain": [
       "float"
      ]
     },
     "execution_count": 6,
     "metadata": {},
     "output_type": "execute_result"
    }
   ],
   "source": [
    "type(height)"
   ]
  },
  {
   "cell_type": "markdown",
   "id": "3a26ce5e-0513-4db9-af5e-9172950c68ae",
   "metadata": {},
   "source": [
    "**Type-Conversion or Typecasting**"
   ]
  },
  {
   "cell_type": "code",
   "execution_count": 7,
   "id": "b44e1ac6-44f6-4d34-ac4c-923fb7234720",
   "metadata": {},
   "outputs": [
    {
     "name": "stdout",
     "output_type": "stream",
     "text": [
      "<class 'int'>\n",
      "25\n",
      "<class 'str'>\n"
     ]
    }
   ],
   "source": [
    "age = 25\n",
    "print(type(age))\n",
    "\n",
    "age_str = str(age)\n",
    "print(age_str)\n",
    "print(type(age_str))"
   ]
  },
  {
   "cell_type": "code",
   "execution_count": 8,
   "id": "8231f7fe-c32f-4247-a570-9cb120ed6696",
   "metadata": {},
   "outputs": [
    {
     "name": "stdout",
     "output_type": "stream",
     "text": [
      "<class 'int'>\n"
     ]
    }
   ],
   "source": [
    "age = '25'\n",
    "print(type(int(age)))"
   ]
  },
  {
   "cell_type": "code",
   "execution_count": 9,
   "id": "c6a027fa-f31c-4fb7-b431-d847f501304b",
   "metadata": {},
   "outputs": [
    {
     "ename": "ValueError",
     "evalue": "invalid literal for int() with base 10: 'Pankaj'",
     "output_type": "error",
     "traceback": [
      "\u001b[1;31m---------------------------------------------------------------------------\u001b[0m",
      "\u001b[1;31mValueError\u001b[0m                                Traceback (most recent call last)",
      "Cell \u001b[1;32mIn[9], line 2\u001b[0m\n\u001b[0;32m      1\u001b[0m name \u001b[38;5;241m=\u001b[39m \u001b[38;5;124m'\u001b[39m\u001b[38;5;124mPankaj\u001b[39m\u001b[38;5;124m'\u001b[39m\n\u001b[1;32m----> 2\u001b[0m \u001b[38;5;28mprint\u001b[39m(\u001b[38;5;28mtype\u001b[39m(\u001b[38;5;28mint\u001b[39m(name)))\n",
      "\u001b[1;31mValueError\u001b[0m: invalid literal for int() with base 10: 'Pankaj'"
     ]
    }
   ],
   "source": [
    "name = 'Pankaj'\n",
    "print(type(int(name)))"
   ]
  },
  {
   "cell_type": "code",
   "execution_count": 10,
   "id": "f49290b7-2ae4-49d5-ae5f-fd6fdcd2c1a0",
   "metadata": {},
   "outputs": [
    {
     "data": {
      "text/plain": [
       "float"
      ]
     },
     "execution_count": 10,
     "metadata": {},
     "output_type": "execute_result"
    }
   ],
   "source": [
    "height = 5.10\n",
    "type(height)"
   ]
  },
  {
   "cell_type": "code",
   "execution_count": 11,
   "id": "cf194657-d0a5-4ee7-9243-c952349c845e",
   "metadata": {},
   "outputs": [
    {
     "data": {
      "text/plain": [
       "5.0"
      ]
     },
     "execution_count": 11,
     "metadata": {},
     "output_type": "execute_result"
    }
   ],
   "source": [
    "float(int(height))"
   ]
  },
  {
   "cell_type": "markdown",
   "id": "8509a4cd-9f3e-46db-8119-7257e4417467",
   "metadata": {},
   "source": [
    "**Dynamic Typing:** Python allows the type of variable to change as the program execute"
   ]
  },
  {
   "cell_type": "code",
   "execution_count": 13,
   "id": "40ed7de7-87f0-47ba-9c46-8417aec1f240",
   "metadata": {},
   "outputs": [
    {
     "name": "stdout",
     "output_type": "stream",
     "text": [
      "10\n",
      "abced\n"
     ]
    }
   ],
   "source": [
    "var = 10\n",
    "print(10)\n",
    "var = 'abced'\n",
    "print(var)"
   ]
  },
  {
   "cell_type": "code",
   "execution_count": 15,
   "id": "e3b1c4ec-bf69-47e1-b7c1-784b4f307c96",
   "metadata": {},
   "outputs": [
    {
     "name": "stdin",
     "output_type": "stream",
     "text": [
      "What is the age 23\n"
     ]
    },
    {
     "name": "stdout",
     "output_type": "stream",
     "text": [
      "23 <class 'int'>\n"
     ]
    }
   ],
   "source": [
    "age = int(input('What is the age'))\n",
    "print(age,type(age))"
   ]
  },
  {
   "cell_type": "code",
   "execution_count": null,
   "id": "571ffd78-1370-4a47-ad0d-34daf37fdddd",
   "metadata": {},
   "outputs": [],
   "source": []
  }
 ],
 "metadata": {
  "kernelspec": {
   "display_name": "Python 3 (ipykernel)",
   "language": "python",
   "name": "python3"
  },
  "language_info": {
   "codemirror_mode": {
    "name": "ipython",
    "version": 3
   },
   "file_extension": ".py",
   "mimetype": "text/x-python",
   "name": "python",
   "nbconvert_exporter": "python",
   "pygments_lexer": "ipython3",
   "version": "3.11.8"
  }
 },
 "nbformat": 4,
 "nbformat_minor": 5
}
