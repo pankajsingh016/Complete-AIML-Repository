{
 "cells": [
  {
   "cell_type": "markdown",
   "id": "6eca4aed-ea55-43b4-a2b0-4a1cbde51dcb",
   "metadata": {},
   "source": [
    "### Strings in python\n",
    "**Strings -:** String is a derived data type it is a concatenated chain of various character data-type. String is important to display messages to user and to get the text based input from the user.\n",
    "In python String is in double quotes like **\"String\"**."
   ]
  },
  {
   "cell_type": "code",
   "execution_count": 1,
   "id": "bcc0c586-e383-4dbf-bb84-7c5eb8a4e124",
   "metadata": {},
   "outputs": [
    {
     "data": {
      "text/plain": [
       "str"
      ]
     },
     "execution_count": 1,
     "metadata": {},
     "output_type": "execute_result"
    }
   ],
   "source": [
    "str1 = \"Python\"\n",
    "type(str1)"
   ]
  },
  {
   "cell_type": "markdown",
   "id": "757942eb-a96e-41e1-aa72-451254c91ea0",
   "metadata": {},
   "source": [
    "##### Operations in string\n",
    "1. String concatination\n",
    "2. String Slicing\n",
    "3. Case Changing\n",
    "4. Split, join in strings\n",
    "5. Partition in strings\n",
    "6. find, center\n",
    "7. String Formatting\n",
    "8. Template Strings"
   ]
  },
  {
   "cell_type": "markdown",
   "id": "fb2af22e-6f2b-48ec-8a89-3593789a4752",
   "metadata": {},
   "source": [
    "##### 1. String Concatination"
   ]
  },
  {
   "cell_type": "code",
   "execution_count": 24,
   "id": "588a0be3-2385-4fed-8299-eb682ea1d9f2",
   "metadata": {},
   "outputs": [
    {
     "name": "stdout",
     "output_type": "stream",
     "text": [
      "PythonC++Java\n"
     ]
    }
   ],
   "source": [
    "\n",
    "pro_lang_1 = 'Python'\n",
    "pro_lang_2 = 'C++'\n",
    "pro_lang_3 = 'Java'\n",
    "\n",
    "print(pro_lang_1+pro_lang_2+pro_lang_3)\n"
   ]
  },
  {
   "cell_type": "code",
   "execution_count": 25,
   "id": "f8de5ebc-8833-423a-8d4f-6a3091f9ef9d",
   "metadata": {},
   "outputs": [
    {
     "name": "stdout",
     "output_type": "stream",
     "text": [
      "PythonPythonPythonPythonPythonPythonPythonPythonPythonPython\n"
     ]
    }
   ],
   "source": [
    "conca = pro_lang_1*10\n",
    "print(conca) # 10 times python"
   ]
  },
  {
   "cell_type": "code",
   "execution_count": 26,
   "id": "dc40a2fd-8e57-4361-9ea6-b537717d8761",
   "metadata": {},
   "outputs": [
    {
     "name": "stdout",
     "output_type": "stream",
     "text": [
      "C++ Good for Competitive Programming\n"
     ]
    }
   ],
   "source": [
    "conca2 = pro_lang_2 + \" Good for Competitive Programming\"\n",
    "print(conca2)"
   ]
  },
  {
   "cell_type": "markdown",
   "id": "2b255ac7-d763-45b0-9e52-f51713885d55",
   "metadata": {},
   "source": [
    "##### 2. String Slicing\n",
    "A string is a group of characters and every character in string have a certain value associated with it called as index.\n",
    "Index in python start with 0, the first character of the string form left side have an index zero and from right side have an index -1."
   ]
  },
  {
   "cell_type": "code",
   "execution_count": 27,
   "id": "a661c4cb-c3fa-4ac9-b551-dcb5c8324be6",
   "metadata": {},
   "outputs": [
    {
     "name": "stdout",
     "output_type": "stream",
     "text": [
      "ar\n",
      "n\n",
      "celon\n"
     ]
    }
   ],
   "source": [
    "f_club = \"Barcelona\"\n",
    "print(f_club[1:3]) #start form 1 index to 2 index\n",
    "print(f_club[-2:-1]) # the last index of string in python is at -1 position\n",
    "print(f_club[3:-1])"
   ]
  },
  {
   "cell_type": "markdown",
   "id": "b0ec7aa5-c3f6-481e-9dbf-08c908c65425",
   "metadata": {},
   "source": [
    "##### 3. Case Changing"
   ]
  },
  {
   "cell_type": "code",
   "execution_count": 28,
   "id": "7fab5392-b580-449c-be16-008550713b0e",
   "metadata": {},
   "outputs": [
    {
     "name": "stdout",
     "output_type": "stream",
     "text": [
      "String in lowercase -: english\n",
      "String in uppercase -: ENGLISH\n"
     ]
    }
   ],
   "source": [
    "lang = \"English\"\n",
    "print(\"String in lowercase -:\",lang.lower())\n",
    "print(\"String in uppercase -:\",lang.upper())"
   ]
  },
  {
   "cell_type": "code",
   "execution_count": 29,
   "id": "24f5b6b8-f5e2-4f94-b9f4-bc0f73ddeb11",
   "metadata": {},
   "outputs": [
    {
     "data": {
      "text/plain": [
       "False"
      ]
     },
     "execution_count": 29,
     "metadata": {},
     "output_type": "execute_result"
    }
   ],
   "source": [
    "#check whether string is in upper case\n",
    "lang.isupper()\n"
   ]
  },
  {
   "cell_type": "code",
   "execution_count": 30,
   "id": "2c2f6e12-3828-4265-879c-36b3ab9124d9",
   "metadata": {},
   "outputs": [
    {
     "data": {
      "text/plain": [
       "False"
      ]
     },
     "execution_count": 30,
     "metadata": {},
     "output_type": "execute_result"
    }
   ],
   "source": [
    "#check whether string is in lower case\n",
    "lang.islower() "
   ]
  },
  {
   "cell_type": "markdown",
   "id": "346719f0-ef9a-4458-982e-884681c0a884",
   "metadata": {},
   "source": [
    "##### 4. Split and join in strings"
   ]
  },
  {
   "cell_type": "code",
   "execution_count": 34,
   "id": "4a004ef5-9808-4b44-a6cf-8aa3b089aa46",
   "metadata": {},
   "outputs": [
    {
     "name": "stdout",
     "output_type": "stream",
     "text": [
      "['My', 'name', 'is', 'Pankaj']\n"
     ]
    }
   ],
   "source": [
    "#split\n",
    "intro = \"My name is Pankaj\"\n",
    "ls = intro.split(\" \") #splitting the string acrosss the space\n",
    "print(ls) # the data is stored after in a list format type"
   ]
  },
  {
   "cell_type": "code",
   "execution_count": 33,
   "id": "2f230822-de78-4bf8-a09e-de4f0fd22e23",
   "metadata": {},
   "outputs": [
    {
     "name": "stdout",
     "output_type": "stream",
     "text": [
      "['This', 'is', 'a', 'Present', 'Sentence.']\n"
     ]
    }
   ],
   "source": [
    "sentence = \"This@is@a@Present@Sentence.\"\n",
    "sen1 = sentence.split('@') #splitting across @\n",
    "print(sen1)"
   ]
  },
  {
   "cell_type": "code",
   "execution_count": 39,
   "id": "a58dd511-06b3-49a1-94e5-557b70e2648b",
   "metadata": {},
   "outputs": [
    {
     "name": "stdout",
     "output_type": "stream",
     "text": [
      "My#name#is#Pankaj\n"
     ]
    }
   ],
   "source": [
    "#join\n",
    "newSen = \"#\".join(ls)\n",
    "print(newSen)"
   ]
  },
  {
   "cell_type": "code",
   "execution_count": 40,
   "id": "9d8f0f56-1331-4b5d-b8bc-0618f6dbf9c5",
   "metadata": {},
   "outputs": [
    {
     "name": "stdout",
     "output_type": "stream",
     "text": [
      "This&is&a&Present&Sentence.\n"
     ]
    }
   ],
   "source": [
    "new_sen1 = \"&\".join(sen1)\n",
    "print(new_sen1)"
   ]
  },
  {
   "cell_type": "markdown",
   "id": "4e791f74-e837-4a46-b2e5-0bb82bd42afc",
   "metadata": {},
   "source": [
    "##### 5. Partition in strings"
   ]
  },
  {
   "cell_type": "markdown",
   "id": "09c1dacf-be7b-45ec-b6da-339e7660ea1a",
   "metadata": {},
   "source": [
    "##### 6. Find and Center Function in Strings"
   ]
  },
  {
   "cell_type": "markdown",
   "id": "2af320e4-3efa-49ad-9498-d99d0da6201c",
   "metadata": {},
   "source": [
    "##### 7. String Formatting"
   ]
  },
  {
   "cell_type": "markdown",
   "id": "117547aa-278e-4916-847a-7e48834fb3d3",
   "metadata": {},
   "source": [
    "##### 8. Template strings"
   ]
  }
 ],
 "metadata": {
  "kernelspec": {
   "display_name": "Python 3",
   "language": "python",
   "name": "python3"
  },
  "language_info": {
   "codemirror_mode": {
    "name": "ipython",
    "version": 3
   },
   "file_extension": ".py",
   "mimetype": "text/x-python",
   "name": "python",
   "nbconvert_exporter": "python",
   "pygments_lexer": "ipython3",
   "version": "3.9.5"
  }
 },
 "nbformat": 4,
 "nbformat_minor": 5
}
