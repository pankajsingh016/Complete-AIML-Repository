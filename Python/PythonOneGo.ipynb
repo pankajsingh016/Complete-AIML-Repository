{
 "cells": [
  {
   "cell_type": "code",
   "execution_count": null,
   "id": "c195cf18",
   "metadata": {},
   "outputs": [],
   "source": [
    "print(\"Hello-World\")"
   ]
  },
  {
   "cell_type": "markdown",
   "id": "a2c36372",
   "metadata": {},
   "source": [
    "### PYTHON BASIC SYNTAX AND SEMANTICS"
   ]
  },
  {
   "cell_type": "code",
   "execution_count": null,
   "id": "eb83bc0d",
   "metadata": {},
   "outputs": [],
   "source": [
    "# Basic Syntax\n",
    "### Case Sensitivity\n",
    "\"\"\"\n",
    "Python is case sensitive\n",
    "\"\"\"\n",
    "\n",
    "name = \"krish\"\n",
    "Name = \"Naik\"\n",
    "print(name)\n",
    "print(Name)"
   ]
  },
  {
   "cell_type": "code",
   "execution_count": null,
   "id": "300335fe",
   "metadata": {},
   "outputs": [],
   "source": [
    "## Indentation\n",
    "## Python define code blocks using indentation\n",
    "\n",
    "age = 32\n",
    "if age > 30:\n",
    "    print(age)\n",
    "print(age)"
   ]
  },
  {
   "cell_type": "code",
   "execution_count": null,
   "id": "4b0aaab3",
   "metadata": {},
   "outputs": [],
   "source": [
    "## Single LIne comment\n",
    "print(\"Hello World\")"
   ]
  },
  {
   "cell_type": "code",
   "execution_count": null,
   "id": "7f2af48e",
   "metadata": {},
   "outputs": [],
   "source": [
    "## Line Continuation\n",
    "total = 1+2+3+4+\\\n",
    "    5+6\n",
    "print(total)"
   ]
  },
  {
   "cell_type": "code",
   "execution_count": null,
   "id": "99757e10",
   "metadata": {},
   "outputs": [],
   "source": [
    "## Multiple Statements on a single-line\n",
    "x=5;y=10;z=x+y\n",
    "print(z)"
   ]
  },
  {
   "cell_type": "code",
   "execution_count": null,
   "id": "3030e651",
   "metadata": {},
   "outputs": [],
   "source": [
    "## Understanding Semnatics in Python\n",
    "\n",
    "#Variable Assignment\n",
    "age = 32 # age is integer\n",
    "name = \"Krish\" # name is string"
   ]
  },
  {
   "cell_type": "code",
   "execution_count": null,
   "id": "c24aa2f5",
   "metadata": {},
   "outputs": [],
   "source": [
    "type(age)"
   ]
  },
  {
   "cell_type": "code",
   "execution_count": null,
   "id": "b31160d3",
   "metadata": {},
   "outputs": [],
   "source": [
    "type(name)"
   ]
  },
  {
   "cell_type": "code",
   "execution_count": null,
   "id": "5a1a23ef",
   "metadata": {},
   "outputs": [],
   "source": [
    "## Type Inferencing\n",
    "variable = 10\n",
    "print(type(variable))\n",
    "variable = \"Krish\"\n",
    "print(type(variable))"
   ]
  },
  {
   "cell_type": "code",
   "execution_count": null,
   "id": "089d5b60",
   "metadata": {},
   "outputs": [],
   "source": [
    "## code example of indentation\n",
    "if True:\n",
    "    print(\"Correct Indentation\")\n",
    "    if False:\n",
    "        print(\"This is out print\")\n",
    "    \n",
    "    print(\"This will be print\")\n",
    "print(\"Outside the if book\")"
   ]
  },
  {
   "cell_type": "markdown",
   "id": "a0fe5367",
   "metadata": {},
   "source": [
    "### VARIABLE IN PYTHON"
   ]
  },
  {
   "cell_type": "code",
   "execution_count": null,
   "id": "f05dd91c",
   "metadata": {},
   "outputs": [],
   "source": [
    "a = 100"
   ]
  },
  {
   "cell_type": "code",
   "execution_count": null,
   "id": "601460b4",
   "metadata": {},
   "outputs": [],
   "source": [
    "## Declaring and assiging variable\n",
    "age = 32\n",
    "height = 6.1\n",
    "name=\"Krish\"\n",
    "is_student=True\n",
    "\n",
    "## Printing the variables\n",
    "print(\"age:\",age)\n",
    "print(\"Height:\",height)\n",
    "print(\"Name:\",name)"
   ]
  },
  {
   "cell_type": "code",
   "execution_count": null,
   "id": "6631346f",
   "metadata": {},
   "outputs": [],
   "source": [
    "## Naming convention\n",
    "# Variable name should be desrriptive\n",
    "# Start with letter or underscore _, containe letter,number, underscores\n",
    "# Variable names are case-sensitive\n",
    "\n",
    "\"\"\"\n",
    "illegal assiging\n",
    "2age = 10\n",
    "first-name='krish'\n",
    "@name = krish\n",
    "\"\"\""
   ]
  },
  {
   "cell_type": "code",
   "execution_count": null,
   "id": "d22ccb80",
   "metadata": {},
   "outputs": [],
   "source": [
    "## Case sensitivity\n",
    "name = \"Krish\"\n",
    "Name = \"Naik\"\n",
    "print(name,\" \",Name)"
   ]
  },
  {
   "cell_type": "code",
   "execution_count": null,
   "id": "4a8b8089",
   "metadata": {},
   "outputs": [],
   "source": [
    "## Understanding variables types\n",
    "# Python is dynamically types mean type of variable is determined at runtime.\n",
    "\n",
    "age = 25 #int\n",
    "height= 6.1 #float\n",
    "name = \"Krish\" #string\n",
    "is_student=True # bool\n",
    "\n",
    "print(type(name))"
   ]
  },
  {
   "cell_type": "code",
   "execution_count": null,
   "id": "3c3aa251",
   "metadata": {},
   "outputs": [],
   "source": [
    "## Type Checking and Conversion\n",
    "age = 25\n",
    "print(type(age))\n",
    "\n",
    "# Type-conversion\n",
    "age_str = str(age)\n",
    "print(age_str, type(age_str))"
   ]
  },
  {
   "cell_type": "code",
   "execution_count": null,
   "id": "d604ea21",
   "metadata": {},
   "outputs": [],
   "source": [
    "name = \"krish\"\n",
    "height = 6.1\n",
    "print(type(height))"
   ]
  },
  {
   "cell_type": "code",
   "execution_count": null,
   "id": "03d9af34",
   "metadata": {},
   "outputs": [],
   "source": [
    "## Dynamic Typing\n",
    "# Python allows the tpe of variable to change as the program executes\n",
    "var = 10\n",
    "print(var, type(var))\n",
    "var = \"hello\"\n",
    "print(var, type(var))\n",
    "var = 10.11\n",
    "print(var, type(var))\n"
   ]
  },
  {
   "cell_type": "code",
   "execution_count": null,
   "id": "80d55813",
   "metadata": {},
   "outputs": [],
   "source": [
    "## Input \n",
    "age = input(\"What is the age\")\n",
    "print(age)"
   ]
  },
  {
   "cell_type": "markdown",
   "id": "181d9140",
   "metadata": {},
   "source": [
    "### Basic Data-types in Python"
   ]
  },
  {
   "cell_type": "code",
   "execution_count": null,
   "id": "bab2de7b",
   "metadata": {},
   "outputs": [],
   "source": [
    "## Integers example\n",
    "age = 35\n",
    "print(type(age))\n"
   ]
  },
  {
   "cell_type": "code",
   "execution_count": null,
   "id": "20b0d747",
   "metadata": {},
   "outputs": [],
   "source": [
    "## Floating point \n",
    "height = 5.10\n",
    "print(height, type(height))"
   ]
  },
  {
   "cell_type": "code",
   "execution_count": null,
   "id": "6b2eda5c",
   "metadata": {},
   "outputs": [],
   "source": [
    "## string\n",
    "name = \"Krish\"\n",
    "print(type(name))"
   ]
  },
  {
   "cell_type": "code",
   "execution_count": null,
   "id": "fad38cc3",
   "metadata": {},
   "outputs": [],
   "source": [
    "## boolean \n",
    "True"
   ]
  },
  {
   "cell_type": "code",
   "execution_count": null,
   "id": "7c7a4b36",
   "metadata": {},
   "outputs": [],
   "source": [
    "type(True)"
   ]
  },
  {
   "cell_type": "code",
   "execution_count": null,
   "id": "711aa24c",
   "metadata": {},
   "outputs": [],
   "source": [
    "is_True = bool()"
   ]
  },
  {
   "cell_type": "code",
   "execution_count": null,
   "id": "55b8634c",
   "metadata": {},
   "outputs": [],
   "source": [
    "bool()"
   ]
  },
  {
   "cell_type": "code",
   "execution_count": null,
   "id": "4ae3e5c8",
   "metadata": {},
   "outputs": [],
   "source": [
    "a = 10\n",
    "b = 10\n",
    "type(a==b)"
   ]
  },
  {
   "cell_type": "code",
   "execution_count": null,
   "id": "7ebe2a23",
   "metadata": {},
   "outputs": [],
   "source": [
    "## common errors\n",
    "\n",
    "# 1. TypeError \n",
    "# 2. Import Error\n",
    "# 3. NameError\n",
    "# 4. AttributeError\n",
    "# 5. IndentationError\n",
    "# 6. Syntax Errors\n",
    "# 7. KeyError\n",
    "# 8. Runtime Error"
   ]
  },
  {
   "cell_type": "markdown",
   "id": "4451c689",
   "metadata": {},
   "source": [
    "### Operators in Python\n",
    "1. Arithematic [ + , - , *, /, //]\n",
    "2. Comparison [<, <=, >, >=, ==]\n",
    "3. Logical [!, ~, &, |]"
   ]
  },
  {
   "cell_type": "code",
   "execution_count": null,
   "id": "41a0cc38",
   "metadata": {},
   "outputs": [],
   "source": [
    "a = 10\n",
    "b = 5\n",
    "add_res = a+b\n",
    "sub_res = a-b\n",
    "div_res = a/b\n",
    "float_div_res = a//b\n",
    "mul_res = a*b\n",
    "modulus_res = a%b\n",
    "exp_res = a**b\n",
    "\n",
    "operations = [add_res, sub_res, div_res, float_div_res, mul_res, modulus_res, exp_res]\n",
    "print(operations)"
   ]
  },
  {
   "cell_type": "code",
   "execution_count": null,
   "id": "2e084e4b",
   "metadata": {},
   "outputs": [],
   "source": [
    "21/5"
   ]
  },
  {
   "cell_type": "code",
   "execution_count": null,
   "id": "c6720ef6",
   "metadata": {},
   "outputs": [],
   "source": [
    "21//5"
   ]
  },
  {
   "cell_type": "code",
   "execution_count": null,
   "id": "dac74bfc",
   "metadata": {},
   "outputs": [],
   "source": [
    "## Comparison operators\n",
    "## == \n",
    "a = 10\n",
    "b = 10\n",
    "\n",
    "a==b"
   ]
  },
  {
   "cell_type": "code",
   "execution_count": null,
   "id": "f47ec48b",
   "metadata": {},
   "outputs": [],
   "source": [
    "str1 = 'krish'\n",
    "str2 = 'krish'\n",
    "\n",
    "str1 == str2"
   ]
  },
  {
   "cell_type": "code",
   "execution_count": null,
   "id": "82dc42e2",
   "metadata": {},
   "outputs": [],
   "source": [
    "# Not equal to \n",
    "str1 != str2"
   ]
  },
  {
   "cell_type": "code",
   "execution_count": null,
   "id": "bd2a943c",
   "metadata": {},
   "outputs": [],
   "source": [
    "str3 = 'Krish'\n",
    "str3 != str2"
   ]
  },
  {
   "cell_type": "code",
   "execution_count": null,
   "id": "bb03b799",
   "metadata": {},
   "outputs": [],
   "source": [
    "# Greater than\n",
    "num1 = 45\n",
    "num2 = 55\n",
    "\n",
    "num1 > num2"
   ]
  },
  {
   "cell_type": "code",
   "execution_count": null,
   "id": "d49ee214",
   "metadata": {},
   "outputs": [],
   "source": [
    "# Less than\n",
    "num1 < num2"
   ]
  },
  {
   "cell_type": "code",
   "execution_count": null,
   "id": "e10e5d26",
   "metadata": {},
   "outputs": [],
   "source": [
    "# greater than or equal to \n",
    "number1 = 45\n",
    "number2 = 45\n",
    "\n",
    "number1 >= number2"
   ]
  },
  {
   "cell_type": "code",
   "execution_count": null,
   "id": "06e0e799",
   "metadata": {},
   "outputs": [],
   "source": [
    "print(number1 <= number2)"
   ]
  },
  {
   "cell_type": "code",
   "execution_count": null,
   "id": "7075e3e4",
   "metadata": {},
   "outputs": [],
   "source": [
    "## LOGICAL OPERATORS\n",
    "# And, Not, Or\n",
    "\n",
    "X = True\n",
    "Y = True\n",
    "\n",
    "result = X & Y"
   ]
  },
  {
   "cell_type": "code",
   "execution_count": null,
   "id": "ec1a7bec",
   "metadata": {},
   "outputs": [],
   "source": [
    "print(result)"
   ]
  },
  {
   "cell_type": "code",
   "execution_count": null,
   "id": "69696ce6",
   "metadata": {},
   "outputs": [],
   "source": [
    "print(not result)"
   ]
  },
  {
   "cell_type": "code",
   "execution_count": null,
   "id": "26f21bd7",
   "metadata": {},
   "outputs": [],
   "source": [
    "X = False\n",
    "Y = False\n",
    "\n",
    "# OR\n",
    "print(X | Y)"
   ]
  },
  {
   "cell_type": "code",
   "execution_count": null,
   "id": "c1f6c5bd",
   "metadata": {},
   "outputs": [],
   "source": [
    "X = True\n",
    "not X"
   ]
  },
  {
   "cell_type": "markdown",
   "id": "ffa51d8d",
   "metadata": {},
   "source": [
    "### Conditional Statements (IF, ELSE, ELIF)"
   ]
  },
  {
   "cell_type": "code",
   "execution_count": null,
   "id": "e0a70e28",
   "metadata": {},
   "outputs": [],
   "source": [
    "# if statement\n",
    "age = 20\n",
    "\n",
    "if age >= 18:\n",
    "    print(\"You are allowed to vote in elections\")\n"
   ]
  },
  {
   "cell_type": "code",
   "execution_count": null,
   "id": "a8231014",
   "metadata": {},
   "outputs": [],
   "source": [
    "## else statement\n",
    "# if get false then flow move to else\n",
    "if age < 18 and age >= 1:\n",
    "    print(\"MINOR\")\n",
    "else:\n",
    "    print(\"ADULT\")"
   ]
  },
  {
   "cell_type": "code",
   "execution_count": null,
   "id": "d384e302",
   "metadata": {},
   "outputs": [],
   "source": [
    "## elif multiple checks in statements\n",
    "\n",
    "if age < 13:\n",
    "    print(\"Child\")\n",
    "elif age < 18:\n",
    "    print('Teenager')\n",
    "else:\n",
    "    print('Adult')"
   ]
  },
  {
   "cell_type": "code",
   "execution_count": null,
   "id": "9660a7cc",
   "metadata": {},
   "outputs": [],
   "source": [
    "## Nested Conditional Statements\n",
    "num = int(input(\"Enter the number\"))\n",
    "\n",
    "if num >= 0:\n",
    "    print('The number is +ve')\n",
    "    if num%2 == 0:\n",
    "        print('The number is even')\n",
    "    else:\n",
    "        print('The number is odd')\n",
    "else:\n",
    "    print('The number is -ve')\n",
    "    print('The number is odd') if num%2==0 else print('The number is odd')"
   ]
  },
  {
   "cell_type": "code",
   "execution_count": null,
   "id": "87c84f00",
   "metadata": {},
   "outputs": [],
   "source": [
    "## Practical Example Conditional Statements\n",
    "\n",
    "# Determine a year is leaf year or not\n",
    "\n",
    "year = int(input('Enter the Year'))\n",
    "\n",
    "if year%4==0:\n",
    "    if year%100==0:\n",
    "        if year%400==0:\n",
    "            print(year, 'is a leap year')\n",
    "        else:\n",
    "            print('Not a leap year')\n",
    "    \n",
    "    else:\n",
    "        print(year, 'is a leap year')\n",
    "\n",
    "else:\n",
    "    print(year, 'is not a leap year')"
   ]
  },
  {
   "cell_type": "markdown",
   "id": "92df0cd3",
   "metadata": {},
   "source": [
    "### LOOPS IN PYTHON"
   ]
  },
  {
   "cell_type": "code",
   "execution_count": null,
   "id": "ad42397f",
   "metadata": {},
   "outputs": [],
   "source": [
    "range(5)"
   ]
  },
  {
   "cell_type": "code",
   "execution_count": null,
   "id": "a9f23926",
   "metadata": {},
   "outputs": [],
   "source": [
    "# for loop\n",
    "for i in range(5):\n",
    "    print(i)"
   ]
  },
  {
   "cell_type": "code",
   "execution_count": null,
   "id": "c20eff39",
   "metadata": {},
   "outputs": [],
   "source": [
    "for i in range(1,6):\n",
    "    print(i)"
   ]
  },
  {
   "cell_type": "code",
   "execution_count": null,
   "id": "e750114e",
   "metadata": {},
   "outputs": [],
   "source": [
    "range(1,10,1)"
   ]
  },
  {
   "cell_type": "code",
   "execution_count": null,
   "id": "bd49b123",
   "metadata": {},
   "outputs": [],
   "source": [
    "for i in range(1,10,2):\n",
    "    print(i)"
   ]
  },
  {
   "cell_type": "code",
   "execution_count": null,
   "id": "7773e476",
   "metadata": {},
   "outputs": [],
   "source": [
    "for i in range(10,1,-2):\n",
    "    print(i)"
   ]
  },
  {
   "cell_type": "code",
   "execution_count": null,
   "id": "f97a1024",
   "metadata": {},
   "outputs": [],
   "source": [
    "# strings\n",
    "\n",
    "str = 'Krish Naik'\n",
    "for i in str:\n",
    "    print(i)"
   ]
  },
  {
   "cell_type": "code",
   "execution_count": null,
   "id": "9a468def",
   "metadata": {},
   "outputs": [],
   "source": [
    "# while-loop\n",
    "# Continues to execute as long as the condition is True.\n",
    "\n",
    "count = 0\n",
    "while count < 5:\n",
    "    print(count)\n",
    "    count +=1"
   ]
  },
  {
   "cell_type": "code",
   "execution_count": null,
   "id": "162a4173",
   "metadata": {},
   "outputs": [],
   "source": [
    "count = 0\n",
    "\n",
    "while count%2 == 0:\n",
    "    print(count)\n",
    "    count = count + 1"
   ]
  },
  {
   "cell_type": "code",
   "execution_count": null,
   "id": "c82b6d31",
   "metadata": {},
   "outputs": [],
   "source": [
    "## Loop-control statements\n",
    "# 1. Break-> exit loop pre-maturely\n",
    "# 2. Continue -> help in skipping iteration and move with next iterations\n",
    "# 3. pass -> It does nothing in some conditions help in just pass\n",
    "\n",
    "for i in range(10):\n",
    "    if i==5:\n",
    "        break\n",
    "    print(i)\n"
   ]
  },
  {
   "cell_type": "code",
   "execution_count": null,
   "id": "8a72d5d1",
   "metadata": {},
   "outputs": [],
   "source": [
    "for i in range(10):\n",
    "    if i==5:\n",
    "        continue\n",
    "    print(i)"
   ]
  },
  {
   "cell_type": "code",
   "execution_count": null,
   "id": "18fba2b8",
   "metadata": {},
   "outputs": [],
   "source": [
    "for i in range(10):\n",
    "    if i%2==0:\n",
    "        continue\n",
    "    print(i)"
   ]
  },
  {
   "cell_type": "code",
   "execution_count": null,
   "id": "9d58eca5",
   "metadata": {},
   "outputs": [],
   "source": [
    "for i in range(5):\n",
    "    if i==3:\n",
    "        pass\n",
    "    print(i)"
   ]
  },
  {
   "cell_type": "code",
   "execution_count": null,
   "id": "44a4eeea",
   "metadata": {},
   "outputs": [],
   "source": [
    "# Nested Loops: Loop inside a loop\n",
    "\n",
    "for i in range(3):\n",
    "    for j in range(2):\n",
    "        print(f\"i:{i}, j:{j}\")"
   ]
  },
  {
   "cell_type": "code",
   "execution_count": null,
   "id": "2d810839",
   "metadata": {},
   "outputs": [],
   "source": [
    "## Examples: Calculate the sum of 1st N natural numbers using while loop\n",
    "n = 10\n",
    "sum = 0\n",
    "count = 1\n",
    "while count <= n:\n",
    "    sum = sum + count\n",
    "    count+=1\n",
    "\n",
    "print(f'Sum of {n} natural numbers is {sum}') "
   ]
  },
  {
   "cell_type": "code",
   "execution_count": null,
   "id": "63b59663",
   "metadata": {},
   "outputs": [],
   "source": [
    "sum = 0\n",
    "for i in range(11):\n",
    "    sum = sum+i\n",
    "\n",
    "print(f'Sum of {n} natural numbers is {sum}') "
   ]
  },
  {
   "cell_type": "code",
   "execution_count": null,
   "id": "982cd732",
   "metadata": {},
   "outputs": [],
   "source": [
    "## Example Prime numbers between 1 to 100\n",
    "\n",
    "for num in range(1101):\n",
    "    if num > 1:\n",
    "        for i in range(2,num):\n",
    "            if num%i==0:\n",
    "                break\n",
    "        else:\n",
    "            print(num)"
   ]
  },
  {
   "cell_type": "markdown",
   "id": "dfcc2d77",
   "metadata": {},
   "source": [
    "### LISTS and LIST Comprehension in PYTHON "
   ]
  },
  {
   "cell_type": "code",
   "execution_count": null,
   "id": "185badb3",
   "metadata": {},
   "outputs": [],
   "source": [
    "# List : ordered and mutable, can contain multiple data-types\n",
    "\n",
    "lst = []\n",
    "print(type(lst))"
   ]
  },
  {
   "cell_type": "code",
   "execution_count": null,
   "id": "c5def339",
   "metadata": {},
   "outputs": [],
   "source": [
    "names = ['Krish','Jack','Jacob',1,2,3,4,5]\n",
    "print(names)"
   ]
  },
  {
   "cell_type": "code",
   "execution_count": null,
   "id": "6d0edbec",
   "metadata": {},
   "outputs": [],
   "source": [
    "mixed_list = [1,'two',3.0,True]\n",
    "print(mixed_list)"
   ]
  },
  {
   "cell_type": "code",
   "execution_count": null,
   "id": "d67d2264",
   "metadata": {},
   "outputs": [],
   "source": [
    "## Accessing list elements\n",
    "fruits =['Apple','Banana','Cherry','Kiwi','Gauva']\n",
    "fruits[2]"
   ]
  },
  {
   "cell_type": "code",
   "execution_count": null,
   "id": "ed0e39c2",
   "metadata": {},
   "outputs": [],
   "source": [
    "fruits[-1]"
   ]
  },
  {
   "cell_type": "code",
   "execution_count": null,
   "id": "6f86ede8",
   "metadata": {},
   "outputs": [],
   "source": [
    "print(fruits[4])"
   ]
  },
  {
   "cell_type": "code",
   "execution_count": null,
   "id": "849463dd",
   "metadata": {},
   "outputs": [],
   "source": [
    "print(fruits[1:])"
   ]
  },
  {
   "cell_type": "code",
   "execution_count": null,
   "id": "e27ce40a",
   "metadata": {},
   "outputs": [],
   "source": [
    "print(fruits[1:3])\n",
    "print(fruits[-2:])"
   ]
  },
  {
   "cell_type": "code",
   "execution_count": null,
   "id": "2fb57185",
   "metadata": {},
   "outputs": [],
   "source": [
    "## Modify List Elements\n",
    "fruits"
   ]
  },
  {
   "cell_type": "code",
   "execution_count": null,
   "id": "b2fbc1d5",
   "metadata": {},
   "outputs": [],
   "source": [
    "print(fruits[1])"
   ]
  },
  {
   "cell_type": "code",
   "execution_count": null,
   "id": "8d5c4185",
   "metadata": {},
   "outputs": [],
   "source": [
    "fruits[-1:] = \"Watermelon\""
   ]
  },
  {
   "cell_type": "code",
   "execution_count": null,
   "id": "49a13a10",
   "metadata": {},
   "outputs": [],
   "source": [
    "fruits"
   ]
  },
  {
   "cell_type": "code",
   "execution_count": null,
   "id": "92bc0e15",
   "metadata": {},
   "outputs": [],
   "source": [
    "fruits = fruits[:4]"
   ]
  },
  {
   "cell_type": "code",
   "execution_count": null,
   "id": "a50eaf3a",
   "metadata": {},
   "outputs": [],
   "source": [
    "fruits"
   ]
  },
  {
   "cell_type": "code",
   "execution_count": null,
   "id": "7622a2d2",
   "metadata": {},
   "outputs": [],
   "source": [
    "## Insert\n",
    "fruits.append('orange')\n",
    "fruits.insert(1,'Watermelon')"
   ]
  },
  {
   "cell_type": "code",
   "execution_count": null,
   "id": "a7d69d6e",
   "metadata": {},
   "outputs": [],
   "source": [
    "fruits\n",
    "fruits.insert(1,'bananna')\n"
   ]
  },
  {
   "cell_type": "code",
   "execution_count": null,
   "id": "85e47fc4",
   "metadata": {},
   "outputs": [],
   "source": [
    "fruits"
   ]
  },
  {
   "cell_type": "code",
   "execution_count": null,
   "id": "93130e90",
   "metadata": {},
   "outputs": [],
   "source": [
    "fruits.remove('bananna') # remove the 1st occurace of a item"
   ]
  },
  {
   "cell_type": "code",
   "execution_count": null,
   "id": "f266fad0",
   "metadata": {},
   "outputs": [],
   "source": [
    "fruits.pop() # remove the last element in the list and return it"
   ]
  },
  {
   "cell_type": "code",
   "execution_count": null,
   "id": "7083819d",
   "metadata": {},
   "outputs": [],
   "source": [
    "fruits"
   ]
  },
  {
   "cell_type": "code",
   "execution_count": null,
   "id": "cdee5231",
   "metadata": {},
   "outputs": [],
   "source": [
    "fruits.index('Cherry') # get the index of any item"
   ]
  },
  {
   "cell_type": "code",
   "execution_count": null,
   "id": "ef942738",
   "metadata": {},
   "outputs": [],
   "source": [
    "fruits.insert(2,'Banana')"
   ]
  },
  {
   "cell_type": "code",
   "execution_count": null,
   "id": "6cf6dced",
   "metadata": {},
   "outputs": [],
   "source": [
    "print(fruits.count('Banana'))"
   ]
  },
  {
   "cell_type": "code",
   "execution_count": null,
   "id": "047b8048",
   "metadata": {},
   "outputs": [],
   "source": [
    "fruits.sort() #sort the list in ascending order"
   ]
  },
  {
   "cell_type": "code",
   "execution_count": null,
   "id": "83db6f70",
   "metadata": {},
   "outputs": [],
   "source": [
    "fruits"
   ]
  },
  {
   "cell_type": "code",
   "execution_count": null,
   "id": "44c3f6a3",
   "metadata": {},
   "outputs": [],
   "source": [
    "fruits.reverse() # reverse all the element"
   ]
  },
  {
   "cell_type": "code",
   "execution_count": null,
   "id": "dcabfb38",
   "metadata": {},
   "outputs": [],
   "source": [
    "fruits"
   ]
  },
  {
   "cell_type": "code",
   "execution_count": null,
   "id": "57719943",
   "metadata": {},
   "outputs": [],
   "source": [
    "fruits.clear() # remove all items from the list"
   ]
  },
  {
   "cell_type": "code",
   "execution_count": null,
   "id": "c4739d86",
   "metadata": {},
   "outputs": [],
   "source": [
    "fruits"
   ]
  },
  {
   "cell_type": "code",
   "execution_count": null,
   "id": "96d6cf83",
   "metadata": {},
   "outputs": [],
   "source": [
    "### Slicing Lists\n",
    "numbers = [1,2,3,4,5,6,7,8,9,10]\n",
    "print(numbers[2:5])\n",
    "print(numbers[:5])\n",
    "print(numbers[5:])\n",
    "print(numbers[::2])\n",
    "print(numbers[::-1])"
   ]
  },
  {
   "cell_type": "code",
   "execution_count": null,
   "id": "09aa8d9c",
   "metadata": {},
   "outputs": [],
   "source": [
    "### Itetrating Over List\n",
    "\n",
    "for num in numbers:\n",
    "    print(num)"
   ]
  },
  {
   "cell_type": "code",
   "execution_count": null,
   "id": "de44ff8c",
   "metadata": {},
   "outputs": [],
   "source": [
    "# iteratring with index\n",
    "for index,numbers in enumerate(numbers):\n",
    "    print(index,numbers)"
   ]
  },
  {
   "cell_type": "code",
   "execution_count": null,
   "id": "23856fc7",
   "metadata": {},
   "outputs": [],
   "source": [
    "square = []\n",
    "for x in range(10):\n",
    "    square.append(x**2)\n",
    "print(square)"
   ]
  },
  {
   "cell_type": "code",
   "execution_count": null,
   "id": "4d0e3f47",
   "metadata": {},
   "outputs": [],
   "source": [
    "## List Comprehension\n",
    "sq = [ x**2 for x in range(10)]\n",
    "print(sq)"
   ]
  },
  {
   "cell_type": "markdown",
   "id": "f0cf602f",
   "metadata": {},
   "source": [
    "Syntax List Comprehension\n",
    "\n",
    "- Basic Syntax [expression for item in iterable]\n",
    "- with conditional logic -> [expression for item in iterable condition]\n",
    "- Nested list comprehension -> [expression for item in iterable for item2 in iterable2]\n"
   ]
  },
  {
   "cell_type": "code",
   "execution_count": null,
   "id": "d5dd3552",
   "metadata": {},
   "outputs": [],
   "source": [
    "# basic list comprehension\n",
    "sq_all = [x**2 for x in range(10)]\n",
    "sq_all"
   ]
  },
  {
   "cell_type": "code",
   "execution_count": null,
   "id": "185535ac",
   "metadata": {},
   "outputs": [],
   "source": [
    "## List comprehension\n",
    "lst = []\n",
    "for i in range(10):\n",
    "    if i%2==0:\n",
    "        lst.append(i)\n",
    "\n",
    "print(lst)"
   ]
  },
  {
   "cell_type": "code",
   "execution_count": null,
   "id": "0dc531d8",
   "metadata": {},
   "outputs": [],
   "source": [
    "[num for num in range(20) if(num%2==0)]"
   ]
  },
  {
   "cell_type": "code",
   "execution_count": null,
   "id": "3a8dc510",
   "metadata": {},
   "outputs": [],
   "source": [
    "[ i*j for i in range(4) for j in range(4)]"
   ]
  },
  {
   "cell_type": "code",
   "execution_count": null,
   "id": "d8d131b4",
   "metadata": {},
   "outputs": [],
   "source": [
    "lst1 = [1,2,3,4]\n",
    "lst2 = ['a','b','c','d']\n",
    "\n",
    "pair = [ (i,j) for i in lst1 for j in lst2]\n",
    "print(pair)"
   ]
  },
  {
   "cell_type": "code",
   "execution_count": null,
   "id": "c03cd7cb",
   "metadata": {},
   "outputs": [],
   "source": [
    "## List comprehension with function call\n",
    "\n",
    "words = [\"hello\",\"world\",\"python\",\"list\",\"comprehension\"]\n",
    "lengths = [len(word) for word in words]\n",
    "print(lengths)"
   ]
  },
  {
   "cell_type": "markdown",
   "id": "074c03cb",
   "metadata": {},
   "source": [
    "### Tuples\n",
    "\n",
    "Ordered collection of items and they are immutable "
   ]
  },
  {
   "cell_type": "code",
   "execution_count": null,
   "id": "a2bf1df6",
   "metadata": {},
   "outputs": [],
   "source": [
    "empty_tuple = ()\n",
    "print(type(empty_tuple))\n",
    "print(empty_tuple)"
   ]
  },
  {
   "cell_type": "code",
   "execution_count": null,
   "id": "c527bbb9",
   "metadata": {},
   "outputs": [],
   "source": [
    "lst = list()\n",
    "print(type(lst))\n",
    "tpl = tuple()\n",
    "print(type(tpl))"
   ]
  },
  {
   "cell_type": "code",
   "execution_count": null,
   "id": "e241434d",
   "metadata": {},
   "outputs": [],
   "source": [
    "numbers = tuple([1,2,3,4,5,6])\n",
    "numbers"
   ]
  },
  {
   "cell_type": "code",
   "execution_count": null,
   "id": "6e665ee3",
   "metadata": {},
   "outputs": [],
   "source": [
    "list((1,2,3,4))"
   ]
  },
  {
   "cell_type": "code",
   "execution_count": null,
   "id": "ef5205a2",
   "metadata": {},
   "outputs": [],
   "source": [
    "mixed_tuple = (1,'Hello-world',3.14,True)\n",
    "print(mixed_tuple)"
   ]
  },
  {
   "cell_type": "code",
   "execution_count": null,
   "id": "760fe28e",
   "metadata": {},
   "outputs": [],
   "source": [
    "##  Accessing tuple elements\n",
    "numbers"
   ]
  },
  {
   "cell_type": "code",
   "execution_count": null,
   "id": "1aba5da4",
   "metadata": {},
   "outputs": [],
   "source": [
    "numbers[0]"
   ]
  },
  {
   "cell_type": "code",
   "execution_count": null,
   "id": "ef87c043",
   "metadata": {},
   "outputs": [],
   "source": [
    "numbers[2]"
   ]
  },
  {
   "cell_type": "code",
   "execution_count": null,
   "id": "fe7a0cd1",
   "metadata": {},
   "outputs": [],
   "source": [
    "print(numbers[2])"
   ]
  },
  {
   "cell_type": "code",
   "execution_count": null,
   "id": "fb7a9ea6",
   "metadata": {},
   "outputs": [],
   "source": [
    "print(numbers[-1])"
   ]
  },
  {
   "cell_type": "code",
   "execution_count": null,
   "id": "b7482b65",
   "metadata": {},
   "outputs": [],
   "source": [
    "numbers[0:4]"
   ]
  },
  {
   "cell_type": "code",
   "execution_count": null,
   "id": "61befa16",
   "metadata": {},
   "outputs": [],
   "source": [
    "numbers[::]"
   ]
  },
  {
   "cell_type": "code",
   "execution_count": null,
   "id": "ad416a7d",
   "metadata": {},
   "outputs": [],
   "source": [
    "numbers[::-1]"
   ]
  },
  {
   "cell_type": "code",
   "execution_count": null,
   "id": "ca34556f",
   "metadata": {},
   "outputs": [],
   "source": [
    "## tuple operations\n",
    "concat_tuples = numbers + mixed_tuple"
   ]
  },
  {
   "cell_type": "code",
   "execution_count": null,
   "id": "8e50ec9a",
   "metadata": {},
   "outputs": [],
   "source": [
    "concat_tuples"
   ]
  },
  {
   "cell_type": "code",
   "execution_count": null,
   "id": "a498cf41",
   "metadata": {},
   "outputs": [],
   "source": [
    "mixed_tuple * 3"
   ]
  },
  {
   "cell_type": "code",
   "execution_count": null,
   "id": "8b38f070",
   "metadata": {},
   "outputs": [],
   "source": [
    "numbers * 3"
   ]
  },
  {
   "cell_type": "code",
   "execution_count": null,
   "id": "61e2438d",
   "metadata": {},
   "outputs": [],
   "source": [
    "## Immutable nature of tuples\n",
    "# tuples are immutable elements can be changed once assigned\n",
    "lst = [1,2,3,4,5]\n",
    "print(lst)"
   ]
  },
  {
   "cell_type": "code",
   "execution_count": null,
   "id": "9a414942",
   "metadata": {},
   "outputs": [],
   "source": [
    "lst[1] = 'Krish'\n",
    "print(lst)"
   ]
  },
  {
   "cell_type": "code",
   "execution_count": null,
   "id": "0d1217da",
   "metadata": {},
   "outputs": [],
   "source": [
    "tupl = tuple(lst)\n",
    "# tupl[1] = 'K' element cannot be changed once assigned"
   ]
  },
  {
   "cell_type": "code",
   "execution_count": null,
   "id": "02baaa08",
   "metadata": {},
   "outputs": [],
   "source": [
    "## tuples Methods\n",
    "\n",
    "print(numbers.count(2))\n",
    "print(numbers.index(3))"
   ]
  },
  {
   "cell_type": "code",
   "execution_count": null,
   "id": "b8fd07c9",
   "metadata": {},
   "outputs": [],
   "source": [
    "## Packing and Unpacking tuple\n",
    "packed_tuple = 1,\"hello\",3.14\n",
    "print(packed_tuple)"
   ]
  },
  {
   "cell_type": "code",
   "execution_count": null,
   "id": "cfa737c5",
   "metadata": {},
   "outputs": [],
   "source": [
    "# unpacking a tuple\n",
    "a,b,c = packed_tuple\n",
    "print(a)\n",
    "print(b)\n",
    "print(c)"
   ]
  },
  {
   "cell_type": "code",
   "execution_count": null,
   "id": "1ea85587",
   "metadata": {},
   "outputs": [],
   "source": [
    "numbers = (1,2,3,4,5,6)\n",
    "first, *middle, last = numbers\n",
    "print(first)\n",
    "print(middle)\n",
    "print(last)"
   ]
  },
  {
   "cell_type": "code",
   "execution_count": null,
   "id": "957365f2",
   "metadata": {},
   "outputs": [],
   "source": [
    "## Nested Tuple\n",
    "# Nested list\n",
    "lst = [[1,2,3,4,5],[6,7,8,9],[1,'Hello',3.14,'c']]\n",
    "lst[0]\n"
   ]
  },
  {
   "cell_type": "code",
   "execution_count": null,
   "id": "8882d894",
   "metadata": {},
   "outputs": [],
   "source": [
    "lst[0][0:3]"
   ]
  },
  {
   "cell_type": "code",
   "execution_count": null,
   "id": "26e95708",
   "metadata": {},
   "outputs": [],
   "source": [
    "lst[2][0:3]"
   ]
  },
  {
   "cell_type": "code",
   "execution_count": null,
   "id": "edbb9f36",
   "metadata": {},
   "outputs": [],
   "source": [
    "nested_tuples = ((1,2,3),(4,5,6),(7,8,9))\n",
    "print(nested_tuples[0])"
   ]
  },
  {
   "cell_type": "code",
   "execution_count": null,
   "id": "886c71bd",
   "metadata": {},
   "outputs": [],
   "source": [
    "## iterating over nested tuples\n",
    "for sub_tuple in nested_tuples:\n",
    "    for item in sub_tuple:\n",
    "        print(item,end=\" \")\n",
    "    print(\"\\n\")"
   ]
  },
  {
   "cell_type": "markdown",
   "id": "ba61892d",
   "metadata": {},
   "source": [
    "### Dictionaries in Python\n",
    "unordered collection of items, store data in key-value pairs. Keys must be uniqe and immutable (eg. strings, numbers, or tuples) while values can be of any-type"
   ]
  },
  {
   "cell_type": "code",
   "execution_count": null,
   "id": "2359c2f9",
   "metadata": {},
   "outputs": [],
   "source": [
    "empty_dict = {}\n",
    "type(empty_dict)"
   ]
  },
  {
   "cell_type": "code",
   "execution_count": null,
   "id": "7fc6986d",
   "metadata": {},
   "outputs": [],
   "source": [
    "empty_dict = dict()\n",
    "type(empty_dict)"
   ]
  },
  {
   "cell_type": "code",
   "execution_count": null,
   "id": "f0c5ae8b",
   "metadata": {},
   "outputs": [],
   "source": [
    "student = {'name':'Krish','age':32,'grade':24}\n",
    "print(student)\n",
    "print(type(student))"
   ]
  },
  {
   "cell_type": "code",
   "execution_count": null,
   "id": "9fb19d84",
   "metadata": {},
   "outputs": [],
   "source": [
    "## accessing dictionary elements\n",
    "student['grade']\n",
    "student['age']\n",
    "\n",
    "# accessing using get() method\n",
    "print(student.get('grade'))\n",
    "print(student.get('last_name'))\n",
    "print(student.get('last_name',\"Not Available\"))"
   ]
  },
  {
   "cell_type": "code",
   "execution_count": null,
   "id": "4c6085f5",
   "metadata": {},
   "outputs": [],
   "source": [
    "# Modifying Dictionary elements\n",
    "## dictionary are mutable, so you can add, update or delete elements\n",
    "print(student)"
   ]
  },
  {
   "cell_type": "code",
   "execution_count": null,
   "id": "e22f81cd",
   "metadata": {},
   "outputs": [],
   "source": [
    "student['age'] = 33\n",
    "print(student)\n",
    "student['address'] = 'India'\n",
    "print(student)"
   ]
  },
  {
   "cell_type": "code",
   "execution_count": null,
   "id": "f81d49c9",
   "metadata": {},
   "outputs": [],
   "source": [
    "del student['grade']\n",
    "print(student)"
   ]
  },
  {
   "cell_type": "code",
   "execution_count": null,
   "id": "916a355f",
   "metadata": {},
   "outputs": [],
   "source": [
    "## common dictionary methods\n",
    "keys = student.keys()\n",
    "print(keys)\n",
    "values = student.values()\n",
    "print(values)"
   ]
  },
  {
   "cell_type": "code",
   "execution_count": null,
   "id": "2c4f25de",
   "metadata": {},
   "outputs": [],
   "source": [
    "items = student.items()\n",
    "print(items)"
   ]
  },
  {
   "cell_type": "code",
   "execution_count": null,
   "id": "612ba275",
   "metadata": {},
   "outputs": [],
   "source": [
    "## shallow copy\n",
    "student_copy = student\n",
    "print(student)\n",
    "print(student_copy)"
   ]
  },
  {
   "cell_type": "code",
   "execution_count": null,
   "id": "2c8003bd",
   "metadata": {},
   "outputs": [],
   "source": [
    "student['name'] = 'Krish1'"
   ]
  },
  {
   "cell_type": "code",
   "execution_count": null,
   "id": "6a96c804",
   "metadata": {},
   "outputs": [],
   "source": [
    "print(student)\n",
    "print(student_copy)"
   ]
  },
  {
   "cell_type": "code",
   "execution_count": null,
   "id": "99d19f84",
   "metadata": {},
   "outputs": [],
   "source": [
    "### Iterating over dictionary\n",
    "## You can use loops to iterate over dictionaries, keys , values, or items\n",
    "\n",
    "# iterating over keys\n",
    "for keys in student.keys():\n",
    "    print(keys)"
   ]
  },
  {
   "cell_type": "code",
   "execution_count": null,
   "id": "22559020",
   "metadata": {},
   "outputs": [],
   "source": [
    "## Iterate over values\n",
    "for value in student.values():\n",
    "    print(value)"
   ]
  },
  {
   "cell_type": "code",
   "execution_count": null,
   "id": "e5f37dde",
   "metadata": {},
   "outputs": [],
   "source": [
    "## Iterate over key-value pairs\n",
    "for key,value in student.items():\n",
    "    print(f'{key}:{value}')"
   ]
  },
  {
   "cell_type": "code",
   "execution_count": null,
   "id": "547b0565",
   "metadata": {},
   "outputs": [],
   "source": [
    "## Nested Dictionaries\n",
    "students = {\n",
    "    \"student1\":{\"name\":\"Krish\",\"age\":32},\n",
    "    \"student2\":{\"name\":\"Peter\",\"age\":35}\n",
    "\n",
    "}\n",
    "print(students)"
   ]
  },
  {
   "cell_type": "code",
   "execution_count": null,
   "id": "2853ce6a",
   "metadata": {},
   "outputs": [],
   "source": [
    "print(students['student1'])"
   ]
  },
  {
   "cell_type": "code",
   "execution_count": null,
   "id": "ba33d31b",
   "metadata": {},
   "outputs": [],
   "source": [
    "print(students['student2'])"
   ]
  },
  {
   "cell_type": "code",
   "execution_count": null,
   "id": "250e7652",
   "metadata": {},
   "outputs": [],
   "source": [
    "## Iterating over nested dictionaries\n",
    "for student_id, student_info in students.items():\n",
    "    print(f'{student_id}:{student_info}')\n",
    "    for key,value in student_info.items():\n",
    "        print(f'{key}:{value}')"
   ]
  },
  {
   "cell_type": "code",
   "execution_count": null,
   "id": "4ce99582",
   "metadata": {},
   "outputs": [],
   "source": [
    "## dictionary comprehension\n",
    "squares = { x:x**2 for x in range(5)}\n",
    "print(squares)"
   ]
  },
  {
   "cell_type": "code",
   "execution_count": null,
   "id": "bd2f58ab",
   "metadata": {},
   "outputs": [],
   "source": [
    "## Conditional dictionary comprehension\n",
    "evens = {x:x**2 for x in range(10) if x%2==0}\n",
    "print(evens)"
   ]
  },
  {
   "cell_type": "code",
   "execution_count": null,
   "id": "bdb4d250",
   "metadata": {},
   "outputs": [],
   "source": [
    "## Practical Examples\n",
    "\n",
    "## Use the dictionary to count the frequency of elements in list\n",
    "\n",
    "numbers = [1,2,3,3,3,4,4,4,4]\n",
    "\n",
    "frequency = {x:numbers.count(x) for x in numbers}\n"
   ]
  },
  {
   "cell_type": "code",
   "execution_count": null,
   "id": "7902d0ef",
   "metadata": {},
   "outputs": [],
   "source": [
    "frequency"
   ]
  },
  {
   "cell_type": "code",
   "execution_count": null,
   "id": "b62d3111",
   "metadata": {},
   "outputs": [],
   "source": [
    "## Merge two dictionaries\n",
    "\n",
    "dict1 = {\"a\":1, \"b\":2}\n",
    "dict2 = {\"b\":3, \"c\":4}\n",
    "\n",
    "merged_dict = {**dict1, **dict2}"
   ]
  },
  {
   "cell_type": "code",
   "execution_count": null,
   "id": "e509e6c4",
   "metadata": {},
   "outputs": [],
   "source": [
    "merged_dict"
   ]
  },
  {
   "cell_type": "markdown",
   "id": "d9a75fe6",
   "metadata": {},
   "source": []
  },
  {
   "cell_type": "code",
   "execution_count": null,
   "id": "aac76c59",
   "metadata": {},
   "outputs": [],
   "source": [
    "to_do_list = ['Buy Groceires','Clean the house','Pay bills']\n",
    "\n",
    "# adding to task\n",
    "to_do_list.append(\"Schedule meeting\")\n",
    "to_do_list.append(\"Go For a Run\")\n",
    "\n",
    "# remove a completed task\n",
    "to_do_list.remove('Clean the house')\n",
    "\n",
    "# checking if a task is the list\n",
    "if 'Pay bills' in to_do_list:\n",
    "    print(\"Don't forget to pay the utility bills\")\n",
    "\n",
    "print(\"To do List remaning\")\n",
    "\n",
    "for task in to_do_list:\n",
    "    print(f'-{task}')\n"
   ]
  },
  {
   "cell_type": "markdown",
   "id": "c2cbf303",
   "metadata": {},
   "source": [
    "### Functions in Python"
   ]
  },
  {
   "cell_type": "code",
   "execution_count": null,
   "id": "f254d1e5",
   "metadata": {},
   "outputs": [],
   "source": [
    "# def function_name(parameter):\n",
    "#     \"\"\"Doc String\"\"\"\n",
    "#     return expression"
   ]
  },
  {
   "cell_type": "code",
   "execution_count": null,
   "id": "0a031b95",
   "metadata": {},
   "outputs": [],
   "source": [
    "num = 24\n",
    "if num%2 == 0:\n",
    "    print('The number is even')\n",
    "else:\n",
    "    print('The number is odd')"
   ]
  },
  {
   "cell_type": "code",
   "execution_count": null,
   "id": "1923184c",
   "metadata": {},
   "outputs": [],
   "source": [
    "def even_or_odd(num):\n",
    "    \"\"\" This function finds even or odd\"\"\"\n",
    "    if num%2==0:\n",
    "        print('The number is even')\n",
    "    else:\n",
    "        print('The number is odd')\n",
    "        "
   ]
  },
  {
   "cell_type": "code",
   "execution_count": null,
   "id": "faab2ce9",
   "metadata": {},
   "outputs": [],
   "source": [
    "help(even_or_odd)"
   ]
  },
  {
   "cell_type": "code",
   "execution_count": null,
   "id": "0fbf592f",
   "metadata": {},
   "outputs": [],
   "source": [
    "even_or_odd(24)"
   ]
  },
  {
   "cell_type": "code",
   "execution_count": null,
   "id": "0425ed3f",
   "metadata": {},
   "outputs": [],
   "source": [
    "# functions with multiple parameters\n"
   ]
  }
 ],
 "metadata": {
  "kernelspec": {
   "display_name": "ev",
   "language": "python",
   "name": "python3"
  },
  "language_info": {
   "codemirror_mode": {
    "name": "ipython",
    "version": 3
   },
   "file_extension": ".py",
   "mimetype": "text/x-python",
   "name": "python",
   "nbconvert_exporter": "python",
   "pygments_lexer": "ipython3",
   "version": "3.11.8"
  }
 },
 "nbformat": 4,
 "nbformat_minor": 5
}
