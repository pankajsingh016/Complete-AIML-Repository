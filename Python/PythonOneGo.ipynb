{
 "cells": [
  {
   "cell_type": "code",
   "execution_count": 1,
   "id": "c195cf18",
   "metadata": {},
   "outputs": [
    {
     "name": "stdout",
     "output_type": "stream",
     "text": [
      "Hello-World\n"
     ]
    }
   ],
   "source": [
    "print(\"Hello-World\")"
   ]
  },
  {
   "cell_type": "code",
   "execution_count": 2,
   "id": "eb83bc0d",
   "metadata": {},
   "outputs": [
    {
     "name": "stdout",
     "output_type": "stream",
     "text": [
      "krish\n",
      "Naik\n"
     ]
    }
   ],
   "source": [
    "# Basic Syntax\n",
    "### Case Sensitivity\n",
    "\"\"\"\n",
    "Python is case sensitive\n",
    "\"\"\"\n",
    "\n",
    "name = \"krish\"\n",
    "Name = \"Naik\"\n",
    "print(name)\n",
    "print(Name)"
   ]
  },
  {
   "cell_type": "code",
   "execution_count": 3,
   "id": "300335fe",
   "metadata": {},
   "outputs": [
    {
     "name": "stdout",
     "output_type": "stream",
     "text": [
      "32\n",
      "32\n"
     ]
    }
   ],
   "source": [
    "## Indentation\n",
    "## Python define code blocks using indentation\n",
    "\n",
    "age = 32\n",
    "if age > 30:\n",
    "    print(age)\n",
    "print(age)"
   ]
  },
  {
   "cell_type": "code",
   "execution_count": null,
   "id": "4b0aaab3",
   "metadata": {},
   "outputs": [],
   "source": []
  }
 ],
 "metadata": {
  "kernelspec": {
   "display_name": "ev",
   "language": "python",
   "name": "python3"
  },
  "language_info": {
   "codemirror_mode": {
    "name": "ipython",
    "version": 3
   },
   "file_extension": ".py",
   "mimetype": "text/x-python",
   "name": "python",
   "nbconvert_exporter": "python",
   "pygments_lexer": "ipython3",
   "version": "3.11.8"
  }
 },
 "nbformat": 4,
 "nbformat_minor": 5
}
