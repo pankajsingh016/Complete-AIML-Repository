{
 "cells": [
  {
   "cell_type": "markdown",
   "id": "79ab1e54-7b79-4e33-9195-41ddf972ff3c",
   "metadata": {},
   "source": [
    "## Enumerate\n",
    "The Enumerate allows us to convert a list into list of tuples providing with index\n",
    "<br>\n",
    "**Syntax:** enumerate(iterable, start=0) "
   ]
  },
  {
   "cell_type": "code",
   "execution_count": 4,
   "id": "00edda6d-1645-4a02-82f1-4ba35990cd34",
   "metadata": {},
   "outputs": [
    {
     "name": "stdout",
     "output_type": "stream",
     "text": [
      "[(0, 'eat'), (1, 'sleep'), (2, 'repeat'), (3, 'bhajan')]\n",
      "[(1, 'e'), (2, 'a'), (3, 't')]\n"
     ]
    }
   ],
   "source": [
    "L = ['eat','sleep','repeat','bhajan']\n",
    "s1 = 'eat'\n",
    "\n",
    "print(list(enumerate(L)))\n",
    "print(list(enumerate(s1,1)))"
   ]
  },
  {
   "cell_type": "code",
   "execution_count": 5,
   "id": "970ab415-1d7b-489a-ae2f-caca8f9b334c",
   "metadata": {},
   "outputs": [
    {
     "name": "stdout",
     "output_type": "stream",
     "text": [
      "Next Element: (0, 'apple')\n"
     ]
    }
   ],
   "source": [
    "fruits = ['apple', 'banana', 'cherry']\n",
    "enum_fruits = enumerate(fruits)\n",
    "\n",
    "next_element = next(enum_fruits)\n",
    "print(f\"Next Element: {next_element}\")"
   ]
  },
  {
   "cell_type": "code",
   "execution_count": 6,
   "id": "b036d47f-938d-4cdb-82c8-66c5abb53ebc",
   "metadata": {},
   "outputs": [
    {
     "name": "stdout",
     "output_type": "stream",
     "text": [
      "1 eat\n",
      "2 sleep\n",
      "3 repeat\n",
      "4 bhajan\n"
     ]
    }
   ],
   "source": [
    "for count, ele in enumerate(L, 1):\n",
    "    print (count, ele)"
   ]
  },
  {
   "cell_type": "code",
   "execution_count": null,
   "id": "040a9a83-b7c3-4e83-8b6f-4d7e8b1eb38e",
   "metadata": {},
   "outputs": [],
   "source": []
  },
  {
   "cell_type": "code",
   "execution_count": null,
   "id": "22a5a3f0-26d9-4c23-b185-398a5e3969a0",
   "metadata": {},
   "outputs": [],
   "source": []
  }
 ],
 "metadata": {
  "kernelspec": {
   "display_name": "Python 3 (ipykernel)",
   "language": "python",
   "name": "python3"
  },
  "language_info": {
   "codemirror_mode": {
    "name": "ipython",
    "version": 3
   },
   "file_extension": ".py",
   "mimetype": "text/x-python",
   "name": "python",
   "nbconvert_exporter": "python",
   "pygments_lexer": "ipython3",
   "version": "3.11.8"
  }
 },
 "nbformat": 4,
 "nbformat_minor": 5
}
