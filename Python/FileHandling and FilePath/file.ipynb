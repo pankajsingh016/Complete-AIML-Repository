{
 "cells": [
  {
   "cell_type": "code",
   "execution_count": 1,
   "id": "bd32c4d7",
   "metadata": {},
   "outputs": [
    {
     "name": "stdout",
     "output_type": "stream",
     "text": [
      "This is just a demo text file\n"
     ]
    }
   ],
   "source": [
    "with open('example.txt','r') as file:\n",
    "    content = file.read()\n",
    "    print(content)"
   ]
  },
  {
   "cell_type": "code",
   "execution_count": 3,
   "id": "da223123",
   "metadata": {},
   "outputs": [
    {
     "name": "stdout",
     "output_type": "stream",
     "text": [
      "This is just a demo text file\n",
      "Hello, How are you?\n",
      "Pankaj is my name\n",
      "I am good thank you\n"
     ]
    }
   ],
   "source": [
    "with open('example.txt','r') as file:\n",
    "    for lines in file:\n",
    "        print(lines.strip())"
   ]
  },
  {
   "cell_type": "code",
   "execution_count": 10,
   "id": "63b776b9",
   "metadata": {},
   "outputs": [],
   "source": [
    "## Writing in a file\n",
    "with open('example.txt','w') as file:\n",
    "    file.write('Hello World!\\n')\n",
    "    file.write('This is a new Line.')"
   ]
  },
  {
   "cell_type": "code",
   "execution_count": 11,
   "id": "353f934f",
   "metadata": {},
   "outputs": [],
   "source": [
    "# write a file by appending\n",
    "with open('example.txt','a') as file:\n",
    "    file.write('New data appended!\\n')\n",
    "    file.write('Thank you')"
   ]
  },
  {
   "cell_type": "code",
   "execution_count": 12,
   "id": "35a2a80f",
   "metadata": {},
   "outputs": [],
   "source": [
    "# Writing list of lines \n",
    "lines = [\n",
    "    'First line \\n',\n",
    "    'Second line \\n',\n",
    "    'Third line \\n'\n",
    "]\n",
    "\n",
    "with open('example.txt','a') as file:\n",
    "    file.writelines(lines)"
   ]
  },
  {
   "cell_type": "code",
   "execution_count": 13,
   "id": "d71a6f1a",
   "metadata": {},
   "outputs": [],
   "source": [
    "## Binary Files : Bin file \n",
    "data = b'\\x00\\x01\\x02\\x03\\x04'\n",
    "with open('example.bin','wb') as file:\n",
    "    file.write(data)"
   ]
  },
  {
   "cell_type": "code",
   "execution_count": 16,
   "id": "cbce0087",
   "metadata": {},
   "outputs": [],
   "source": [
    "### Read the content from the source text file and write to a destination text file\n",
    "# copying a text file\n",
    "with open('source.txt','r') as source_file:\n",
    "    content = source_file.read()\n",
    "\n",
    "with open('destination.txt','w') as destination_file:\n",
    "    destination_file.write(content)"
   ]
  },
  {
   "cell_type": "code",
   "execution_count": 19,
   "id": "22fa6d9e",
   "metadata": {},
   "outputs": [
    {
     "name": "stdout",
     "output_type": "stream",
     "text": [
      "Hello World \n",
      "This is new line\n"
     ]
    }
   ],
   "source": [
    "## Writing and reading \n",
    "with open('example.txt','w+') as file:\n",
    "    file.write('Hello World \\n')\n",
    "    file.write('This is new line')\n",
    "    # move the cursor to the begning\n",
    "    file.seek(0)\n",
    "    content = file.read()\n",
    "    print(content)"
   ]
  },
  {
   "cell_type": "code",
   "execution_count": null,
   "id": "b83f2a99",
   "metadata": {},
   "outputs": [],
   "source": []
  }
 ],
 "metadata": {
  "kernelspec": {
   "display_name": "ev",
   "language": "python",
   "name": "python3"
  },
  "language_info": {
   "codemirror_mode": {
    "name": "ipython",
    "version": 3
   },
   "file_extension": ".py",
   "mimetype": "text/x-python",
   "name": "python",
   "nbconvert_exporter": "python",
   "pygments_lexer": "ipython3",
   "version": "3.11.8"
  }
 },
 "nbformat": 4,
 "nbformat_minor": 5
}
