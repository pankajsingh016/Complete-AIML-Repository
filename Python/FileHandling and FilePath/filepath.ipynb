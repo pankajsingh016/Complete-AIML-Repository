{
 "cells": [
  {
   "cell_type": "code",
   "execution_count": 1,
   "id": "8d234327",
   "metadata": {},
   "outputs": [
    {
     "name": "stdout",
     "output_type": "stream",
     "text": [
      "Current Working Directory is d:\\Git\\Machine-Learning-Basics\\Complete-AIML-Repository\\Python\\FileHandling and FilePath\n"
     ]
    }
   ],
   "source": [
    "import os\n",
    "cwd = os.getcwd()\n",
    "print(f'Current Working Directory is {cwd}')"
   ]
  },
  {
   "cell_type": "code",
   "execution_count": 3,
   "id": "1f323c4c",
   "metadata": {},
   "outputs": [
    {
     "name": "stdout",
     "output_type": "stream",
     "text": [
      "Directory 'package' create\n"
     ]
    }
   ],
   "source": [
    "## create a new directory \n",
    "new_directory = \"package\"\n",
    "os.mkdir(new_directory)\n",
    "print(f\"Directory '{new_directory}' create\")"
   ]
  },
  {
   "cell_type": "code",
   "execution_count": 4,
   "id": "ad4f4468",
   "metadata": {},
   "outputs": [
    {
     "name": "stdout",
     "output_type": "stream",
     "text": [
      "['destination.txt', 'example.bin', 'example.txt', 'file.ipynb', 'filepath.ipynb', 'package', 'source.txt']\n"
     ]
    }
   ],
   "source": [
    "# Listing files and directories\n",
    "items = os.listdir('.')\n",
    "print(items)"
   ]
  },
  {
   "cell_type": "code",
   "execution_count": 7,
   "id": "34e8de3b",
   "metadata": {},
   "outputs": [
    {
     "name": "stdout",
     "output_type": "stream",
     "text": [
      "d:\\Git\\Machine-Learning-Basics\\Complete-AIML-Repository\\Python\\FileHandling and FilePath\\ffolder\\file.txt\\demo.txt\n"
     ]
    }
   ],
   "source": [
    "dir_name = 'ffolder'\n",
    "file_name = 'file.txt'\n",
    "filesub_name = 'demo.txt'\n",
    "full_path = os.path.join(os.getcwd(),dir_name, file_name,filesub_name)\n",
    "print(full_path)"
   ]
  },
  {
   "cell_type": "code",
   "execution_count": 9,
   "id": "fb5aac80",
   "metadata": {},
   "outputs": [
    {
     "name": "stdout",
     "output_type": "stream",
     "text": [
      "The path 'example.txt' exists\n"
     ]
    }
   ],
   "source": [
    "path = 'example.txt'\n",
    "if os.path.exists(path):\n",
    "    print(f\"The path '{path}' exists\")\n",
    "else:\n",
    "    print(f\"The {path} dosen't exists\")"
   ]
  },
  {
   "cell_type": "code",
   "execution_count": 10,
   "id": "94ef1f14",
   "metadata": {},
   "outputs": [
    {
     "name": "stdout",
     "output_type": "stream",
     "text": [
      "The path example.txt is a file.\n"
     ]
    }
   ],
   "source": [
    "# Checking if a path is a file or directory\n",
    "import os\n",
    "path = 'example.txt'\n",
    "if os.path.isfile(path):\n",
    "    print(f'The path {path} is a file.')\n",
    "elif os.path.isdir(path):\n",
    "    print(f'The path {path} is a directory.')\n",
    "else:\n",
    "    print(f'The path {path} is neither  a file or a directory.')"
   ]
  },
  {
   "cell_type": "code",
   "execution_count": null,
   "id": "660d92ce",
   "metadata": {},
   "outputs": [],
   "source": []
  }
 ],
 "metadata": {
  "kernelspec": {
   "display_name": "ev",
   "language": "python",
   "name": "python3"
  },
  "language_info": {
   "codemirror_mode": {
    "name": "ipython",
    "version": 3
   },
   "file_extension": ".py",
   "mimetype": "text/x-python",
   "name": "python",
   "nbconvert_exporter": "python",
   "pygments_lexer": "ipython3",
   "version": "3.11.8"
  }
 },
 "nbformat": 4,
 "nbformat_minor": 5
}
