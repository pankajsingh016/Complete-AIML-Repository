{
 "cells": [
  {
   "cell_type": "code",
   "execution_count": 1,
   "id": "6e94745f",
   "metadata": {},
   "outputs": [
    {
     "name": "stdout",
     "output_type": "stream",
     "text": [
      "Ultralytics 8.3.152  Python-3.11.8 torch-2.7.1+cpu CPU (11th Gen Intel Core(TM) i5-1135G7 2.40GHz)\n",
      "\u001b[34m\u001b[1mengine\\trainer: \u001b[0magnostic_nms=False, amp=True, augment=False, auto_augment=randaugment, batch=16, bgr=0.0, box=7.5, cache=False, cfg=None, classes=None, close_mosaic=10, cls=0.5, conf=None, copy_paste=0.0, copy_paste_mode=flip, cos_lr=False, cutmix=0.0, data=coco128.yaml, degrees=0.0, deterministic=True, device=cpu, dfl=1.5, dnn=False, dropout=0.0, dynamic=False, embed=None, epochs=10, erasing=0.4, exist_ok=False, fliplr=0.5, flipud=0.0, format=torchscript, fraction=1.0, freeze=None, half=False, hsv_h=0.015, hsv_s=0.7, hsv_v=0.4, imgsz=640, int8=False, iou=0.7, keras=False, kobj=1.0, line_width=None, lr0=0.01, lrf=0.01, mask_ratio=4, max_det=300, mixup=0.0, mode=train, model=yolov8n.pt, momentum=0.937, mosaic=1.0, multi_scale=False, name=train4, nbs=64, nms=False, opset=None, optimize=False, optimizer=auto, overlap_mask=True, patience=100, perspective=0.0, plots=True, pose=12.0, pretrained=True, profile=False, project=None, rect=False, resume=False, retina_masks=False, save=True, save_conf=False, save_crop=False, save_dir=runs\\detect\\train4, save_frames=False, save_json=False, save_period=-1, save_txt=False, scale=0.5, seed=0, shear=0.0, show=False, show_boxes=True, show_conf=True, show_labels=True, simplify=True, single_cls=False, source=None, split=val, stream_buffer=False, task=detect, time=None, tracker=botsort.yaml, translate=0.1, val=True, verbose=True, vid_stride=1, visualize=False, warmup_bias_lr=0.1, warmup_epochs=3.0, warmup_momentum=0.8, weight_decay=0.0005, workers=8, workspace=None\n",
      "\n",
      "                   from  n    params  module                                       arguments                     \n",
      "  0                  -1  1       464  ultralytics.nn.modules.conv.Conv             [3, 16, 3, 2]                 \n",
      "  1                  -1  1      4672  ultralytics.nn.modules.conv.Conv             [16, 32, 3, 2]                \n",
      "  2                  -1  1      7360  ultralytics.nn.modules.block.C2f             [32, 32, 1, True]             \n",
      "  3                  -1  1     18560  ultralytics.nn.modules.conv.Conv             [32, 64, 3, 2]                \n",
      "  4                  -1  2     49664  ultralytics.nn.modules.block.C2f             [64, 64, 2, True]             \n",
      "  5                  -1  1     73984  ultralytics.nn.modules.conv.Conv             [64, 128, 3, 2]               \n",
      "  6                  -1  2    197632  ultralytics.nn.modules.block.C2f             [128, 128, 2, True]           \n",
      "  7                  -1  1    295424  ultralytics.nn.modules.conv.Conv             [128, 256, 3, 2]              \n",
      "  8                  -1  1    460288  ultralytics.nn.modules.block.C2f             [256, 256, 1, True]           \n",
      "  9                  -1  1    164608  ultralytics.nn.modules.block.SPPF            [256, 256, 5]                 \n",
      " 10                  -1  1         0  torch.nn.modules.upsampling.Upsample         [None, 2, 'nearest']          \n",
      " 11             [-1, 6]  1         0  ultralytics.nn.modules.conv.Concat           [1]                           \n",
      " 12                  -1  1    148224  ultralytics.nn.modules.block.C2f             [384, 128, 1]                 \n",
      " 13                  -1  1         0  torch.nn.modules.upsampling.Upsample         [None, 2, 'nearest']          \n",
      " 14             [-1, 4]  1         0  ultralytics.nn.modules.conv.Concat           [1]                           \n",
      " 15                  -1  1     37248  ultralytics.nn.modules.block.C2f             [192, 64, 1]                  \n",
      " 16                  -1  1     36992  ultralytics.nn.modules.conv.Conv             [64, 64, 3, 2]                \n",
      " 17            [-1, 12]  1         0  ultralytics.nn.modules.conv.Concat           [1]                           \n",
      " 18                  -1  1    123648  ultralytics.nn.modules.block.C2f             [192, 128, 1]                 \n",
      " 19                  -1  1    147712  ultralytics.nn.modules.conv.Conv             [128, 128, 3, 2]              \n",
      " 20             [-1, 9]  1         0  ultralytics.nn.modules.conv.Concat           [1]                           \n",
      " 21                  -1  1    493056  ultralytics.nn.modules.block.C2f             [384, 256, 1]                 \n",
      " 22        [15, 18, 21]  1    897664  ultralytics.nn.modules.head.Detect           [80, [64, 128, 256]]          \n",
      "Model summary: 129 layers, 3,157,200 parameters, 3,157,184 gradients, 8.9 GFLOPs\n",
      "\n",
      "Transferred 355/355 items from pretrained weights\n",
      "Freezing layer 'model.22.dfl.conv.weight'\n",
      "\u001b[34m\u001b[1mtrain: \u001b[0mFast image access  (ping: 0.40.1 ms, read: 53.018.3 MB/s, size: 50.9 KB)\n"
     ]
    },
    {
     "name": "stderr",
     "output_type": "stream",
     "text": [
      "\u001b[34m\u001b[1mtrain: \u001b[0mScanning C:\\Users\\pankr\\datasets\\coco128\\labels\\train2017.cache... 126 images, 2 backgrounds, 0 corrupt: 100%|██████████| 128/128 [00:00<?, ?it/s]"
     ]
    },
    {
     "name": "stdout",
     "output_type": "stream",
     "text": [
      "\u001b[34m\u001b[1mval: \u001b[0mFast image access  (ping: 0.40.2 ms, read: 44.421.8 MB/s, size: 52.5 KB)\n"
     ]
    },
    {
     "name": "stderr",
     "output_type": "stream",
     "text": [
      "\n",
      "c:\\Users\\pankr\\miniconda3\\envs\\ev\\Lib\\site-packages\\torch\\utils\\data\\dataloader.py:665: UserWarning: 'pin_memory' argument is set as true but no accelerator is found, then device pinned memory won't be used.\n",
      "  warnings.warn(warn_msg)\n",
      "\u001b[34m\u001b[1mval: \u001b[0mScanning C:\\Users\\pankr\\datasets\\coco128\\labels\\train2017.cache... 126 images, 2 backgrounds, 0 corrupt: 100%|██████████| 128/128 [00:00<?, ?it/s]\n",
      "c:\\Users\\pankr\\miniconda3\\envs\\ev\\Lib\\site-packages\\torch\\utils\\data\\dataloader.py:665: UserWarning: 'pin_memory' argument is set as true but no accelerator is found, then device pinned memory won't be used.\n",
      "  warnings.warn(warn_msg)\n"
     ]
    },
    {
     "name": "stdout",
     "output_type": "stream",
     "text": [
      "Plotting labels to runs\\detect\\train4\\labels.jpg... \n",
      "\u001b[34m\u001b[1moptimizer:\u001b[0m 'optimizer=auto' found, ignoring 'lr0=0.01' and 'momentum=0.937' and determining best 'optimizer', 'lr0' and 'momentum' automatically... \n",
      "\u001b[34m\u001b[1moptimizer:\u001b[0m AdamW(lr=0.000119, momentum=0.9) with parameter groups 57 weight(decay=0.0), 64 weight(decay=0.0005), 63 bias(decay=0.0)\n",
      "Image sizes 640 train, 640 val\n",
      "Using 0 dataloader workers\n",
      "Logging results to \u001b[1mruns\\detect\\train4\u001b[0m\n",
      "Starting training for 10 epochs...\n",
      "Closing dataloader mosaic\n",
      "\n",
      "      Epoch    GPU_mem   box_loss   cls_loss   dfl_loss  Instances       Size\n"
     ]
    },
    {
     "name": "stderr",
     "output_type": "stream",
     "text": [
      "c:\\Users\\pankr\\miniconda3\\envs\\ev\\Lib\\site-packages\\torch\\utils\\data\\dataloader.py:665: UserWarning: 'pin_memory' argument is set as true but no accelerator is found, then device pinned memory won't be used.\n",
      "  warnings.warn(warn_msg)\n",
      "       1/10         0G      1.194      1.404      1.217         66        640: 100%|██████████| 8/8 [03:32<00:00, 26.60s/it]\n",
      "                 Class     Images  Instances      Box(P          R      mAP50  mAP50-95): 100%|██████████| 4/4 [00:30<00:00,  7.53s/it]"
     ]
    },
    {
     "name": "stdout",
     "output_type": "stream",
     "text": [
      "                   all        128        929      0.643      0.539      0.612       0.45\n"
     ]
    },
    {
     "name": "stderr",
     "output_type": "stream",
     "text": [
      "\n"
     ]
    },
    {
     "name": "stdout",
     "output_type": "stream",
     "text": [
      "\n",
      "      Epoch    GPU_mem   box_loss   cls_loss   dfl_loss  Instances       Size\n"
     ]
    },
    {
     "name": "stderr",
     "output_type": "stream",
     "text": [
      "       2/10         0G      1.144      1.384      1.191        104        640: 100%|██████████| 8/8 [01:14<00:00,  9.32s/it]\n",
      "                 Class     Images  Instances      Box(P          R      mAP50  mAP50-95): 100%|██████████| 4/4 [00:24<00:00,  6.06s/it]"
     ]
    },
    {
     "name": "stdout",
     "output_type": "stream",
     "text": [
      "                   all        128        929      0.681      0.556      0.631      0.467\n"
     ]
    },
    {
     "name": "stderr",
     "output_type": "stream",
     "text": [
      "\n"
     ]
    },
    {
     "name": "stdout",
     "output_type": "stream",
     "text": [
      "\n",
      "      Epoch    GPU_mem   box_loss   cls_loss   dfl_loss  Instances       Size\n"
     ]
    },
    {
     "name": "stderr",
     "output_type": "stream",
     "text": [
      "       3/10         0G      1.165       1.39      1.195        108        640: 100%|██████████| 8/8 [01:16<00:00,  9.55s/it]\n",
      "                 Class     Images  Instances      Box(P          R      mAP50  mAP50-95): 100%|██████████| 4/4 [00:26<00:00,  6.68s/it]"
     ]
    },
    {
     "name": "stdout",
     "output_type": "stream",
     "text": [
      "                   all        128        929      0.693      0.558      0.639      0.476\n"
     ]
    },
    {
     "name": "stderr",
     "output_type": "stream",
     "text": [
      "\n"
     ]
    },
    {
     "name": "stdout",
     "output_type": "stream",
     "text": [
      "\n",
      "      Epoch    GPU_mem   box_loss   cls_loss   dfl_loss  Instances       Size\n"
     ]
    },
    {
     "name": "stderr",
     "output_type": "stream",
     "text": [
      "       4/10         0G       1.13      1.223      1.181        104        640: 100%|██████████| 8/8 [01:24<00:00, 10.52s/it]\n",
      "                 Class     Images  Instances      Box(P          R      mAP50  mAP50-95): 100%|██████████| 4/4 [01:24<00:00, 21.13s/it]\n"
     ]
    },
    {
     "name": "stdout",
     "output_type": "stream",
     "text": [
      "                   all        128        929      0.704      0.583       0.66      0.492\n",
      "\n",
      "      Epoch    GPU_mem   box_loss   cls_loss   dfl_loss  Instances       Size\n"
     ]
    },
    {
     "name": "stderr",
     "output_type": "stream",
     "text": [
      "       5/10         0G      1.105       1.24      1.174         52        640: 100%|██████████| 8/8 [04:33<00:00, 34.15s/it]\n",
      "                 Class     Images  Instances      Box(P          R      mAP50  mAP50-95): 100%|██████████| 4/4 [01:22<00:00, 20.65s/it]\n"
     ]
    },
    {
     "name": "stdout",
     "output_type": "stream",
     "text": [
      "                   all        128        929      0.706      0.598      0.667      0.499\n",
      "\n",
      "      Epoch    GPU_mem   box_loss   cls_loss   dfl_loss  Instances       Size\n"
     ]
    },
    {
     "name": "stderr",
     "output_type": "stream",
     "text": [
      "       6/10         0G      1.112      1.224       1.17        101        640: 100%|██████████| 8/8 [02:42<00:00, 20.31s/it]\n",
      "                 Class     Images  Instances      Box(P          R      mAP50  mAP50-95): 100%|██████████| 4/4 [01:00<00:00, 15.07s/it]\n"
     ]
    },
    {
     "name": "stdout",
     "output_type": "stream",
     "text": [
      "                   all        128        929      0.702      0.624      0.677      0.507\n",
      "\n",
      "      Epoch    GPU_mem   box_loss   cls_loss   dfl_loss  Instances       Size\n"
     ]
    },
    {
     "name": "stderr",
     "output_type": "stream",
     "text": [
      "       7/10         0G      1.068      1.159      1.135        194        640: 100%|██████████| 8/8 [03:02<00:00, 22.79s/it]\n",
      "                 Class     Images  Instances      Box(P          R      mAP50  mAP50-95): 100%|██████████| 4/4 [01:29<00:00, 22.44s/it]\n"
     ]
    },
    {
     "name": "stdout",
     "output_type": "stream",
     "text": [
      "                   all        128        929       0.71      0.614      0.688      0.515\n",
      "\n",
      "      Epoch    GPU_mem   box_loss   cls_loss   dfl_loss  Instances       Size\n"
     ]
    },
    {
     "name": "stderr",
     "output_type": "stream",
     "text": [
      "       8/10         0G      1.092      1.198      1.163        147        640: 100%|██████████| 8/8 [02:41<00:00, 20.16s/it]\n",
      "                 Class     Images  Instances      Box(P          R      mAP50  mAP50-95): 100%|██████████| 4/4 [01:05<00:00, 16.37s/it]\n"
     ]
    },
    {
     "name": "stdout",
     "output_type": "stream",
     "text": [
      "                   all        128        929      0.708       0.62      0.703      0.522\n",
      "\n",
      "      Epoch    GPU_mem   box_loss   cls_loss   dfl_loss  Instances       Size\n"
     ]
    },
    {
     "name": "stderr",
     "output_type": "stream",
     "text": [
      "       9/10         0G      1.104      1.104      1.151        100        640: 100%|██████████| 8/8 [02:42<00:00, 20.27s/it]\n",
      "                 Class     Images  Instances      Box(P          R      mAP50  mAP50-95): 100%|██████████| 4/4 [00:52<00:00, 13.20s/it]\n"
     ]
    },
    {
     "name": "stdout",
     "output_type": "stream",
     "text": [
      "                   all        128        929      0.706      0.619      0.704      0.526\n",
      "\n",
      "      Epoch    GPU_mem   box_loss   cls_loss   dfl_loss  Instances       Size\n"
     ]
    },
    {
     "name": "stderr",
     "output_type": "stream",
     "text": [
      "      10/10         0G      1.063      1.124      1.129        107        640: 100%|██████████| 8/8 [02:28<00:00, 18.52s/it]\n",
      "                 Class     Images  Instances      Box(P          R      mAP50  mAP50-95): 100%|██████████| 4/4 [00:51<00:00, 12.91s/it]\n"
     ]
    },
    {
     "name": "stdout",
     "output_type": "stream",
     "text": [
      "                   all        128        929      0.713      0.626      0.706      0.528\n",
      "\n",
      "10 epochs completed in 0.589 hours.\n",
      "Optimizer stripped from runs\\detect\\train4\\weights\\last.pt, 6.5MB\n",
      "Optimizer stripped from runs\\detect\\train4\\weights\\best.pt, 6.5MB\n",
      "\n",
      "Validating runs\\detect\\train4\\weights\\best.pt...\n",
      "Ultralytics 8.3.152  Python-3.11.8 torch-2.7.1+cpu CPU (11th Gen Intel Core(TM) i5-1135G7 2.40GHz)\n",
      "Model summary (fused): 72 layers, 3,151,904 parameters, 0 gradients, 8.7 GFLOPs\n"
     ]
    },
    {
     "name": "stderr",
     "output_type": "stream",
     "text": [
      "                 Class     Images  Instances      Box(P          R      mAP50  mAP50-95): 100%|██████████| 4/4 [00:38<00:00,  9.70s/it]\n"
     ]
    },
    {
     "name": "stdout",
     "output_type": "stream",
     "text": [
      "                   all        128        929      0.713      0.624      0.706      0.528\n",
      "                person         61        254      0.861       0.65      0.774      0.565\n",
      "               bicycle          3          6          1       0.33      0.379      0.315\n",
      "                   car         12         46      0.703      0.217      0.325      0.202\n",
      "            motorcycle          4          5      0.682        0.8       0.92       0.74\n",
      "              airplane          5          6       0.84          1      0.972      0.844\n",
      "                   bus          5          7      0.775      0.714      0.723      0.666\n",
      "                 train          3          3       0.72      0.881      0.913       0.73\n",
      "                 truck          5         12      0.956        0.5      0.545      0.358\n",
      "                  boat          2          6      0.713      0.333      0.648      0.424\n",
      "         traffic light          4         14      0.535      0.143      0.148      0.141\n",
      "             stop sign          2          2      0.699          1      0.995      0.651\n",
      "                 bench          5          9      0.802       0.45      0.634       0.46\n",
      "                  bird          2         16      0.874      0.867      0.944      0.668\n",
      "                   cat          4          4      0.907          1      0.995      0.778\n",
      "                   dog          9          9      0.595      0.889      0.925      0.758\n",
      "                 horse          1          2      0.515          1      0.995      0.597\n",
      "              elephant          4         17      0.756      0.912      0.943      0.729\n",
      "                  bear          1          1      0.478          1      0.995      0.995\n",
      "                 zebra          2          4      0.866          1      0.995      0.972\n",
      "               giraffe          4          9       0.84          1      0.984      0.757\n",
      "              backpack          4          6      0.655      0.333      0.371       0.25\n",
      "              umbrella          4         18      0.664      0.659       0.67      0.448\n",
      "               handbag          9         19          1      0.102      0.305      0.156\n",
      "                   tie          6          7      0.786      0.714      0.764      0.569\n",
      "              suitcase          2          4      0.832          1      0.995      0.622\n",
      "               frisbee          5          5       0.68        0.8      0.799      0.689\n",
      "                  skis          1          1      0.894          1      0.995      0.448\n",
      "             snowboard          2          7      0.557      0.714      0.751      0.523\n",
      "           sports ball          6          6      0.558      0.225       0.53      0.335\n",
      "                  kite          2         10      0.713        0.4      0.582      0.179\n",
      "          baseball bat          4          4      0.764        0.5      0.497      0.273\n",
      "        baseball glove          4          7      0.872      0.429      0.431      0.304\n",
      "            skateboard          3          5      0.454        0.6      0.616      0.458\n",
      "         tennis racket          5          7      0.622      0.286      0.536      0.311\n",
      "                bottle          6         18      0.609      0.347      0.411      0.271\n",
      "            wine glass          5         16      0.673        0.5      0.709      0.358\n",
      "                   cup         10         36      0.641      0.278      0.455      0.331\n",
      "                  fork          6          6       0.63      0.167      0.293      0.258\n",
      "                 knife          7         16      0.769      0.562      0.672      0.382\n",
      "                 spoon          5         22      0.704      0.318       0.43      0.261\n",
      "                  bowl          9         28      0.696      0.737      0.736       0.59\n",
      "                banana          1          1          0          0      0.332     0.0426\n",
      "              sandwich          2          2      0.799          1      0.995      0.995\n",
      "                orange          1          4      0.787      0.937      0.895      0.594\n",
      "              broccoli          4         11       0.61      0.286       0.38      0.281\n",
      "                carrot          3         24       0.65       0.75       0.81      0.508\n",
      "               hot dog          1          2      0.526          1      0.828      0.828\n",
      "                 pizza          5          5          1      0.999      0.995      0.811\n",
      "                 donut          2         14      0.538          1      0.924      0.852\n",
      "                  cake          4          4      0.807          1      0.995      0.921\n",
      "                 chair          9         35      0.529      0.513      0.515      0.317\n",
      "                 couch          5          6      0.609      0.667      0.751      0.576\n",
      "          potted plant          9         14      0.591      0.714      0.752      0.518\n",
      "                   bed          3          3      0.946          1      0.995      0.797\n",
      "          dining table         10         13      0.484      0.538       0.55      0.457\n",
      "                toilet          2          2          1      0.882      0.995      0.946\n",
      "                    tv          2          2       0.74          1      0.995      0.945\n",
      "                laptop          2          3      0.818      0.667       0.83      0.749\n",
      "                 mouse          2          2          1          0     0.0436    0.00436\n",
      "                remote          5          8       0.91        0.5      0.639       0.56\n",
      "            cell phone          5          8      0.128     0.0481     0.0824     0.0481\n",
      "             microwave          3          3      0.703      0.667      0.913      0.807\n",
      "                  oven          5          5      0.501        0.4      0.388      0.304\n",
      "                  sink          4          6      0.587      0.254      0.343      0.234\n",
      "          refrigerator          5          5       0.64        0.6      0.853       0.69\n",
      "                  book          6         29      0.589      0.198      0.452      0.238\n",
      "                 clock          8          9      0.882      0.838      0.896      0.774\n",
      "                  vase          2          2      0.666          1      0.995      0.895\n",
      "              scissors          1          1          1          0      0.995      0.305\n",
      "            teddy bear          6         21      0.879      0.571      0.739      0.506\n",
      "            toothbrush          2          5      0.824      0.945      0.962      0.647\n",
      "Speed: 5.3ms preprocess, 249.9ms inference, 0.0ms loss, 17.1ms postprocess per image\n",
      "Results saved to \u001b[1mruns\\detect\\train4\u001b[0m\n"
     ]
    }
   ],
   "source": [
    "from ultralytics import YOLO\n",
    "# Load a model\n",
    "model = YOLO(\"yolov8n.pt\")  # load a pretrained model\n",
    "\n",
    "# Train the model on CPU\n",
    "results = model.train(data=\"coco128.yaml\", epochs=10, device=\"cpu\")"
   ]
  },
  {
   "cell_type": "code",
   "execution_count": 5,
   "id": "5dbb7c7d",
   "metadata": {},
   "outputs": [
    {
     "name": "stdout",
     "output_type": "stream",
     "text": [
      "\n",
      "image 1/1 d:\\Git\\Complete ML Repo\\Ultralytics\\image.jpg: 384x640 1 person, 98.1ms\n",
      "Speed: 3.7ms preprocess, 98.1ms inference, 2.0ms postprocess per image at shape (1, 3, 384, 640)\n"
     ]
    }
   ],
   "source": [
    "from ultralytics import YOLO\n",
    "\n",
    "# Load a model\n",
    "model = YOLO(\"yolov8n.pt\")  # load a pretrained model\n",
    "\n",
    "# Predict on CPU\n",
    "results = model.predict(source=\"image.jpg\", device=\"cpu\",show=True)"
   ]
  },
  {
   "cell_type": "code",
   "execution_count": 6,
   "id": "7cc53ae3",
   "metadata": {},
   "outputs": [],
   "source": [
    "results_img = results[0].plot()"
   ]
  },
  {
   "cell_type": "code",
   "execution_count": 12,
   "id": "438d95c3",
   "metadata": {},
   "outputs": [
    {
     "data": {
      "text/plain": [
       "(1080, 1920, 3)"
      ]
     },
     "execution_count": 12,
     "metadata": {},
     "output_type": "execute_result"
    }
   ],
   "source": [
    "results_img.shape"
   ]
  },
  {
   "cell_type": "code",
   "execution_count": 10,
   "id": "858584e7",
   "metadata": {},
   "outputs": [
    {
     "data": {
      "text/plain": [
       "<Figure size 640x480 with 1 Axes>"
      ]
     },
     "metadata": {},
     "output_type": "display_data"
    }
   ],
   "source": [
    "import matplotlib.pyplot as plt\n",
    "plt.imshow(results_img)\n",
    "plt.axis('off')\n",
    "plt.show()"
   ]
  },
  {
   "cell_type": "code",
   "execution_count": null,
   "id": "3f99da1b",
   "metadata": {},
   "outputs": [],
   "source": []
  }
 ],
 "metadata": {
  "kernelspec": {
   "display_name": "ev",
   "language": "python",
   "name": "python3"
  },
  "language_info": {
   "codemirror_mode": {
    "name": "ipython",
    "version": 3
   },
   "file_extension": ".py",
   "mimetype": "text/x-python",
   "name": "python",
   "nbconvert_exporter": "python",
   "pygments_lexer": "ipython3",
   "version": "3.11.8"
  }
 },
 "nbformat": 4,
 "nbformat_minor": 5
}
