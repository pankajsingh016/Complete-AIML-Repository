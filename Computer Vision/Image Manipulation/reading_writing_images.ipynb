{
 "cells": [
  {
   "cell_type": "code",
   "execution_count": 1,
   "id": "b9782ef6-cdf6-46b3-bd09-5db36ae910b9",
   "metadata": {},
   "outputs": [],
   "source": [
    "import numpy as np\n",
    "import pandas as pd\n",
    "import cv2"
   ]
  },
  {
   "cell_type": "code",
   "execution_count": 2,
   "id": "da92dff0-b8a0-4150-917a-6913b7630e65",
   "metadata": {},
   "outputs": [],
   "source": [
    "image = cv2.imread(\"./images/img_1.jpg\")"
   ]
  },
  {
   "cell_type": "code",
   "execution_count": 3,
   "id": "64898b16-b18a-4fd2-9900-7961a1517fdc",
   "metadata": {},
   "outputs": [
    {
     "name": "stdout",
     "output_type": "stream",
     "text": [
      "Image Loaded Successfully\n"
     ]
    }
   ],
   "source": [
    "if image is None:\n",
    "    print(\"Error\")\n",
    "else:\n",
    "    print(\"Image Loaded Successfully\")"
   ]
  },
  {
   "cell_type": "code",
   "execution_count": 4,
   "id": "e88c8cc1-57a3-46b2-858d-9d2f5ff3980a",
   "metadata": {},
   "outputs": [],
   "source": [
    "cv2.imshow(\"image_1\",image)\n",
    "cv2.waitKey(0)\n",
    "cv2.destroyAllWindows()"
   ]
  },
  {
   "cell_type": "code",
   "execution_count": 6,
   "id": "3fb50f66-0584-4c72-a475-cd78c7bb8efa",
   "metadata": {},
   "outputs": [],
   "source": [
    "imgnew = image + 30"
   ]
  },
  {
   "cell_type": "code",
   "execution_count": 15,
   "id": "cb5ac56f-a906-40ca-9f42-112a92f24a28",
   "metadata": {},
   "outputs": [
    {
     "data": {
      "text/plain": [
       "True"
      ]
     },
     "execution_count": 15,
     "metadata": {},
     "output_type": "execute_result"
    }
   ],
   "source": [
    "cv2.imwrite('./images/img_1_edit.jpg',imgnew)"
   ]
  },
  {
   "cell_type": "code",
   "execution_count": 16,
   "id": "94bd5b2a-7c58-4b09-97e3-0f6f157ca82f",
   "metadata": {},
   "outputs": [],
   "source": [
    "from PIL import Image"
   ]
  },
  {
   "cell_type": "code",
   "execution_count": 17,
   "id": "d740056b-08e4-4bd8-b1db-5bb08911662a",
   "metadata": {},
   "outputs": [],
   "source": [
    "img = Image.open('./images/img_1_edit.jpg')"
   ]
  },
  {
   "cell_type": "code",
   "execution_count": 18,
   "id": "d4605943-f2a0-4c63-b5c4-8ab1fdf8ffd3",
   "metadata": {},
   "outputs": [],
   "source": [
    "img.show()"
   ]
  },
  {
   "cell_type": "code",
   "execution_count": null,
   "id": "4debd12b-c2a6-430f-bc0c-8bd8521bae13",
   "metadata": {},
   "outputs": [],
   "source": []
  }
 ],
 "metadata": {
  "kernelspec": {
   "display_name": "Python 3 (ipykernel)",
   "language": "python",
   "name": "python3"
  },
  "language_info": {
   "codemirror_mode": {
    "name": "ipython",
    "version": 3
   },
   "file_extension": ".py",
   "mimetype": "text/x-python",
   "name": "python",
   "nbconvert_exporter": "python",
   "pygments_lexer": "ipython3",
   "version": "3.11.8"
  }
 },
 "nbformat": 4,
 "nbformat_minor": 5
}
