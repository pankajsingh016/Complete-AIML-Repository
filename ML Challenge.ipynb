{
 "cells": [
  {
   "cell_type": "markdown",
   "id": "652ef49d",
   "metadata": {},
   "source": [
    "### Day 4 ML Challenge Question"
   ]
  },
  {
   "cell_type": "markdown",
   "id": "934537e2",
   "metadata": {},
   "source": [
    "#### Use plotly Library for this Problem statement\n",
    "1. What is Plotly?\n",
    "2. Where it is used?\n",
    "3. Make a Pie Chart of Indian Best Selling Car market share % values:. max(6 Companies )\n",
    "4. Plot a Bar Chart with India's Covid 19 Acitve Cases( Max 10 States)\n",
    "5. Plot a Line Chart with India's active Covid-19 case recovery ( maximum 12 Months )"
   ]
  },
  {
   "cell_type": "code",
   "execution_count": null,
   "id": "54ea17d4",
   "metadata": {},
   "outputs": [],
   "source": []
  }
 ],
 "metadata": {
  "kernelspec": {
   "display_name": "Python 3",
   "language": "python",
   "name": "python3"
  },
  "language_info": {
   "codemirror_mode": {
    "name": "ipython",
    "version": 3
   },
   "file_extension": ".py",
   "mimetype": "text/x-python",
   "name": "python",
   "nbconvert_exporter": "python",
   "pygments_lexer": "ipython3",
   "version": "3.9.5"
  }
 },
 "nbformat": 4,
 "nbformat_minor": 5
}
